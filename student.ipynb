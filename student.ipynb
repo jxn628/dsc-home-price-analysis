{
 "cells": [
  {
   "cell_type": "markdown",
   "metadata": {},
   "source": [
    "Please fill out:\n",
    "* Student name: \n",
    "* Student pace: self paced / part time / full time\n",
    "* Scheduled project review date/time: \n",
    "* Instructor name: \n",
    "* Blog post URL:\n"
   ]
  },
  {
   "cell_type": "markdown",
   "metadata": {
    "ExecuteTime": {
     "end_time": "2021-12-02T16:44:47.051467Z",
     "start_time": "2021-12-02T16:44:47.047666Z"
    }
   },
   "source": [
    "# Phase 2 Project"
   ]
  },
  {
   "cell_type": "markdown",
   "metadata": {},
   "source": [
    "### Importing Data"
   ]
  },
  {
   "cell_type": "code",
   "execution_count": null,
   "metadata": {
    "ExecuteTime": {
     "end_time": "2021-12-09T21:53:27.220572Z",
     "start_time": "2021-12-09T21:53:26.158599Z"
    }
   },
   "outputs": [],
   "source": [
    "import pandas as pd\n",
    "import seaborn as sns\n",
    "import numpy as np\n",
    "import matplotlib.pyplot as plt\n",
    "%matplotlib inline\n",
    "import statsmodels.api as sm\n",
    "from statsmodels.formula.api import ols\n",
    "from sklearn.preprocessing import LabelEncoder\n",
    "from sklearn.preprocessing import OneHotEncoder"
   ]
  },
  {
   "cell_type": "markdown",
   "metadata": {},
   "source": [
    "#### Formatting Cell"
   ]
  },
  {
   "cell_type": "code",
   "execution_count": null,
   "metadata": {
    "ExecuteTime": {
     "end_time": "2021-12-09T21:53:27.223112Z",
     "start_time": "2021-12-09T21:53:27.221642Z"
    }
   },
   "outputs": [],
   "source": [
    "pd.set_option('display.max_rows', 1000) #change the amount of rows displayed"
   ]
  },
  {
   "cell_type": "code",
   "execution_count": null,
   "metadata": {
    "ExecuteTime": {
     "end_time": "2021-12-09T21:53:27.265490Z",
     "start_time": "2021-12-09T21:53:27.224379Z"
    }
   },
   "outputs": [],
   "source": [
    "df = pd.read_csv('Data/kc_house_data.csv')\n",
    "df.head()"
   ]
  },
  {
   "cell_type": "markdown",
   "metadata": {
    "ExecuteTime": {
     "end_time": "2021-12-02T17:31:03.783782Z",
     "start_time": "2021-12-02T17:31:03.758213Z"
    }
   },
   "source": [
    "### Column Names and descriptions for Kings County Data Set\n",
    "(source: Data/column_names.md)\n",
    "* **id** - unique identified for a house\n",
    "* **dateDate** - house was sold\n",
    "* **pricePrice** -  is prediction target\n",
    "* **bedroomsNumber** -  of Bedrooms/House\n",
    "* **bathroomsNumber** -  of bathrooms/bedrooms\n",
    "* **sqft_livingsquare** -  footage of the home\n",
    "* **sqft_lotsquare** -  footage of the lot\n",
    "* **floorsTotal** -  floors (levels) in house\n",
    "* **waterfront** - House which has a view to a waterfront\n",
    "* **view** - Has been viewed\n",
    "* **condition** - How good the condition is ( Overall )\n",
    "* **grade** - overall grade given to the housing unit, based on King County grading system\n",
    "* **sqft_above** - square footage of house apart from basement\n",
    "* **sqft_basement** - square footage of the basement\n",
    "* **yr_built** - Built Year\n",
    "* **yr_renovated** - Year when house was renovated\n",
    "* **zipcode** - zip\n",
    "* **lat** - Latitude coordinate\n",
    "* **long** - Longitude coordinate\n",
    "* **sqft_living15** - The square footage of interior housing living space for the nearest 15 neighbors\n",
    "* **sqft_lot15** - The square footage of the land lots of the nearest 15 neighbors\n",
    "D"
   ]
  },
  {
   "cell_type": "markdown",
   "metadata": {},
   "source": [
    "## Data Cleaning"
   ]
  },
  {
   "cell_type": "markdown",
   "metadata": {},
   "source": [
    "### Dropping Uncessary Columns"
   ]
  },
  {
   "cell_type": "code",
   "execution_count": null,
   "metadata": {
    "ExecuteTime": {
     "end_time": "2021-12-09T21:53:27.268240Z",
     "start_time": "2021-12-09T21:53:27.266789Z"
    }
   },
   "outputs": [],
   "source": [
    "#df = df.drop(df[['id', 'date', 'view', 'lat', 'long', 'yr_renovated', 'sqft_living15', 'sqft_lot15']], axis=1)\n",
    "#df.head()"
   ]
  },
  {
   "cell_type": "code",
   "execution_count": null,
   "metadata": {
    "ExecuteTime": {
     "end_time": "2021-12-09T21:53:27.279408Z",
     "start_time": "2021-12-09T21:53:27.269183Z"
    }
   },
   "outputs": [],
   "source": [
    "#seeing what the model looks like if I leave in sqft_living15 and sqft_lot15\n",
    "df = df.drop(df[['id', 'date', 'view', 'lat', 'long', 'yr_renovated']], axis=1)\n",
    "df.head()"
   ]
  },
  {
   "cell_type": "markdown",
   "metadata": {},
   "source": [
    "### Checking Data Types"
   ]
  },
  {
   "cell_type": "code",
   "execution_count": null,
   "metadata": {
    "ExecuteTime": {
     "end_time": "2021-12-09T21:53:27.287317Z",
     "start_time": "2021-12-09T21:53:27.280333Z"
    }
   },
   "outputs": [],
   "source": [
    "df.info()"
   ]
  },
  {
   "cell_type": "markdown",
   "metadata": {},
   "source": [
    "#### Removing the ? in sqft_basement"
   ]
  },
  {
   "cell_type": "code",
   "execution_count": null,
   "metadata": {
    "ExecuteTime": {
     "end_time": "2021-12-09T21:53:27.295684Z",
     "start_time": "2021-12-09T21:53:27.288244Z"
    }
   },
   "outputs": [],
   "source": [
    "basement_size = df['sqft_basement'].value_counts()\n",
    "basement_size"
   ]
  },
  {
   "cell_type": "code",
   "execution_count": null,
   "metadata": {
    "ExecuteTime": {
     "end_time": "2021-12-09T21:53:27.304718Z",
     "start_time": "2021-12-09T21:53:27.298573Z"
    }
   },
   "outputs": [],
   "source": [
    "unknown_basements = df[df['sqft_basement'] == '?']\n",
    "known_basements = df[df['sqft_basement'] != '?']\n",
    "\n",
    "print(len(unknown_basements))\n",
    "print(len(known_basements))"
   ]
  },
  {
   "cell_type": "code",
   "execution_count": null,
   "metadata": {
    "ExecuteTime": {
     "end_time": "2021-12-09T21:53:27.319178Z",
     "start_time": "2021-12-09T21:53:27.306304Z"
    }
   },
   "outputs": [],
   "source": [
    "sqft_basement = unknown_basements.apply(lambda x: x['sqft_living'] - x['sqft_above'], axis=1)\n",
    "unknown_basements['sqft_basement'] = sqft_basement\n",
    "unknown_basements.head()"
   ]
  },
  {
   "cell_type": "code",
   "execution_count": null,
   "metadata": {
    "ExecuteTime": {
     "end_time": "2021-12-09T21:53:27.331052Z",
     "start_time": "2021-12-09T21:53:27.320115Z"
    }
   },
   "outputs": [],
   "source": [
    "cleaned_df = known_basements.append(unknown_basements)\n",
    "cleaned_df.head()"
   ]
  },
  {
   "cell_type": "code",
   "execution_count": null,
   "metadata": {
    "ExecuteTime": {
     "end_time": "2021-12-09T21:53:27.337348Z",
     "start_time": "2021-12-09T21:53:27.331941Z"
    }
   },
   "outputs": [],
   "source": [
    "#changing to float so that decminals are in the same format\n",
    "cleaned_df['sqft_basement'] = cleaned_df['sqft_basement'].astype(float)\n",
    "cleaned_df['sqft_above'] = cleaned_df['sqft_above'].astype(float)"
   ]
  },
  {
   "cell_type": "code",
   "execution_count": null,
   "metadata": {
    "ExecuteTime": {
     "end_time": "2021-12-09T21:53:27.342416Z",
     "start_time": "2021-12-09T21:53:27.338485Z"
    }
   },
   "outputs": [],
   "source": [
    "cleaned_df['sqft_basement'].value_counts().head()"
   ]
  },
  {
   "cell_type": "markdown",
   "metadata": {},
   "source": [
    "#### Changing Zip Code to Category"
   ]
  },
  {
   "cell_type": "code",
   "execution_count": null,
   "metadata": {
    "ExecuteTime": {
     "end_time": "2021-12-09T21:53:27.345962Z",
     "start_time": "2021-12-09T21:53:27.343306Z"
    }
   },
   "outputs": [],
   "source": [
    "print(len(df['zipcode'].value_counts()))"
   ]
  },
  {
   "cell_type": "code",
   "execution_count": null,
   "metadata": {
    "ExecuteTime": {
     "end_time": "2021-12-09T21:53:27.365014Z",
     "start_time": "2021-12-09T21:53:27.346910Z"
    }
   },
   "outputs": [],
   "source": [
    "cleaned_df['zipcode'] = df['zipcode'].astype(str)"
   ]
  },
  {
   "cell_type": "code",
   "execution_count": null,
   "metadata": {
    "ExecuteTime": {
     "end_time": "2021-12-09T21:53:27.371653Z",
     "start_time": "2021-12-09T21:53:27.365950Z"
    }
   },
   "outputs": [],
   "source": [
    "cleaned_df['zipcode'].value_counts().head()"
   ]
  },
  {
   "cell_type": "markdown",
   "metadata": {},
   "source": [
    "### Dropping Bedroom Outliers"
   ]
  },
  {
   "cell_type": "code",
   "execution_count": null,
   "metadata": {
    "ExecuteTime": {
     "end_time": "2021-12-09T21:53:27.376195Z",
     "start_time": "2021-12-09T21:53:27.372690Z"
    }
   },
   "outputs": [],
   "source": [
    "cleaned_df['bedrooms'].value_counts()"
   ]
  },
  {
   "cell_type": "code",
   "execution_count": null,
   "metadata": {
    "ExecuteTime": {
     "end_time": "2021-12-09T21:53:27.390733Z",
     "start_time": "2021-12-09T21:53:27.377062Z"
    }
   },
   "outputs": [],
   "source": [
    "#dropping outliers\n",
    "cleaned_df = cleaned_df.sort_values('bedrooms', ascending=False).reset_index()\n",
    "cleaned_df = cleaned_df.drop([0,1,2,3,4])\n",
    "cleaned_df.head(5)"
   ]
  },
  {
   "cell_type": "code",
   "execution_count": null,
   "metadata": {
    "ExecuteTime": {
     "end_time": "2021-12-09T21:53:27.398467Z",
     "start_time": "2021-12-09T21:53:27.391720Z"
    }
   },
   "outputs": [],
   "source": [
    "cleaned_df.info()"
   ]
  },
  {
   "cell_type": "markdown",
   "metadata": {},
   "source": [
    "### Exploring Data with Scatter Plot"
   ]
  },
  {
   "cell_type": "code",
   "execution_count": null,
   "metadata": {
    "ExecuteTime": {
     "end_time": "2021-12-09T21:53:43.843547Z",
     "start_time": "2021-12-09T21:53:27.399400Z"
    }
   },
   "outputs": [],
   "source": [
    "#using scatter plot to look for linear relationships\n",
    "pd.plotting.scatter_matrix(cleaned_df, figsize = [20,20]);\n",
    "plt.show()"
   ]
  },
  {
   "cell_type": "markdown",
   "metadata": {},
   "source": [
    "### Analysis:\n",
    "At first glance, the following variables seem to have linear relationships:\n",
    "- price with bedrooms, sqft_above, & sqft_basement.\n",
    "    - price also seems to have a linear relationship with categorical variable 'grade'.\n",
    "- bedrooms with bathrooms, sqft_living, sqft_above, & sqft_basement\n",
    "- sqft_living and sqft_above have the closest linear relationship\n",
    "    - They are very similar data points. I may need to eliminate one to prevent multicolinearity.\n",
    "    \n",
    "The Following Variables seem to be categorical:\n",
    "- floors\n",
    "- waterfront\n",
    "- condition\n",
    "- zip code (not shown because I have already made it an object)\n",
    "\n",
    "Ordinal Variables:\n",
    "- bedrooms\n",
    "- bathrooms\n",
    "\n"
   ]
  },
  {
   "cell_type": "markdown",
   "metadata": {},
   "source": [
    "### What To Do with the Ordinal Values\n",
    "\n",
    "I am going to treat grade as a continuous variable as it has very linear relationships with many features. Including price."
   ]
  },
  {
   "cell_type": "markdown",
   "metadata": {},
   "source": [
    "## Checking for Null Values"
   ]
  },
  {
   "cell_type": "code",
   "execution_count": null,
   "metadata": {
    "ExecuteTime": {
     "end_time": "2021-12-09T21:53:43.849946Z",
     "start_time": "2021-12-09T21:53:43.844575Z"
    }
   },
   "outputs": [],
   "source": [
    "cleaned_df.isna().sum()"
   ]
  },
  {
   "cell_type": "code",
   "execution_count": null,
   "metadata": {
    "ExecuteTime": {
     "end_time": "2021-12-09T21:53:43.856849Z",
     "start_time": "2021-12-09T21:53:43.850813Z"
    }
   },
   "outputs": [],
   "source": [
    "cleaned_df.info()"
   ]
  },
  {
   "cell_type": "markdown",
   "metadata": {},
   "source": [
    "## Fixing Waterfront"
   ]
  },
  {
   "cell_type": "code",
   "execution_count": null,
   "metadata": {
    "ExecuteTime": {
     "end_time": "2021-12-09T21:53:43.860679Z",
     "start_time": "2021-12-09T21:53:43.857736Z"
    }
   },
   "outputs": [],
   "source": [
    "cleaned_df['waterfront'].value_counts()"
   ]
  },
  {
   "cell_type": "code",
   "execution_count": null,
   "metadata": {
    "ExecuteTime": {
     "end_time": "2021-12-09T21:53:43.866299Z",
     "start_time": "2021-12-09T21:53:43.864558Z"
    }
   },
   "outputs": [],
   "source": [
    "waterfront_cleaned = cleaned_df['waterfront'].fillna(0) "
   ]
  },
  {
   "cell_type": "code",
   "execution_count": null,
   "metadata": {
    "ExecuteTime": {
     "end_time": "2021-12-09T21:53:43.870567Z",
     "start_time": "2021-12-09T21:53:43.868918Z"
    }
   },
   "outputs": [],
   "source": [
    "cleaned_df['waterfront'] = waterfront_cleaned"
   ]
  },
  {
   "cell_type": "code",
   "execution_count": null,
   "metadata": {
    "ExecuteTime": {
     "end_time": "2021-12-09T21:53:43.874627Z",
     "start_time": "2021-12-09T21:53:43.871472Z"
    }
   },
   "outputs": [],
   "source": [
    "cleaned_df['waterfront'].value_counts()"
   ]
  },
  {
   "cell_type": "code",
   "execution_count": null,
   "metadata": {
    "ExecuteTime": {
     "end_time": "2021-12-09T21:53:43.879788Z",
     "start_time": "2021-12-09T21:53:43.875413Z"
    }
   },
   "outputs": [],
   "source": [
    "cleaned_df.isna().sum()"
   ]
  },
  {
   "cell_type": "markdown",
   "metadata": {},
   "source": [
    "# Test Model with no scaling/etc"
   ]
  },
  {
   "cell_type": "code",
   "execution_count": null,
   "metadata": {
    "ExecuteTime": {
     "end_time": "2021-12-09T21:53:43.882080Z",
     "start_time": "2021-12-09T21:53:43.880673Z"
    }
   },
   "outputs": [],
   "source": [
    "test_df = cleaned_df\n",
    "#test_df.head()"
   ]
  },
  {
   "cell_type": "code",
   "execution_count": null,
   "metadata": {
    "ExecuteTime": {
     "end_time": "2021-12-09T21:53:43.884329Z",
     "start_time": "2021-12-09T21:53:43.883022Z"
    }
   },
   "outputs": [],
   "source": [
    "#df = df.reset_index()\n",
    "#df = df.rename(columns={\"index\":\"new_id\"})\n",
    "#df"
   ]
  },
  {
   "cell_type": "code",
   "execution_count": null,
   "metadata": {
    "ExecuteTime": {
     "end_time": "2021-12-09T21:53:43.887834Z",
     "start_time": "2021-12-09T21:53:43.885246Z"
    }
   },
   "outputs": [],
   "source": [
    "X = test_df.drop(['price', 'zipcode'], axis=1)\n",
    "y = test_df['price']"
   ]
  },
  {
   "cell_type": "code",
   "execution_count": null,
   "metadata": {
    "ExecuteTime": {
     "end_time": "2021-12-09T21:53:43.946379Z",
     "start_time": "2021-12-09T21:53:43.888793Z"
    }
   },
   "outputs": [],
   "source": [
    "X_int = sm.add_constant(X)\n",
    "model = sm.OLS(y,X_int).fit()\n",
    "model.summary()"
   ]
  },
  {
   "cell_type": "markdown",
   "metadata": {},
   "source": [
    "## Test Normalization"
   ]
  },
  {
   "cell_type": "code",
   "execution_count": null,
   "metadata": {
    "ExecuteTime": {
     "end_time": "2021-12-09T21:53:43.951202Z",
     "start_time": "2021-12-09T21:53:43.947484Z"
    }
   },
   "outputs": [],
   "source": [
    "def norm_feat(series):\n",
    "    return (series - series.mean())/series.std()"
   ]
  },
  {
   "cell_type": "code",
   "execution_count": null,
   "metadata": {
    "ExecuteTime": {
     "end_time": "2021-12-09T21:53:43.961972Z",
     "start_time": "2021-12-09T21:53:43.952375Z"
    }
   },
   "outputs": [],
   "source": [
    "data= test_df\n",
    "data.head()"
   ]
  },
  {
   "cell_type": "code",
   "execution_count": null,
   "metadata": {
    "ExecuteTime": {
     "end_time": "2021-12-09T21:53:43.970629Z",
     "start_time": "2021-12-09T21:53:43.963154Z"
    }
   },
   "outputs": [],
   "source": [
    "data.info()"
   ]
  },
  {
   "cell_type": "code",
   "execution_count": null,
   "metadata": {
    "ExecuteTime": {
     "end_time": "2021-12-09T21:53:43.976074Z",
     "start_time": "2021-12-09T21:53:43.972254Z"
    }
   },
   "outputs": [],
   "source": [
    "data = data.drop('zipcode', axis=1)"
   ]
  },
  {
   "cell_type": "code",
   "execution_count": null,
   "metadata": {
    "ExecuteTime": {
     "end_time": "2021-12-09T21:53:43.994921Z",
     "start_time": "2021-12-09T21:53:43.977377Z"
    }
   },
   "outputs": [],
   "source": [
    "df_norm = norm_feat(data)\n",
    "df_norm.head()"
   ]
  },
  {
   "cell_type": "markdown",
   "metadata": {},
   "source": [
    "## Test Model with Test Normalized Data"
   ]
  },
  {
   "cell_type": "code",
   "execution_count": null,
   "metadata": {
    "ExecuteTime": {
     "end_time": "2021-12-09T21:53:44.000834Z",
     "start_time": "2021-12-09T21:53:43.996003Z"
    }
   },
   "outputs": [],
   "source": [
    "X = df_norm.drop('price', axis=1)\n",
    "y = df_norm['price']"
   ]
  },
  {
   "cell_type": "code",
   "execution_count": null,
   "metadata": {
    "ExecuteTime": {
     "end_time": "2021-12-09T21:53:44.056491Z",
     "start_time": "2021-12-09T21:53:44.002615Z"
    }
   },
   "outputs": [],
   "source": [
    "X_int = sm.add_constant(X)\n",
    "model = sm.OLS(y,X_int).fit()\n",
    "model.summary()"
   ]
  },
  {
   "cell_type": "markdown",
   "metadata": {},
   "source": [
    "# Data Exploration"
   ]
  },
  {
   "cell_type": "markdown",
   "metadata": {},
   "source": [
    "## Building Condition Explaination\n",
    "https://info.kingcounty.gov/assessor/esales/Glossary.aspx?type=r#d (accessed 12/6/2021)\n",
    "\n",
    "Relative to age and grade. Coded 1-5.\n",
    "\n",
    "1 = Poor- Worn out. Repair and overhaul needed on painted surfaces, roofing, plumbing, heating and numerous functional inadequacies. Excessive deferred maintenance and abuse, limited value-in-use, approaching abandonment or major reconstruction; reuse or change in occupancy is imminent. Effective age is near the end of the scale regardless of the actual chronological age.\n",
    "\n",
    "2 = Fair- Badly worn. Much repair needed. Many items need refinishing or overhauling, deferred maintenance obvious, inadequate building utility and systems all shortening the life expectancy and increasing the effective age.\n",
    "\n",
    "3 = Average- Some evidence of deferred maintenance and normal obsolescence with age in that a few minor repairs are needed, along with some refinishing. All major components still functional and contributing toward an extended life expectancy. Effective age and utility is standard for like properties of its class and usage.\n",
    "\n",
    "4 = Good- No obvious maintenance required but neither is everything new. Appearance and utility are above the standard and the overall effective age will be lower than the typical property.\n",
    "\n",
    "5= Very Good- All items well maintained, many having been overhauled and repaired as they have shown signs of wear, increasing the life expectancy and lowering the effective age with little deterioration or obsolescence evident with a high degree of utility.\n"
   ]
  },
  {
   "cell_type": "code",
   "execution_count": null,
   "metadata": {
    "ExecuteTime": {
     "end_time": "2021-12-09T21:53:44.061123Z",
     "start_time": "2021-12-09T21:53:44.057535Z"
    }
   },
   "outputs": [],
   "source": [
    "cleaned_df['condition'].value_counts()"
   ]
  },
  {
   "cell_type": "markdown",
   "metadata": {},
   "source": [
    "## Building Grade Explaination\n",
    "https://info.kingcounty.gov/assessor/esales/Glossary.aspx?type=r#d (accessed 12/6/2021)\n",
    "\n",
    "\n",
    "Represents the construction quality of improvements. Grades run from grade 1 to 13. Generally defined as:\n",
    "\n",
    "1-3 Falls short of minimum building standards. Normally cabin or inferior structure.\n",
    "\n",
    "4 Generally older, low quality construction. Does not meet code.\n",
    "\n",
    "5 Low construction costs and workmanship. Small, simple design.\n",
    "\n",
    "6 Lowest grade currently meeting building code. Low quality materials and simple designs.\n",
    "\n",
    "7 Average grade of construction and design. Commonly seen in plats and older sub-divisions.\n",
    "\n",
    "8 Just above average in construction and design. Usually better materials in both the exterior and interior finish work.\n",
    "\n",
    "9 Better architectural design with extra interior and exterior design and quality.\n",
    "\n",
    "10 Homes of this quality generally have high quality features. Finish work is better and more design quality is seen in the floor plans. Generally have a larger square footage.\n",
    "\n",
    "11 Custom design and higher quality finish work with added amenities of solid woods, bathroom fixtures and more luxurious options.\n",
    "\n",
    "12 Custom design and excellent builders. All materials are of the highest quality and all conveniences are present.\n",
    "\n",
    "13 Generally custom designed and built. Mansion level. Large amount of highest quality cabinet work, wood trim, marble, entry ways etc."
   ]
  },
  {
   "cell_type": "markdown",
   "metadata": {},
   "source": [
    "## Should I Drop Low Grade Houses?"
   ]
  },
  {
   "cell_type": "code",
   "execution_count": null,
   "metadata": {
    "ExecuteTime": {
     "end_time": "2021-12-09T21:53:44.065609Z",
     "start_time": "2021-12-09T21:53:44.062164Z"
    }
   },
   "outputs": [],
   "source": [
    "cleaned_df['grade'].value_counts()"
   ]
  },
  {
   "cell_type": "markdown",
   "metadata": {},
   "source": [
    "I am only concerned with houses that currently meet the building code, so I will drop the houses which are grade 5 or lower"
   ]
  },
  {
   "cell_type": "code",
   "execution_count": null,
   "metadata": {
    "ExecuteTime": {
     "end_time": "2021-12-09T21:53:44.075402Z",
     "start_time": "2021-12-09T21:53:44.066609Z"
    }
   },
   "outputs": [],
   "source": [
    "low_grade = cleaned_df[cleaned_df['grade'] <= 5]\n",
    "low_grade.head()"
   ]
  },
  {
   "cell_type": "code",
   "execution_count": null,
   "metadata": {
    "ExecuteTime": {
     "end_time": "2021-12-09T21:53:44.080150Z",
     "start_time": "2021-12-09T21:53:44.076330Z"
    }
   },
   "outputs": [],
   "source": [
    "low_grade['condition'].value_counts()"
   ]
  },
  {
   "cell_type": "code",
   "execution_count": null,
   "metadata": {
    "ExecuteTime": {
     "end_time": "2021-12-09T21:53:44.085775Z",
     "start_time": "2021-12-09T21:53:44.081934Z"
    }
   },
   "outputs": [],
   "source": [
    "low_grade['waterfront'].value_counts()"
   ]
  },
  {
   "cell_type": "markdown",
   "metadata": {},
   "source": [
    "## Checking for Multicolinearity"
   ]
  },
  {
   "cell_type": "code",
   "execution_count": null,
   "metadata": {
    "ExecuteTime": {
     "end_time": "2021-12-09T21:53:44.093898Z",
     "start_time": "2021-12-09T21:53:44.086872Z"
    }
   },
   "outputs": [],
   "source": [
    "cleaned_df.head(1)"
   ]
  },
  {
   "cell_type": "code",
   "execution_count": null,
   "metadata": {
    "ExecuteTime": {
     "end_time": "2021-12-09T21:53:44.097772Z",
     "start_time": "2021-12-09T21:53:44.095054Z"
    }
   },
   "outputs": [],
   "source": [
    "#numeric variables\n",
    "numeric_vars= ['bedrooms', 'bathrooms', 'sqft_living', 'sqft_lot', 'floors', 'waterfront',\n",
    "'condition', 'grade', 'sqft_above', 'sqft_basement', 'sqft_living15', 'sqft_lot15']\n",
    "numeric_vars"
   ]
  },
  {
   "cell_type": "code",
   "execution_count": null,
   "metadata": {
    "ExecuteTime": {
     "end_time": "2021-12-09T21:53:44.107784Z",
     "start_time": "2021-12-09T21:53:44.098832Z"
    }
   },
   "outputs": [],
   "source": [
    "king_preprocessed = cleaned_df.loc[:,numeric_vars]\n",
    "king_preprocessed.head()"
   ]
  },
  {
   "cell_type": "code",
   "execution_count": null,
   "metadata": {
    "ExecuteTime": {
     "end_time": "2021-12-09T21:53:54.963492Z",
     "start_time": "2021-12-09T21:53:44.109175Z"
    }
   },
   "outputs": [],
   "source": [
    "#scatter matrix for numeric variables\n",
    "pd.plotting.scatter_matrix(king_preprocessed, figsize=[20, 20]);"
   ]
  },
  {
   "cell_type": "code",
   "execution_count": null,
   "metadata": {
    "ExecuteTime": {
     "end_time": "2021-12-09T21:53:54.976395Z",
     "start_time": "2021-12-09T21:53:54.964399Z"
    }
   },
   "outputs": [],
   "source": [
    "#correlation matrix\n",
    "king_preprocessed.corr()"
   ]
  },
  {
   "cell_type": "code",
   "execution_count": null,
   "metadata": {
    "ExecuteTime": {
     "end_time": "2021-12-09T21:53:54.990170Z",
     "start_time": "2021-12-09T21:53:54.977221Z"
    }
   },
   "outputs": [],
   "source": [
    "abs(king_preprocessed.corr()) > 0.75"
   ]
  },
  {
   "cell_type": "code",
   "execution_count": null,
   "metadata": {
    "ExecuteTime": {
     "end_time": "2021-12-09T21:53:55.006372Z",
     "start_time": "2021-12-09T21:53:54.991123Z"
    }
   },
   "outputs": [],
   "source": [
    "cc_df = king_preprocessed.corr().abs().stack().reset_index().sort_values(0, ascending=False)\n",
    "\n",
    "cc_df['pairs'] = list(zip(cc_df.level_0, cc_df.level_1))\n",
    "\n",
    "cc_df.set_index(['pairs'], inplace = True)\n",
    "\n",
    "cc_df.drop(columns=['level_1', 'level_0'], inplace = True)\n",
    "\n",
    "# cc for correlation coefficient\n",
    "cc_df.columns = ['cc']\n",
    "\n",
    "cc_df.drop_duplicates(inplace=True)\n",
    "\n",
    "cc_df[(cc_df.cc>.75) & (cc_df.cc<1)]"
   ]
  },
  {
   "cell_type": "markdown",
   "metadata": {
    "ExecuteTime": {
     "end_time": "2021-12-08T18:32:04.005455Z",
     "start_time": "2021-12-08T18:32:04.002348Z"
    }
   },
   "source": [
    "I need to remove some of these variables to prevent multicolineartiy. \n"
   ]
  },
  {
   "cell_type": "markdown",
   "metadata": {},
   "source": [
    "### Multicollinearity Analysis\n",
    "\n",
    "There are 4 sets of variables that are highly correlated.  "
   ]
  },
  {
   "cell_type": "code",
   "execution_count": null,
   "metadata": {
    "ExecuteTime": {
     "end_time": "2021-12-09T21:53:55.009345Z",
     "start_time": "2021-12-09T21:53:55.007555Z"
    }
   },
   "outputs": [],
   "source": [
    "#removing these two variables removes all of the colinearity pairs\n",
    "#king_preprocessed.drop(columns=['sqft_above', 'sqft_living'], inplace=True)"
   ]
  },
  {
   "cell_type": "code",
   "execution_count": null,
   "metadata": {
    "ExecuteTime": {
     "end_time": "2021-12-09T21:53:55.013807Z",
     "start_time": "2021-12-09T21:53:55.010923Z"
    }
   },
   "outputs": [],
   "source": [
    "king_preprocessed.drop(columns=['sqft_above'], inplace=True)"
   ]
  },
  {
   "cell_type": "code",
   "execution_count": null,
   "metadata": {
    "ExecuteTime": {
     "end_time": "2021-12-09T21:53:55.026959Z",
     "start_time": "2021-12-09T21:53:55.014822Z"
    }
   },
   "outputs": [],
   "source": [
    "#checking for correlated pairs again\n",
    "cc_df = king_preprocessed.corr().abs().stack().reset_index().sort_values(0, ascending=False)\n",
    "\n",
    "cc_df['pairs'] = list(zip(cc_df.level_0, cc_df.level_1))\n",
    "\n",
    "cc_df.set_index(['pairs'], inplace = True)\n",
    "\n",
    "cc_df.drop(columns=['level_1', 'level_0'], inplace = True)\n",
    "\n",
    "# cc for correlation coefficient\n",
    "cc_df.columns = ['cc']\n",
    "\n",
    "cc_df.drop_duplicates(inplace=True)\n",
    "\n",
    "cc_df[(cc_df.cc>.75) & (cc_df.cc<1)]"
   ]
  },
  {
   "cell_type": "code",
   "execution_count": null,
   "metadata": {
    "ExecuteTime": {
     "end_time": "2021-12-09T21:53:55.038266Z",
     "start_time": "2021-12-09T21:53:55.027845Z"
    }
   },
   "outputs": [],
   "source": [
    "king_preprocessed"
   ]
  },
  {
   "cell_type": "markdown",
   "metadata": {
    "ExecuteTime": {
     "end_time": "2021-12-09T21:47:51.906216Z",
     "start_time": "2021-12-09T21:47:51.901692Z"
    }
   },
   "source": [
    "## Check VIF Scores!!!!"
   ]
  },
  {
   "cell_type": "markdown",
   "metadata": {},
   "source": [
    "## Normalizing Data"
   ]
  },
  {
   "cell_type": "code",
   "execution_count": null,
   "metadata": {
    "ExecuteTime": {
     "end_time": "2021-12-09T21:53:55.041104Z",
     "start_time": "2021-12-09T21:53:55.039364Z"
    }
   },
   "outputs": [],
   "source": [
    "def norm_feat(series):\n",
    "    return (series - series.mean())/series.std()"
   ]
  },
  {
   "cell_type": "code",
   "execution_count": null,
   "metadata": {
    "ExecuteTime": {
     "end_time": "2021-12-09T21:53:55.056930Z",
     "start_time": "2021-12-09T21:53:55.042010Z"
    }
   },
   "outputs": [],
   "source": [
    "data = norm_feat(king_preprocessed)\n",
    "data"
   ]
  },
  {
   "cell_type": "code",
   "execution_count": null,
   "metadata": {
    "ExecuteTime": {
     "end_time": "2021-12-09T21:53:55.072470Z",
     "start_time": "2021-12-09T21:53:55.057910Z"
    }
   },
   "outputs": [],
   "source": [
    "df_norm = norm_feat(data)\n",
    "df_norm"
   ]
  },
  {
   "cell_type": "code",
   "execution_count": null,
   "metadata": {
    "ExecuteTime": {
     "end_time": "2021-12-09T21:57:42.380988Z",
     "start_time": "2021-12-09T21:57:22.444877Z"
    }
   },
   "outputs": [],
   "source": [
    "sns.pairplot(df_norm)"
   ]
  },
  {
   "cell_type": "code",
   "execution_count": null,
   "metadata": {
    "ExecuteTime": {
     "end_time": "2021-12-09T19:23:17.045625Z",
     "start_time": "2021-12-09T19:23:17.044127Z"
    }
   },
   "outputs": [],
   "source": [
    "#sns.heatmap(df_norm);"
   ]
  },
  {
   "cell_type": "code",
   "execution_count": null,
   "metadata": {
    "ExecuteTime": {
     "end_time": "2021-12-09T19:23:17.047741Z",
     "start_time": "2021-12-09T19:23:17.046502Z"
    }
   },
   "outputs": [],
   "source": [
    "#data_pred = df_norm"
   ]
  },
  {
   "cell_type": "markdown",
   "metadata": {},
   "source": [
    "## Plotting Categoricals and then One-Hot Encoding them"
   ]
  },
  {
   "cell_type": "markdown",
   "metadata": {},
   "source": [
    "## Dealing with Zip Code\n",
    "I Need to get Zipcode back in the dataframe so that I can encode it.\n",
    "Maybe I should do the One Hot Encoding much earlier in my workflow."
   ]
  },
  {
   "cell_type": "code",
   "execution_count": null,
   "metadata": {
    "ExecuteTime": {
     "end_time": "2021-12-09T19:23:17.051048Z",
     "start_time": "2021-12-09T19:23:17.048588Z"
    }
   },
   "outputs": [],
   "source": [
    "#categoricals = df_norm[['bedrooms', 'bathrooms', 'floors','condition', 'waterfront', 'grade']]"
   ]
  },
  {
   "cell_type": "code",
   "execution_count": null,
   "metadata": {
    "ExecuteTime": {
     "end_time": "2021-12-09T21:58:57.270795Z",
     "start_time": "2021-12-09T21:58:57.250322Z"
    }
   },
   "outputs": [],
   "source": []
  },
  {
   "cell_type": "code",
   "execution_count": null,
   "metadata": {
    "ExecuteTime": {
     "end_time": "2021-12-09T22:00:51.304753Z",
     "start_time": "2021-12-09T22:00:51.296855Z"
    }
   },
   "outputs": [],
   "source": [
    "#categoricals = df_norm[['floors','waterfront', 'grade']]"
   ]
  },
  {
   "cell_type": "code",
   "execution_count": null,
   "metadata": {
    "ExecuteTime": {
     "end_time": "2021-12-09T22:00:53.838313Z",
     "start_time": "2021-12-09T22:00:53.833920Z"
    }
   },
   "outputs": [],
   "source": [
    "#categoricals.head()"
   ]
  },
  {
   "cell_type": "code",
   "execution_count": null,
   "metadata": {
    "ExecuteTime": {
     "end_time": "2021-12-09T19:23:17.067556Z",
     "start_time": "2021-12-09T19:23:17.057804Z"
    }
   },
   "outputs": [],
   "source": [
    "#king_preprocessed"
   ]
  },
  {
   "cell_type": "code",
   "execution_count": null,
   "metadata": {
    "ExecuteTime": {
     "end_time": "2021-12-09T22:01:27.782888Z",
     "start_time": "2021-12-09T22:01:27.442799Z"
    }
   },
   "outputs": [],
   "source": [
    "fig, axes = plt.subplots(nrows=2, ncols=3, figsize=(20,10), sharey=True)\n",
    "\n",
    "for col, ax in zip(categoricals, axes.flatten()):\n",
    "    (king_preprocessed.groupby(col)               # group values together by column of interest\n",
    "         .mean()['price']        # take the mean of the saleprice for each group\n",
    "         .sort_values()              # sort the groups in ascending order\n",
    "         .plot\n",
    "         .bar(ax=ax))                # create a bar graph on the ax\n",
    "    \n",
    "    ax.set_title(col)                # Make the title the name of the column\n",
    "    \n",
    "fig.tight_layout()\n"
   ]
  },
  {
   "cell_type": "code",
   "execution_count": null,
   "metadata": {
    "ExecuteTime": {
     "end_time": "2021-12-09T19:23:17.552294Z",
     "start_time": "2021-12-09T19:22:42.325Z"
    }
   },
   "outputs": [],
   "source": [
    "#sns.heatmap(categoricals)"
   ]
  },
  {
   "cell_type": "code",
   "execution_count": null,
   "metadata": {
    "ExecuteTime": {
     "end_time": "2021-12-09T19:23:17.552900Z",
     "start_time": "2021-12-09T19:22:42.327Z"
    }
   },
   "outputs": [],
   "source": [
    "#correlation matrix. \n",
    "#df.corr()"
   ]
  },
  {
   "cell_type": "code",
   "execution_count": null,
   "metadata": {
    "ExecuteTime": {
     "end_time": "2021-12-09T19:23:17.553512Z",
     "start_time": "2021-12-09T19:22:42.328Z"
    }
   },
   "outputs": [],
   "source": [
    "#df_pred_222 = abs(df.corr() > 0.75)"
   ]
  },
  {
   "cell_type": "markdown",
   "metadata": {},
   "source": [
    "### One Hot Encoding"
   ]
  },
  {
   "cell_type": "code",
   "execution_count": null,
   "metadata": {
    "ExecuteTime": {
     "end_time": "2021-12-09T22:02:53.769443Z",
     "start_time": "2021-12-09T22:02:53.692383Z"
    }
   },
   "outputs": [],
   "source": [
    "feats = ['floors', 'waterfront', 'condition']\n",
    "feats_df = king_preprocessed[feats].astype(str)\n",
    "encoded_df = pd.get_dummies(feats_df, drop_first=True)\n",
    "encoded_df.head()"
   ]
  },
  {
   "cell_type": "code",
   "execution_count": null,
   "metadata": {
    "ExecuteTime": {
     "end_time": "2021-12-09T19:25:42.332437Z",
     "start_time": "2021-12-09T19:25:42.304730Z"
    }
   },
   "outputs": [],
   "source": [
    "df = pd.get_dummies(feats_df, drop_first=True)\n",
    "df"
   ]
  },
  {
   "cell_type": "code",
   "execution_count": null,
   "metadata": {
    "ExecuteTime": {
     "end_time": "2021-12-09T19:23:17.555163Z",
     "start_time": "2021-12-09T19:22:42.333Z"
    }
   },
   "outputs": [],
   "source": [
    "df"
   ]
  },
  {
   "cell_type": "code",
   "execution_count": null,
   "metadata": {
    "ExecuteTime": {
     "end_time": "2021-12-09T19:23:17.555717Z",
     "start_time": "2021-12-09T19:22:42.334Z"
    }
   },
   "outputs": [],
   "source": [
    "pd.get_dummies(feats_df, )"
   ]
  },
  {
   "cell_type": "code",
   "execution_count": null,
   "metadata": {
    "ExecuteTime": {
     "end_time": "2021-12-09T19:23:17.556324Z",
     "start_time": "2021-12-09T19:22:42.336Z"
    }
   },
   "outputs": [],
   "source": [
    "pd.get_dummies(king_preprocessed.grade)"
   ]
  },
  {
   "cell_type": "code",
   "execution_count": null,
   "metadata": {
    "ExecuteTime": {
     "end_time": "2021-12-09T19:23:17.556884Z",
     "start_time": "2021-12-09T19:22:42.337Z"
    }
   },
   "outputs": [],
   "source": [
    "#trying sklearn method\n",
    "ohe = OneHotEncoder(drop='first')"
   ]
  },
  {
   "cell_type": "code",
   "execution_count": null,
   "metadata": {
    "ExecuteTime": {
     "end_time": "2021-12-09T19:23:17.557400Z",
     "start_time": "2021-12-09T19:22:42.338Z"
    }
   },
   "outputs": [],
   "source": [
    "king_preprocessed.head(1)"
   ]
  },
  {
   "cell_type": "code",
   "execution_count": null,
   "metadata": {
    "ExecuteTime": {
     "end_time": "2021-12-09T19:23:17.558022Z",
     "start_time": "2021-12-09T19:22:42.340Z"
    }
   },
   "outputs": [],
   "source": [
    "data_trans = ohe.fit_transform(king_preprocessed)\n",
    "data_trans.todense()"
   ]
  },
  {
   "cell_type": "code",
   "execution_count": null,
   "metadata": {
    "ExecuteTime": {
     "end_time": "2021-12-09T19:23:17.558566Z",
     "start_time": "2021-12-09T19:22:42.342Z"
    }
   },
   "outputs": [],
   "source": [
    "data_trans = pd.DataFrame(data_trans.todense(), columns=ohe.get_feature_names())\n",
    "data_trans.head()"
   ]
  },
  {
   "cell_type": "markdown",
   "metadata": {},
   "source": [
    "# Modeling"
   ]
  },
  {
   "cell_type": "code",
   "execution_count": null,
   "metadata": {},
   "outputs": [],
   "source": []
  },
  {
   "cell_type": "code",
   "execution_count": null,
   "metadata": {},
   "outputs": [],
   "source": []
  },
  {
   "cell_type": "markdown",
   "metadata": {},
   "source": [
    "# Archive"
   ]
  },
  {
   "cell_type": "code",
   "execution_count": null,
   "metadata": {
    "ExecuteTime": {
     "end_time": "2021-12-09T19:23:17.559039Z",
     "start_time": "2021-12-09T19:22:42.345Z"
    }
   },
   "outputs": [],
   "source": [
    "#df['waterfront'].value_counts()"
   ]
  },
  {
   "cell_type": "code",
   "execution_count": null,
   "metadata": {
    "ExecuteTime": {
     "end_time": "2021-12-09T19:23:17.559626Z",
     "start_time": "2021-12-09T19:22:42.346Z"
    }
   },
   "outputs": [],
   "source": [
    "#df['waterfront'] = df['waterfront'].astype('bool') #converting waterfront into boolean"
   ]
  },
  {
   "cell_type": "markdown",
   "metadata": {},
   "source": [
    "## Resetting IDs to make them shorter"
   ]
  },
  {
   "cell_type": "code",
   "execution_count": null,
   "metadata": {
    "ExecuteTime": {
     "end_time": "2021-12-09T19:22:59.000002Z",
     "start_time": "2021-12-09T19:22:58.997356Z"
    }
   },
   "outputs": [],
   "source": [
    "X = test_df.drop('price', axis=1)\n",
    "y = test_df['price']"
   ]
  }
 ],
 "metadata": {
  "kernelspec": {
   "display_name": "Python 3",
   "language": "python",
   "name": "python3"
  },
  "language_info": {
   "codemirror_mode": {
    "name": "ipython",
    "version": 3
   },
   "file_extension": ".py",
   "mimetype": "text/x-python",
   "name": "python",
   "nbconvert_exporter": "python",
   "pygments_lexer": "ipython3",
   "version": "3.8.5"
  },
  "toc": {
   "base_numbering": 1,
   "nav_menu": {},
   "number_sections": true,
   "sideBar": true,
   "skip_h1_title": false,
   "title_cell": "Table of Contents",
   "title_sidebar": "Contents",
   "toc_cell": false,
   "toc_position": {
    "height": "641px",
    "left": "231px",
    "top": "488.125px",
    "width": "212px"
   },
   "toc_section_display": true,
   "toc_window_display": true
  },
  "varInspector": {
   "cols": {
    "lenName": 16,
    "lenType": 16,
    "lenVar": 40
   },
   "kernels_config": {
    "python": {
     "delete_cmd_postfix": "",
     "delete_cmd_prefix": "del ",
     "library": "var_list.py",
     "varRefreshCmd": "print(var_dic_list())"
    },
    "r": {
     "delete_cmd_postfix": ") ",
     "delete_cmd_prefix": "rm(",
     "library": "var_list.r",
     "varRefreshCmd": "cat(var_dic_list()) "
    }
   },
   "types_to_exclude": [
    "module",
    "function",
    "builtin_function_or_method",
    "instance",
    "_Feature"
   ],
   "window_display": false
  }
 },
 "nbformat": 4,
 "nbformat_minor": 2
}
