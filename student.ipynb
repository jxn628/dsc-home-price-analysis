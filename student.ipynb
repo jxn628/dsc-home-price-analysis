{
 "cells": [
  {
   "cell_type": "markdown",
   "metadata": {},
   "source": [
    "Please fill out:\n",
    "* Student name: \n",
    "* Student pace: self paced / part time / full time\n",
    "* Scheduled project review date/time: \n",
    "* Instructor name: \n",
    "* Blog post URL:\n"
   ]
  },
  {
   "cell_type": "markdown",
   "metadata": {
    "ExecuteTime": {
     "end_time": "2021-12-02T16:44:47.051467Z",
     "start_time": "2021-12-02T16:44:47.047666Z"
    }
   },
   "source": [
    "# Phase 2 Project"
   ]
  },
  {
   "cell_type": "markdown",
   "metadata": {},
   "source": [
    "### Importing Data"
   ]
  },
  {
   "cell_type": "code",
   "execution_count": 1,
   "metadata": {
    "ExecuteTime": {
     "end_time": "2021-12-13T22:20:09.403253Z",
     "start_time": "2021-12-13T22:20:08.200679Z"
    }
   },
   "outputs": [
    {
     "data": {
      "text/html": [
       "<div>\n",
       "<style scoped>\n",
       "    .dataframe tbody tr th:only-of-type {\n",
       "        vertical-align: middle;\n",
       "    }\n",
       "\n",
       "    .dataframe tbody tr th {\n",
       "        vertical-align: top;\n",
       "    }\n",
       "\n",
       "    .dataframe thead th {\n",
       "        text-align: right;\n",
       "    }\n",
       "</style>\n",
       "<table border=\"1\" class=\"dataframe\">\n",
       "  <thead>\n",
       "    <tr style=\"text-align: right;\">\n",
       "      <th></th>\n",
       "      <th>id</th>\n",
       "      <th>date</th>\n",
       "      <th>price</th>\n",
       "      <th>bedrooms</th>\n",
       "      <th>bathrooms</th>\n",
       "      <th>sqft_living</th>\n",
       "      <th>sqft_lot</th>\n",
       "      <th>floors</th>\n",
       "      <th>waterfront</th>\n",
       "      <th>view</th>\n",
       "      <th>...</th>\n",
       "      <th>grade</th>\n",
       "      <th>sqft_above</th>\n",
       "      <th>sqft_basement</th>\n",
       "      <th>yr_built</th>\n",
       "      <th>yr_renovated</th>\n",
       "      <th>zipcode</th>\n",
       "      <th>lat</th>\n",
       "      <th>long</th>\n",
       "      <th>sqft_living15</th>\n",
       "      <th>sqft_lot15</th>\n",
       "    </tr>\n",
       "  </thead>\n",
       "  <tbody>\n",
       "    <tr>\n",
       "      <th>0</th>\n",
       "      <td>7129300520</td>\n",
       "      <td>10/13/2014</td>\n",
       "      <td>221900.0</td>\n",
       "      <td>3</td>\n",
       "      <td>1.00</td>\n",
       "      <td>1180</td>\n",
       "      <td>5650</td>\n",
       "      <td>1.0</td>\n",
       "      <td>NaN</td>\n",
       "      <td>0.0</td>\n",
       "      <td>...</td>\n",
       "      <td>7</td>\n",
       "      <td>1180</td>\n",
       "      <td>0.0</td>\n",
       "      <td>1955</td>\n",
       "      <td>0.0</td>\n",
       "      <td>98178</td>\n",
       "      <td>47.5112</td>\n",
       "      <td>-122.257</td>\n",
       "      <td>1340</td>\n",
       "      <td>5650</td>\n",
       "    </tr>\n",
       "    <tr>\n",
       "      <th>1</th>\n",
       "      <td>6414100192</td>\n",
       "      <td>12/9/2014</td>\n",
       "      <td>538000.0</td>\n",
       "      <td>3</td>\n",
       "      <td>2.25</td>\n",
       "      <td>2570</td>\n",
       "      <td>7242</td>\n",
       "      <td>2.0</td>\n",
       "      <td>0.0</td>\n",
       "      <td>0.0</td>\n",
       "      <td>...</td>\n",
       "      <td>7</td>\n",
       "      <td>2170</td>\n",
       "      <td>400.0</td>\n",
       "      <td>1951</td>\n",
       "      <td>1991.0</td>\n",
       "      <td>98125</td>\n",
       "      <td>47.7210</td>\n",
       "      <td>-122.319</td>\n",
       "      <td>1690</td>\n",
       "      <td>7639</td>\n",
       "    </tr>\n",
       "    <tr>\n",
       "      <th>2</th>\n",
       "      <td>5631500400</td>\n",
       "      <td>2/25/2015</td>\n",
       "      <td>180000.0</td>\n",
       "      <td>2</td>\n",
       "      <td>1.00</td>\n",
       "      <td>770</td>\n",
       "      <td>10000</td>\n",
       "      <td>1.0</td>\n",
       "      <td>0.0</td>\n",
       "      <td>0.0</td>\n",
       "      <td>...</td>\n",
       "      <td>6</td>\n",
       "      <td>770</td>\n",
       "      <td>0.0</td>\n",
       "      <td>1933</td>\n",
       "      <td>NaN</td>\n",
       "      <td>98028</td>\n",
       "      <td>47.7379</td>\n",
       "      <td>-122.233</td>\n",
       "      <td>2720</td>\n",
       "      <td>8062</td>\n",
       "    </tr>\n",
       "    <tr>\n",
       "      <th>3</th>\n",
       "      <td>2487200875</td>\n",
       "      <td>12/9/2014</td>\n",
       "      <td>604000.0</td>\n",
       "      <td>4</td>\n",
       "      <td>3.00</td>\n",
       "      <td>1960</td>\n",
       "      <td>5000</td>\n",
       "      <td>1.0</td>\n",
       "      <td>0.0</td>\n",
       "      <td>0.0</td>\n",
       "      <td>...</td>\n",
       "      <td>7</td>\n",
       "      <td>1050</td>\n",
       "      <td>910.0</td>\n",
       "      <td>1965</td>\n",
       "      <td>0.0</td>\n",
       "      <td>98136</td>\n",
       "      <td>47.5208</td>\n",
       "      <td>-122.393</td>\n",
       "      <td>1360</td>\n",
       "      <td>5000</td>\n",
       "    </tr>\n",
       "    <tr>\n",
       "      <th>4</th>\n",
       "      <td>1954400510</td>\n",
       "      <td>2/18/2015</td>\n",
       "      <td>510000.0</td>\n",
       "      <td>3</td>\n",
       "      <td>2.00</td>\n",
       "      <td>1680</td>\n",
       "      <td>8080</td>\n",
       "      <td>1.0</td>\n",
       "      <td>0.0</td>\n",
       "      <td>0.0</td>\n",
       "      <td>...</td>\n",
       "      <td>8</td>\n",
       "      <td>1680</td>\n",
       "      <td>0.0</td>\n",
       "      <td>1987</td>\n",
       "      <td>0.0</td>\n",
       "      <td>98074</td>\n",
       "      <td>47.6168</td>\n",
       "      <td>-122.045</td>\n",
       "      <td>1800</td>\n",
       "      <td>7503</td>\n",
       "    </tr>\n",
       "  </tbody>\n",
       "</table>\n",
       "<p>5 rows × 21 columns</p>\n",
       "</div>"
      ],
      "text/plain": [
       "           id        date     price  bedrooms  bathrooms  sqft_living  \\\n",
       "0  7129300520  10/13/2014  221900.0         3       1.00         1180   \n",
       "1  6414100192   12/9/2014  538000.0         3       2.25         2570   \n",
       "2  5631500400   2/25/2015  180000.0         2       1.00          770   \n",
       "3  2487200875   12/9/2014  604000.0         4       3.00         1960   \n",
       "4  1954400510   2/18/2015  510000.0         3       2.00         1680   \n",
       "\n",
       "   sqft_lot  floors  waterfront  view  ...  grade  sqft_above  sqft_basement  \\\n",
       "0      5650     1.0         NaN   0.0  ...      7        1180            0.0   \n",
       "1      7242     2.0         0.0   0.0  ...      7        2170          400.0   \n",
       "2     10000     1.0         0.0   0.0  ...      6         770            0.0   \n",
       "3      5000     1.0         0.0   0.0  ...      7        1050          910.0   \n",
       "4      8080     1.0         0.0   0.0  ...      8        1680            0.0   \n",
       "\n",
       "  yr_built  yr_renovated  zipcode      lat     long  sqft_living15  sqft_lot15  \n",
       "0     1955           0.0    98178  47.5112 -122.257           1340        5650  \n",
       "1     1951        1991.0    98125  47.7210 -122.319           1690        7639  \n",
       "2     1933           NaN    98028  47.7379 -122.233           2720        8062  \n",
       "3     1965           0.0    98136  47.5208 -122.393           1360        5000  \n",
       "4     1987           0.0    98074  47.6168 -122.045           1800        7503  \n",
       "\n",
       "[5 rows x 21 columns]"
      ]
     },
     "execution_count": 1,
     "metadata": {},
     "output_type": "execute_result"
    }
   ],
   "source": [
    "import pandas as pd\n",
    "import seaborn as sns\n",
    "import numpy as np\n",
    "import matplotlib.pyplot as plt\n",
    "%matplotlib inline\n",
    "import statsmodels.api as sm\n",
    "from statsmodels.stats.outliers_influence import variance_inflation_factor\n",
    "from statsmodels.tools.tools import add_constant\n",
    "from statsmodels.formula.api import ols\n",
    "from statsmodels.regression.linear_model import OLS\n",
    "from sklearn.preprocessing import LabelEncoder\n",
    "from sklearn.preprocessing import OneHotEncoder\n",
    "\n",
    "df = pd.read_csv('Data/kc_house_data.csv')\n",
    "df.head()"
   ]
  },
  {
   "cell_type": "markdown",
   "metadata": {},
   "source": [
    "#### Formatting Cell"
   ]
  },
  {
   "cell_type": "code",
   "execution_count": 2,
   "metadata": {
    "ExecuteTime": {
     "end_time": "2021-12-13T22:20:09.405919Z",
     "start_time": "2021-12-13T22:20:09.404337Z"
    }
   },
   "outputs": [],
   "source": [
    "pd.set_option('display.max_rows', 1000) #change the amount of rows displayed"
   ]
  },
  {
   "cell_type": "markdown",
   "metadata": {
    "ExecuteTime": {
     "end_time": "2021-12-10T18:38:01.028331Z",
     "start_time": "2021-12-10T18:38:01.023789Z"
    }
   },
   "source": [
    "## Glossary"
   ]
  },
  {
   "cell_type": "markdown",
   "metadata": {
    "ExecuteTime": {
     "end_time": "2021-12-02T17:31:03.783782Z",
     "start_time": "2021-12-02T17:31:03.758213Z"
    }
   },
   "source": [
    "### Column Names and descriptions for Kings County Data Set\n",
    "(source: Data/column_names.md)\n",
    "* **id** - unique identified for a house\n",
    "* **date** - house was sold\n",
    "* **price** -  is prediction target\n",
    "* **bedrooms** -  of Bedrooms/House\n",
    "* **bathrooms** -  of bathrooms/bedrooms\n",
    "* **sqft_livings** -  footage of the home\n",
    "* **sqft_lots** -  footage of the lot\n",
    "* **floors** -  floors (levels) in house\n",
    "* **waterfront** - House which has a view to a waterfront\n",
    "* **view** - Has been viewed\n",
    "* **condition** - How good the condition is ( Overall )\n",
    "* **grade** - overall grade given to the housing unit, based on King County grading system\n",
    "* **sqft_above** - square footage of house apart from basement\n",
    "* **sqft_basement** - square footage of the basement\n",
    "* **yr_built** - Built Year\n",
    "* **yr_renovated** - Year when house was renovated\n",
    "* **zipcode** - zip\n",
    "* **lat** - Latitude coordinate\n",
    "* **long** - Longitude coordinate\n",
    "* **sqft_living15** - The square footage of interior housing living space for the nearest 15 neighbors\n",
    "* **sqft_lot15** - The square footage of the land lots of the nearest 15 neighbors"
   ]
  },
  {
   "cell_type": "markdown",
   "metadata": {},
   "source": [
    "### Building Condition Explaination\n",
    "https://info.kingcounty.gov/assessor/esales/Glossary.aspx?type=r#d (accessed 12/6/2021)\n",
    "\n",
    "Relative to age and grade. Coded 1-5.\n",
    "\n",
    "1 = Poor- Worn out. Repair and overhaul needed on painted surfaces, roofing, plumbing, heating and numerous functional inadequacies. Excessive deferred maintenance and abuse, limited value-in-use, approaching abandonment or major reconstruction; reuse or change in occupancy is imminent. Effective age is near the end of the scale regardless of the actual chronological age.\n",
    "\n",
    "2 = Fair- Badly worn. Much repair needed. Many items need refinishing or overhauling, deferred maintenance obvious, inadequate building utility and systems all shortening the life expectancy and increasing the effective age.\n",
    "\n",
    "3 = Average- Some evidence of deferred maintenance and normal obsolescence with age in that a few minor repairs are needed, along with some refinishing. All major components still functional and contributing toward an extended life expectancy. Effective age and utility is standard for like properties of its class and usage.\n",
    "\n",
    "4 = Good- No obvious maintenance required but neither is everything new. Appearance and utility are above the standard and the overall effective age will be lower than the typical property.\n",
    "\n",
    "5= Very Good- All items well maintained, many having been overhauled and repaired as they have shown signs of wear, increasing the life expectancy and lowering the effective age with little deterioration or obsolescence evident with a high degree of utility.\n"
   ]
  },
  {
   "cell_type": "markdown",
   "metadata": {},
   "source": [
    "### Building Grade Explaination\n",
    "https://info.kingcounty.gov/assessor/esales/Glossary.aspx?type=r#d (accessed 12/6/2021)\n",
    "\n",
    "\n",
    "Represents the construction quality of improvements. Grades run from grade 1 to 13. Generally defined as:\n",
    "\n",
    "1-3 Falls short of minimum building standards. Normally cabin or inferior structure.\n",
    "\n",
    "4 Generally older, low quality construction. Does not meet code.\n",
    "\n",
    "5 Low construction costs and workmanship. Small, simple design.\n",
    "\n",
    "6 Lowest grade currently meeting building code. Low quality materials and simple designs.\n",
    "\n",
    "7 Average grade of construction and design. Commonly seen in plats and older sub-divisions.\n",
    "\n",
    "8 Just above average in construction and design. Usually better materials in both the exterior and interior finish work.\n",
    "\n",
    "9 Better architectural design with extra interior and exterior design and quality.\n",
    "\n",
    "10 Homes of this quality generally have high quality features. Finish work is better and more design quality is seen in the floor plans. Generally have a larger square footage.\n",
    "\n",
    "11 Custom design and higher quality finish work with added amenities of solid woods, bathroom fixtures and more luxurious options.\n",
    "\n",
    "12 Custom design and excellent builders. All materials are of the highest quality and all conveniences are present.\n",
    "\n",
    "13 Generally custom designed and built. Mansion level. Large amount of highest quality cabinet work, wood trim, marble, entry ways etc."
   ]
  },
  {
   "cell_type": "markdown",
   "metadata": {},
   "source": [
    "## Data Cleaning"
   ]
  },
  {
   "cell_type": "markdown",
   "metadata": {},
   "source": [
    "### Dropping Uncessary Columns"
   ]
  },
  {
   "cell_type": "code",
   "execution_count": 3,
   "metadata": {
    "ExecuteTime": {
     "end_time": "2021-12-13T22:20:09.416423Z",
     "start_time": "2021-12-13T22:20:09.407115Z"
    }
   },
   "outputs": [
    {
     "data": {
      "text/html": [
       "<div>\n",
       "<style scoped>\n",
       "    .dataframe tbody tr th:only-of-type {\n",
       "        vertical-align: middle;\n",
       "    }\n",
       "\n",
       "    .dataframe tbody tr th {\n",
       "        vertical-align: top;\n",
       "    }\n",
       "\n",
       "    .dataframe thead th {\n",
       "        text-align: right;\n",
       "    }\n",
       "</style>\n",
       "<table border=\"1\" class=\"dataframe\">\n",
       "  <thead>\n",
       "    <tr style=\"text-align: right;\">\n",
       "      <th></th>\n",
       "      <th>price</th>\n",
       "      <th>bedrooms</th>\n",
       "      <th>bathrooms</th>\n",
       "      <th>sqft_living</th>\n",
       "      <th>sqft_lot</th>\n",
       "      <th>floors</th>\n",
       "      <th>waterfront</th>\n",
       "      <th>condition</th>\n",
       "      <th>grade</th>\n",
       "      <th>sqft_above</th>\n",
       "      <th>sqft_basement</th>\n",
       "      <th>yr_built</th>\n",
       "      <th>zipcode</th>\n",
       "      <th>sqft_living15</th>\n",
       "      <th>sqft_lot15</th>\n",
       "    </tr>\n",
       "  </thead>\n",
       "  <tbody>\n",
       "    <tr>\n",
       "      <th>0</th>\n",
       "      <td>221900.0</td>\n",
       "      <td>3</td>\n",
       "      <td>1.00</td>\n",
       "      <td>1180</td>\n",
       "      <td>5650</td>\n",
       "      <td>1.0</td>\n",
       "      <td>NaN</td>\n",
       "      <td>3</td>\n",
       "      <td>7</td>\n",
       "      <td>1180</td>\n",
       "      <td>0.0</td>\n",
       "      <td>1955</td>\n",
       "      <td>98178</td>\n",
       "      <td>1340</td>\n",
       "      <td>5650</td>\n",
       "    </tr>\n",
       "    <tr>\n",
       "      <th>1</th>\n",
       "      <td>538000.0</td>\n",
       "      <td>3</td>\n",
       "      <td>2.25</td>\n",
       "      <td>2570</td>\n",
       "      <td>7242</td>\n",
       "      <td>2.0</td>\n",
       "      <td>0.0</td>\n",
       "      <td>3</td>\n",
       "      <td>7</td>\n",
       "      <td>2170</td>\n",
       "      <td>400.0</td>\n",
       "      <td>1951</td>\n",
       "      <td>98125</td>\n",
       "      <td>1690</td>\n",
       "      <td>7639</td>\n",
       "    </tr>\n",
       "    <tr>\n",
       "      <th>2</th>\n",
       "      <td>180000.0</td>\n",
       "      <td>2</td>\n",
       "      <td>1.00</td>\n",
       "      <td>770</td>\n",
       "      <td>10000</td>\n",
       "      <td>1.0</td>\n",
       "      <td>0.0</td>\n",
       "      <td>3</td>\n",
       "      <td>6</td>\n",
       "      <td>770</td>\n",
       "      <td>0.0</td>\n",
       "      <td>1933</td>\n",
       "      <td>98028</td>\n",
       "      <td>2720</td>\n",
       "      <td>8062</td>\n",
       "    </tr>\n",
       "    <tr>\n",
       "      <th>3</th>\n",
       "      <td>604000.0</td>\n",
       "      <td>4</td>\n",
       "      <td>3.00</td>\n",
       "      <td>1960</td>\n",
       "      <td>5000</td>\n",
       "      <td>1.0</td>\n",
       "      <td>0.0</td>\n",
       "      <td>5</td>\n",
       "      <td>7</td>\n",
       "      <td>1050</td>\n",
       "      <td>910.0</td>\n",
       "      <td>1965</td>\n",
       "      <td>98136</td>\n",
       "      <td>1360</td>\n",
       "      <td>5000</td>\n",
       "    </tr>\n",
       "    <tr>\n",
       "      <th>4</th>\n",
       "      <td>510000.0</td>\n",
       "      <td>3</td>\n",
       "      <td>2.00</td>\n",
       "      <td>1680</td>\n",
       "      <td>8080</td>\n",
       "      <td>1.0</td>\n",
       "      <td>0.0</td>\n",
       "      <td>3</td>\n",
       "      <td>8</td>\n",
       "      <td>1680</td>\n",
       "      <td>0.0</td>\n",
       "      <td>1987</td>\n",
       "      <td>98074</td>\n",
       "      <td>1800</td>\n",
       "      <td>7503</td>\n",
       "    </tr>\n",
       "  </tbody>\n",
       "</table>\n",
       "</div>"
      ],
      "text/plain": [
       "      price  bedrooms  bathrooms  sqft_living  sqft_lot  floors  waterfront  \\\n",
       "0  221900.0         3       1.00         1180      5650     1.0         NaN   \n",
       "1  538000.0         3       2.25         2570      7242     2.0         0.0   \n",
       "2  180000.0         2       1.00          770     10000     1.0         0.0   \n",
       "3  604000.0         4       3.00         1960      5000     1.0         0.0   \n",
       "4  510000.0         3       2.00         1680      8080     1.0         0.0   \n",
       "\n",
       "   condition  grade  sqft_above sqft_basement  yr_built  zipcode  \\\n",
       "0          3      7        1180           0.0      1955    98178   \n",
       "1          3      7        2170         400.0      1951    98125   \n",
       "2          3      6         770           0.0      1933    98028   \n",
       "3          5      7        1050         910.0      1965    98136   \n",
       "4          3      8        1680           0.0      1987    98074   \n",
       "\n",
       "   sqft_living15  sqft_lot15  \n",
       "0           1340        5650  \n",
       "1           1690        7639  \n",
       "2           2720        8062  \n",
       "3           1360        5000  \n",
       "4           1800        7503  "
      ]
     },
     "execution_count": 3,
     "metadata": {},
     "output_type": "execute_result"
    }
   ],
   "source": [
    "df = df.drop(df[['id', 'date', 'view', 'lat', 'long', 'yr_renovated']], axis=1)\n",
    "df.head()"
   ]
  },
  {
   "cell_type": "markdown",
   "metadata": {},
   "source": [
    "### Checking Data Types"
   ]
  },
  {
   "cell_type": "code",
   "execution_count": 4,
   "metadata": {
    "ExecuteTime": {
     "end_time": "2021-12-13T22:20:09.424451Z",
     "start_time": "2021-12-13T22:20:09.417664Z"
    }
   },
   "outputs": [
    {
     "name": "stdout",
     "output_type": "stream",
     "text": [
      "<class 'pandas.core.frame.DataFrame'>\n",
      "RangeIndex: 21597 entries, 0 to 21596\n",
      "Data columns (total 15 columns):\n",
      " #   Column         Non-Null Count  Dtype  \n",
      "---  ------         --------------  -----  \n",
      " 0   price          21597 non-null  float64\n",
      " 1   bedrooms       21597 non-null  int64  \n",
      " 2   bathrooms      21597 non-null  float64\n",
      " 3   sqft_living    21597 non-null  int64  \n",
      " 4   sqft_lot       21597 non-null  int64  \n",
      " 5   floors         21597 non-null  float64\n",
      " 6   waterfront     19221 non-null  float64\n",
      " 7   condition      21597 non-null  int64  \n",
      " 8   grade          21597 non-null  int64  \n",
      " 9   sqft_above     21597 non-null  int64  \n",
      " 10  sqft_basement  21597 non-null  object \n",
      " 11  yr_built       21597 non-null  int64  \n",
      " 12  zipcode        21597 non-null  int64  \n",
      " 13  sqft_living15  21597 non-null  int64  \n",
      " 14  sqft_lot15     21597 non-null  int64  \n",
      "dtypes: float64(4), int64(10), object(1)\n",
      "memory usage: 2.5+ MB\n"
     ]
    }
   ],
   "source": [
    "df.info()"
   ]
  },
  {
   "cell_type": "code",
   "execution_count": 5,
   "metadata": {
    "ExecuteTime": {
     "end_time": "2021-12-13T22:20:09.427039Z",
     "start_time": "2021-12-13T22:20:09.425372Z"
    }
   },
   "outputs": [],
   "source": [
    "#7 records have 3.5 floors. I could drop those records, or perhaps change the value of 3.0 to \"3 or more\"\n",
    "#df.sort_values('floors', ascending=False).head(100)"
   ]
  },
  {
   "cell_type": "markdown",
   "metadata": {},
   "source": [
    "#### Removing the ? in sqft_basement"
   ]
  },
  {
   "cell_type": "code",
   "execution_count": 6,
   "metadata": {
    "ExecuteTime": {
     "end_time": "2021-12-13T22:20:09.436594Z",
     "start_time": "2021-12-13T22:20:09.428529Z"
    }
   },
   "outputs": [
    {
     "name": "stdout",
     "output_type": "stream",
     "text": [
      "Unkown Basement: 454\n",
      "Known Basement: 21143\n"
     ]
    }
   ],
   "source": [
    "unknown_basements = df[df['sqft_basement'] == '?']\n",
    "known_basements = df[df['sqft_basement'] != '?']\n",
    "\n",
    "print('Unkown Basement:',(len(unknown_basements)))\n",
    "print('Known Basement:',(len(known_basements)))"
   ]
  },
  {
   "cell_type": "code",
   "execution_count": 7,
   "metadata": {
    "ExecuteTime": {
     "end_time": "2021-12-13T22:20:09.452580Z",
     "start_time": "2021-12-13T22:20:09.437470Z"
    }
   },
   "outputs": [
    {
     "name": "stderr",
     "output_type": "stream",
     "text": [
      "<ipython-input-7-1fc1beccaa25>:2: SettingWithCopyWarning: \n",
      "A value is trying to be set on a copy of a slice from a DataFrame.\n",
      "Try using .loc[row_indexer,col_indexer] = value instead\n",
      "\n",
      "See the caveats in the documentation: https://pandas.pydata.org/pandas-docs/stable/user_guide/indexing.html#returning-a-view-versus-a-copy\n",
      "  unknown_basements['sqft_basement'] = sqft_basement\n"
     ]
    },
    {
     "data": {
      "text/plain": [
       "0.0      13110\n",
       "600.0      221\n",
       "700.0      218\n",
       "500.0      214\n",
       "800.0      206\n",
       "Name: sqft_basement, dtype: int64"
      ]
     },
     "execution_count": 7,
     "metadata": {},
     "output_type": "execute_result"
    }
   ],
   "source": [
    "sqft_basement = unknown_basements.apply(lambda x: x['sqft_living'] - x['sqft_above'], axis=1)\n",
    "unknown_basements['sqft_basement'] = sqft_basement\n",
    "\n",
    "cleaned_df = known_basements.append(unknown_basements)\n",
    "\n",
    "#changing to float so that decminals are in the same format\n",
    "cleaned_df['sqft_basement'] = cleaned_df['sqft_basement'].astype(float)\n",
    "cleaned_df['sqft_above'] = cleaned_df['sqft_above'].astype(float)\n",
    "\n",
    "cleaned_df['sqft_basement'].value_counts().head()"
   ]
  },
  {
   "cell_type": "markdown",
   "metadata": {},
   "source": [
    "#### Changing Zip Code to Category"
   ]
  },
  {
   "cell_type": "code",
   "execution_count": 8,
   "metadata": {
    "ExecuteTime": {
     "end_time": "2021-12-13T22:20:09.477575Z",
     "start_time": "2021-12-13T22:20:09.454716Z"
    }
   },
   "outputs": [
    {
     "data": {
      "text/plain": [
       "98103    602\n",
       "98038    589\n",
       "98115    583\n",
       "98052    574\n",
       "98117    553\n",
       "Name: zipcode, dtype: int64"
      ]
     },
     "execution_count": 8,
     "metadata": {},
     "output_type": "execute_result"
    }
   ],
   "source": [
    "cleaned_df['zipcode'] = df['zipcode'].astype(str)\n",
    "cleaned_df['zipcode'].value_counts().head()"
   ]
  },
  {
   "cell_type": "markdown",
   "metadata": {},
   "source": [
    "### Dropping Bedroom Outliers"
   ]
  },
  {
   "cell_type": "code",
   "execution_count": 9,
   "metadata": {
    "ExecuteTime": {
     "end_time": "2021-12-13T22:20:09.480589Z",
     "start_time": "2021-12-13T22:20:09.479254Z"
    }
   },
   "outputs": [],
   "source": [
    "#cleaned_df['bedrooms'].value_counts()"
   ]
  },
  {
   "cell_type": "code",
   "execution_count": 10,
   "metadata": {
    "ExecuteTime": {
     "end_time": "2021-12-13T22:20:09.499991Z",
     "start_time": "2021-12-13T22:20:09.481483Z"
    }
   },
   "outputs": [
    {
     "data": {
      "text/html": [
       "<div>\n",
       "<style scoped>\n",
       "    .dataframe tbody tr th:only-of-type {\n",
       "        vertical-align: middle;\n",
       "    }\n",
       "\n",
       "    .dataframe tbody tr th {\n",
       "        vertical-align: top;\n",
       "    }\n",
       "\n",
       "    .dataframe thead th {\n",
       "        text-align: right;\n",
       "    }\n",
       "</style>\n",
       "<table border=\"1\" class=\"dataframe\">\n",
       "  <thead>\n",
       "    <tr style=\"text-align: right;\">\n",
       "      <th></th>\n",
       "      <th>index</th>\n",
       "      <th>price</th>\n",
       "      <th>bedrooms</th>\n",
       "      <th>bathrooms</th>\n",
       "      <th>sqft_living</th>\n",
       "      <th>sqft_lot</th>\n",
       "      <th>floors</th>\n",
       "      <th>waterfront</th>\n",
       "      <th>condition</th>\n",
       "      <th>grade</th>\n",
       "      <th>sqft_above</th>\n",
       "      <th>sqft_basement</th>\n",
       "      <th>yr_built</th>\n",
       "      <th>zipcode</th>\n",
       "      <th>sqft_living15</th>\n",
       "      <th>sqft_lot15</th>\n",
       "    </tr>\n",
       "  </thead>\n",
       "  <tbody>\n",
       "    <tr>\n",
       "      <th>3</th>\n",
       "      <td>19239</td>\n",
       "      <td>660000.0</td>\n",
       "      <td>10</td>\n",
       "      <td>3.00</td>\n",
       "      <td>2920</td>\n",
       "      <td>3745</td>\n",
       "      <td>2.0</td>\n",
       "      <td>0.0</td>\n",
       "      <td>4</td>\n",
       "      <td>7</td>\n",
       "      <td>1860.0</td>\n",
       "      <td>1060.0</td>\n",
       "      <td>1913</td>\n",
       "      <td>98105</td>\n",
       "      <td>1810</td>\n",
       "      <td>3745</td>\n",
       "    </tr>\n",
       "    <tr>\n",
       "      <th>4</th>\n",
       "      <td>13301</td>\n",
       "      <td>1150000.0</td>\n",
       "      <td>10</td>\n",
       "      <td>5.25</td>\n",
       "      <td>4590</td>\n",
       "      <td>10920</td>\n",
       "      <td>1.0</td>\n",
       "      <td>0.0</td>\n",
       "      <td>3</td>\n",
       "      <td>9</td>\n",
       "      <td>2500.0</td>\n",
       "      <td>2090.0</td>\n",
       "      <td>2008</td>\n",
       "      <td>98004</td>\n",
       "      <td>2730</td>\n",
       "      <td>10400</td>\n",
       "    </tr>\n",
       "    <tr>\n",
       "      <th>5</th>\n",
       "      <td>8537</td>\n",
       "      <td>450000.0</td>\n",
       "      <td>9</td>\n",
       "      <td>7.50</td>\n",
       "      <td>4050</td>\n",
       "      <td>6504</td>\n",
       "      <td>2.0</td>\n",
       "      <td>0.0</td>\n",
       "      <td>3</td>\n",
       "      <td>7</td>\n",
       "      <td>4050.0</td>\n",
       "      <td>0.0</td>\n",
       "      <td>1996</td>\n",
       "      <td>98144</td>\n",
       "      <td>1448</td>\n",
       "      <td>3866</td>\n",
       "    </tr>\n",
       "    <tr>\n",
       "      <th>6</th>\n",
       "      <td>18428</td>\n",
       "      <td>934000.0</td>\n",
       "      <td>9</td>\n",
       "      <td>3.00</td>\n",
       "      <td>2820</td>\n",
       "      <td>4480</td>\n",
       "      <td>2.0</td>\n",
       "      <td>0.0</td>\n",
       "      <td>3</td>\n",
       "      <td>7</td>\n",
       "      <td>1880.0</td>\n",
       "      <td>940.0</td>\n",
       "      <td>1918</td>\n",
       "      <td>98105</td>\n",
       "      <td>2460</td>\n",
       "      <td>4400</td>\n",
       "    </tr>\n",
       "    <tr>\n",
       "      <th>7</th>\n",
       "      <td>4231</td>\n",
       "      <td>700000.0</td>\n",
       "      <td>9</td>\n",
       "      <td>3.00</td>\n",
       "      <td>3680</td>\n",
       "      <td>4400</td>\n",
       "      <td>2.0</td>\n",
       "      <td>0.0</td>\n",
       "      <td>3</td>\n",
       "      <td>7</td>\n",
       "      <td>2830.0</td>\n",
       "      <td>850.0</td>\n",
       "      <td>1908</td>\n",
       "      <td>98102</td>\n",
       "      <td>1960</td>\n",
       "      <td>2450</td>\n",
       "    </tr>\n",
       "  </tbody>\n",
       "</table>\n",
       "</div>"
      ],
      "text/plain": [
       "   index      price  bedrooms  bathrooms  sqft_living  sqft_lot  floors  \\\n",
       "3  19239   660000.0        10       3.00         2920      3745     2.0   \n",
       "4  13301  1150000.0        10       5.25         4590     10920     1.0   \n",
       "5   8537   450000.0         9       7.50         4050      6504     2.0   \n",
       "6  18428   934000.0         9       3.00         2820      4480     2.0   \n",
       "7   4231   700000.0         9       3.00         3680      4400     2.0   \n",
       "\n",
       "   waterfront  condition  grade  sqft_above  sqft_basement  yr_built zipcode  \\\n",
       "3         0.0          4      7      1860.0         1060.0      1913   98105   \n",
       "4         0.0          3      9      2500.0         2090.0      2008   98004   \n",
       "5         0.0          3      7      4050.0            0.0      1996   98144   \n",
       "6         0.0          3      7      1880.0          940.0      1918   98105   \n",
       "7         0.0          3      7      2830.0          850.0      1908   98102   \n",
       "\n",
       "   sqft_living15  sqft_lot15  \n",
       "3           1810        3745  \n",
       "4           2730       10400  \n",
       "5           1448        3866  \n",
       "6           2460        4400  \n",
       "7           1960        2450  "
      ]
     },
     "execution_count": 10,
     "metadata": {},
     "output_type": "execute_result"
    }
   ],
   "source": [
    "#dropping outliers\n",
    "cleaned_df = cleaned_df.sort_values('bedrooms', ascending=False).reset_index()\n",
    "cleaned_df = cleaned_df.drop([0,1,2])\n",
    "cleaned_df.head(5)"
   ]
  },
  {
   "cell_type": "code",
   "execution_count": 11,
   "metadata": {
    "ExecuteTime": {
     "end_time": "2021-12-13T22:20:09.505290Z",
     "start_time": "2021-12-13T22:20:09.501037Z"
    }
   },
   "outputs": [],
   "source": [
    "#dropping index\n",
    "cleaned_df = cleaned_df.drop(['index'], axis=1)"
   ]
  },
  {
   "cell_type": "code",
   "execution_count": 12,
   "metadata": {
    "ExecuteTime": {
     "end_time": "2021-12-13T22:20:09.513823Z",
     "start_time": "2021-12-13T22:20:09.506545Z"
    }
   },
   "outputs": [
    {
     "name": "stdout",
     "output_type": "stream",
     "text": [
      "<class 'pandas.core.frame.DataFrame'>\n",
      "Int64Index: 21594 entries, 3 to 21596\n",
      "Data columns (total 15 columns):\n",
      " #   Column         Non-Null Count  Dtype  \n",
      "---  ------         --------------  -----  \n",
      " 0   price          21594 non-null  float64\n",
      " 1   bedrooms       21594 non-null  int64  \n",
      " 2   bathrooms      21594 non-null  float64\n",
      " 3   sqft_living    21594 non-null  int64  \n",
      " 4   sqft_lot       21594 non-null  int64  \n",
      " 5   floors         21594 non-null  float64\n",
      " 6   waterfront     19218 non-null  float64\n",
      " 7   condition      21594 non-null  int64  \n",
      " 8   grade          21594 non-null  int64  \n",
      " 9   sqft_above     21594 non-null  float64\n",
      " 10  sqft_basement  21594 non-null  float64\n",
      " 11  yr_built       21594 non-null  int64  \n",
      " 12  zipcode        21594 non-null  object \n",
      " 13  sqft_living15  21594 non-null  int64  \n",
      " 14  sqft_lot15     21594 non-null  int64  \n",
      "dtypes: float64(6), int64(8), object(1)\n",
      "memory usage: 2.6+ MB\n"
     ]
    }
   ],
   "source": [
    "cleaned_df.info()"
   ]
  },
  {
   "cell_type": "markdown",
   "metadata": {},
   "source": [
    "### Exploring Data with Scatter Plot"
   ]
  },
  {
   "cell_type": "code",
   "execution_count": 13,
   "metadata": {
    "ExecuteTime": {
     "end_time": "2021-12-13T22:20:09.516033Z",
     "start_time": "2021-12-13T22:20:09.514748Z"
    }
   },
   "outputs": [],
   "source": [
    "#using scatter plot to look for linear relationships\n",
    "#pd.plotting.scatter_matrix(cleaned_df, figsize = [20,20]);\n",
    "#plt.show()"
   ]
  },
  {
   "cell_type": "markdown",
   "metadata": {},
   "source": [
    "### Analysis:\n",
    "At first glance, the following variables seem to have linear relationships:\n",
    "- price with bedrooms, sqft_above, & sqft_basement.\n",
    "    - price also seems to have a linear relationship with categorical variable 'grade'.\n",
    "- bedrooms with bathrooms, sqft_living, sqft_above, & sqft_basement\n",
    "- sqft_living and sqft_above have the closest linear relationship\n",
    "    - They are very similar data points. I may need to eliminate one to prevent multicolinearity.\n",
    "    \n",
    "The Following Variables seem to be categorical:\n",
    "- floors\n",
    "- waterfront\n",
    "- condition\n",
    "- zip code (not shown because I have already made it an object)\n",
    "\n",
    "Ordinal Variables:\n",
    "- bedrooms\n",
    "- bathrooms\n",
    "\n"
   ]
  },
  {
   "cell_type": "markdown",
   "metadata": {},
   "source": [
    "### What To Do with the Ordinal Values\n",
    "\n",
    "I am going to treat grade as a continuous variable as it has very linear relationships with many features. Including price."
   ]
  },
  {
   "cell_type": "markdown",
   "metadata": {},
   "source": [
    "## Checking for Null Values"
   ]
  },
  {
   "cell_type": "code",
   "execution_count": 14,
   "metadata": {
    "ExecuteTime": {
     "end_time": "2021-12-13T22:20:09.521511Z",
     "start_time": "2021-12-13T22:20:09.516955Z"
    }
   },
   "outputs": [
    {
     "data": {
      "text/plain": [
       "price               0\n",
       "bedrooms            0\n",
       "bathrooms           0\n",
       "sqft_living         0\n",
       "sqft_lot            0\n",
       "floors              0\n",
       "waterfront       2376\n",
       "condition           0\n",
       "grade               0\n",
       "sqft_above          0\n",
       "sqft_basement       0\n",
       "yr_built            0\n",
       "zipcode             0\n",
       "sqft_living15       0\n",
       "sqft_lot15          0\n",
       "dtype: int64"
      ]
     },
     "execution_count": 14,
     "metadata": {},
     "output_type": "execute_result"
    }
   ],
   "source": [
    "cleaned_df.isna().sum()"
   ]
  },
  {
   "cell_type": "markdown",
   "metadata": {},
   "source": [
    "## Fixing Waterfront"
   ]
  },
  {
   "cell_type": "code",
   "execution_count": 15,
   "metadata": {
    "ExecuteTime": {
     "end_time": "2021-12-13T22:20:09.523603Z",
     "start_time": "2021-12-13T22:20:09.522352Z"
    }
   },
   "outputs": [],
   "source": [
    "#cleaned_df['waterfront'].value_counts()"
   ]
  },
  {
   "cell_type": "code",
   "execution_count": 16,
   "metadata": {
    "ExecuteTime": {
     "end_time": "2021-12-13T22:20:09.530833Z",
     "start_time": "2021-12-13T22:20:09.524510Z"
    }
   },
   "outputs": [
    {
     "data": {
      "text/plain": [
       "price            0\n",
       "bedrooms         0\n",
       "bathrooms        0\n",
       "sqft_living      0\n",
       "sqft_lot         0\n",
       "floors           0\n",
       "waterfront       0\n",
       "condition        0\n",
       "grade            0\n",
       "sqft_above       0\n",
       "sqft_basement    0\n",
       "yr_built         0\n",
       "zipcode          0\n",
       "sqft_living15    0\n",
       "sqft_lot15       0\n",
       "dtype: int64"
      ]
     },
     "execution_count": 16,
     "metadata": {},
     "output_type": "execute_result"
    }
   ],
   "source": [
    "waterfront_cleaned = cleaned_df['waterfront'].fillna(0) \n",
    "cleaned_df['waterfront'] = waterfront_cleaned\n",
    "cleaned_df.isna().sum()"
   ]
  },
  {
   "cell_type": "markdown",
   "metadata": {},
   "source": [
    "## Building Condition"
   ]
  },
  {
   "cell_type": "markdown",
   "metadata": {
    "ExecuteTime": {
     "end_time": "2021-12-10T17:52:04.996164Z",
     "start_time": "2021-12-10T17:52:04.975036Z"
    }
   },
   "source": [
    "Should I change the condition values from numbers to words?"
   ]
  },
  {
   "cell_type": "markdown",
   "metadata": {},
   "source": [
    "## Bedrooms"
   ]
  },
  {
   "cell_type": "markdown",
   "metadata": {},
   "source": [
    "Should I change bedrooms so that there are less options? ie, <1 instead of 0, 0.5, etc"
   ]
  },
  {
   "cell_type": "markdown",
   "metadata": {},
   "source": [
    "# Initial Modeling "
   ]
  },
  {
   "cell_type": "markdown",
   "metadata": {},
   "source": [
    "## Baseline Model\n",
    "- running a model with the cleaned data."
   ]
  },
  {
   "cell_type": "code",
   "execution_count": 17,
   "metadata": {
    "ExecuteTime": {
     "end_time": "2021-12-13T22:20:09.541119Z",
     "start_time": "2021-12-13T22:20:09.531787Z"
    }
   },
   "outputs": [
    {
     "data": {
      "text/html": [
       "<div>\n",
       "<style scoped>\n",
       "    .dataframe tbody tr th:only-of-type {\n",
       "        vertical-align: middle;\n",
       "    }\n",
       "\n",
       "    .dataframe tbody tr th {\n",
       "        vertical-align: top;\n",
       "    }\n",
       "\n",
       "    .dataframe thead th {\n",
       "        text-align: right;\n",
       "    }\n",
       "</style>\n",
       "<table border=\"1\" class=\"dataframe\">\n",
       "  <thead>\n",
       "    <tr style=\"text-align: right;\">\n",
       "      <th></th>\n",
       "      <th>price</th>\n",
       "      <th>bedrooms</th>\n",
       "      <th>bathrooms</th>\n",
       "      <th>sqft_living</th>\n",
       "      <th>sqft_lot</th>\n",
       "      <th>floors</th>\n",
       "      <th>waterfront</th>\n",
       "      <th>condition</th>\n",
       "      <th>grade</th>\n",
       "      <th>sqft_above</th>\n",
       "      <th>sqft_basement</th>\n",
       "      <th>yr_built</th>\n",
       "      <th>sqft_living15</th>\n",
       "      <th>sqft_lot15</th>\n",
       "    </tr>\n",
       "  </thead>\n",
       "  <tbody>\n",
       "    <tr>\n",
       "      <th>3</th>\n",
       "      <td>660000.0</td>\n",
       "      <td>10</td>\n",
       "      <td>3.00</td>\n",
       "      <td>2920</td>\n",
       "      <td>3745</td>\n",
       "      <td>2.0</td>\n",
       "      <td>0.0</td>\n",
       "      <td>4</td>\n",
       "      <td>7</td>\n",
       "      <td>1860.0</td>\n",
       "      <td>1060.0</td>\n",
       "      <td>1913</td>\n",
       "      <td>1810</td>\n",
       "      <td>3745</td>\n",
       "    </tr>\n",
       "    <tr>\n",
       "      <th>4</th>\n",
       "      <td>1150000.0</td>\n",
       "      <td>10</td>\n",
       "      <td>5.25</td>\n",
       "      <td>4590</td>\n",
       "      <td>10920</td>\n",
       "      <td>1.0</td>\n",
       "      <td>0.0</td>\n",
       "      <td>3</td>\n",
       "      <td>9</td>\n",
       "      <td>2500.0</td>\n",
       "      <td>2090.0</td>\n",
       "      <td>2008</td>\n",
       "      <td>2730</td>\n",
       "      <td>10400</td>\n",
       "    </tr>\n",
       "    <tr>\n",
       "      <th>5</th>\n",
       "      <td>450000.0</td>\n",
       "      <td>9</td>\n",
       "      <td>7.50</td>\n",
       "      <td>4050</td>\n",
       "      <td>6504</td>\n",
       "      <td>2.0</td>\n",
       "      <td>0.0</td>\n",
       "      <td>3</td>\n",
       "      <td>7</td>\n",
       "      <td>4050.0</td>\n",
       "      <td>0.0</td>\n",
       "      <td>1996</td>\n",
       "      <td>1448</td>\n",
       "      <td>3866</td>\n",
       "    </tr>\n",
       "    <tr>\n",
       "      <th>6</th>\n",
       "      <td>934000.0</td>\n",
       "      <td>9</td>\n",
       "      <td>3.00</td>\n",
       "      <td>2820</td>\n",
       "      <td>4480</td>\n",
       "      <td>2.0</td>\n",
       "      <td>0.0</td>\n",
       "      <td>3</td>\n",
       "      <td>7</td>\n",
       "      <td>1880.0</td>\n",
       "      <td>940.0</td>\n",
       "      <td>1918</td>\n",
       "      <td>2460</td>\n",
       "      <td>4400</td>\n",
       "    </tr>\n",
       "    <tr>\n",
       "      <th>7</th>\n",
       "      <td>700000.0</td>\n",
       "      <td>9</td>\n",
       "      <td>3.00</td>\n",
       "      <td>3680</td>\n",
       "      <td>4400</td>\n",
       "      <td>2.0</td>\n",
       "      <td>0.0</td>\n",
       "      <td>3</td>\n",
       "      <td>7</td>\n",
       "      <td>2830.0</td>\n",
       "      <td>850.0</td>\n",
       "      <td>1908</td>\n",
       "      <td>1960</td>\n",
       "      <td>2450</td>\n",
       "    </tr>\n",
       "  </tbody>\n",
       "</table>\n",
       "</div>"
      ],
      "text/plain": [
       "       price  bedrooms  bathrooms  sqft_living  sqft_lot  floors  waterfront  \\\n",
       "3   660000.0        10       3.00         2920      3745     2.0         0.0   \n",
       "4  1150000.0        10       5.25         4590     10920     1.0         0.0   \n",
       "5   450000.0         9       7.50         4050      6504     2.0         0.0   \n",
       "6   934000.0         9       3.00         2820      4480     2.0         0.0   \n",
       "7   700000.0         9       3.00         3680      4400     2.0         0.0   \n",
       "\n",
       "   condition  grade  sqft_above  sqft_basement  yr_built  sqft_living15  \\\n",
       "3          4      7      1860.0         1060.0      1913           1810   \n",
       "4          3      9      2500.0         2090.0      2008           2730   \n",
       "5          3      7      4050.0            0.0      1996           1448   \n",
       "6          3      7      1880.0          940.0      1918           2460   \n",
       "7          3      7      2830.0          850.0      1908           1960   \n",
       "\n",
       "   sqft_lot15  \n",
       "3        3745  \n",
       "4       10400  \n",
       "5        3866  \n",
       "6        4400  \n",
       "7        2450  "
      ]
     },
     "execution_count": 17,
     "metadata": {},
     "output_type": "execute_result"
    }
   ],
   "source": [
    "# drop zipcode before running base model\n",
    "test_df = cleaned_df\n",
    "test_df = test_df.drop(test_df[['zipcode']], axis=1)\n",
    "test_df.head()"
   ]
  },
  {
   "cell_type": "code",
   "execution_count": 18,
   "metadata": {
    "ExecuteTime": {
     "end_time": "2021-12-13T22:20:09.595894Z",
     "start_time": "2021-12-13T22:20:09.542139Z"
    }
   },
   "outputs": [
    {
     "data": {
      "text/html": [
       "<table class=\"simpletable\">\n",
       "<caption>OLS Regression Results</caption>\n",
       "<tr>\n",
       "  <th>Dep. Variable:</th>          <td>price</td>      <th>  R-squared:         </th>  <td>   0.649</td>  \n",
       "</tr>\n",
       "<tr>\n",
       "  <th>Model:</th>                   <td>OLS</td>       <th>  Adj. R-squared:    </th>  <td>   0.649</td>  \n",
       "</tr>\n",
       "<tr>\n",
       "  <th>Method:</th>             <td>Least Squares</td>  <th>  F-statistic:       </th>  <td>   3322.</td>  \n",
       "</tr>\n",
       "<tr>\n",
       "  <th>Date:</th>             <td>Mon, 13 Dec 2021</td> <th>  Prob (F-statistic):</th>   <td>  0.00</td>   \n",
       "</tr>\n",
       "<tr>\n",
       "  <th>Time:</th>                 <td>17:20:09</td>     <th>  Log-Likelihood:    </th> <td>-2.9605e+05</td>\n",
       "</tr>\n",
       "<tr>\n",
       "  <th>No. Observations:</th>      <td> 21594</td>      <th>  AIC:               </th>  <td>5.921e+05</td> \n",
       "</tr>\n",
       "<tr>\n",
       "  <th>Df Residuals:</th>          <td> 21581</td>      <th>  BIC:               </th>  <td>5.922e+05</td> \n",
       "</tr>\n",
       "<tr>\n",
       "  <th>Df Model:</th>              <td>    12</td>      <th>                     </th>      <td> </td>     \n",
       "</tr>\n",
       "<tr>\n",
       "  <th>Covariance Type:</th>      <td>nonrobust</td>    <th>                     </th>      <td> </td>     \n",
       "</tr>\n",
       "</table>\n",
       "<table class=\"simpletable\">\n",
       "<tr>\n",
       "        <td></td>           <th>coef</th>     <th>std err</th>      <th>t</th>      <th>P>|t|</th>  <th>[0.025</th>    <th>0.975]</th>  \n",
       "</tr>\n",
       "<tr>\n",
       "  <th>const</th>         <td> 6.672e+06</td> <td> 1.31e+05</td> <td>   50.900</td> <td> 0.000</td> <td> 6.42e+06</td> <td> 6.93e+06</td>\n",
       "</tr>\n",
       "<tr>\n",
       "  <th>bedrooms</th>      <td>-4.708e+04</td> <td> 2136.740</td> <td>  -22.033</td> <td> 0.000</td> <td>-5.13e+04</td> <td>-4.29e+04</td>\n",
       "</tr>\n",
       "<tr>\n",
       "  <th>bathrooms</th>     <td> 5.034e+04</td> <td> 3509.444</td> <td>   14.346</td> <td> 0.000</td> <td> 4.35e+04</td> <td> 5.72e+04</td>\n",
       "</tr>\n",
       "<tr>\n",
       "  <th>sqft_living</th>   <td>  114.9032</td> <td>    2.463</td> <td>   46.643</td> <td> 0.000</td> <td>  110.075</td> <td>  119.732</td>\n",
       "</tr>\n",
       "<tr>\n",
       "  <th>sqft_lot</th>      <td>    0.0246</td> <td>    0.052</td> <td>    0.475</td> <td> 0.635</td> <td>   -0.077</td> <td>    0.126</td>\n",
       "</tr>\n",
       "<tr>\n",
       "  <th>floors</th>        <td> 3.005e+04</td> <td> 3814.813</td> <td>    7.878</td> <td> 0.000</td> <td> 2.26e+04</td> <td> 3.75e+04</td>\n",
       "</tr>\n",
       "<tr>\n",
       "  <th>waterfront</th>    <td> 7.495e+05</td> <td> 1.83e+04</td> <td>   40.952</td> <td> 0.000</td> <td> 7.14e+05</td> <td> 7.85e+05</td>\n",
       "</tr>\n",
       "<tr>\n",
       "  <th>condition</th>     <td> 1.895e+04</td> <td> 2483.781</td> <td>    7.631</td> <td> 0.000</td> <td> 1.41e+04</td> <td> 2.38e+04</td>\n",
       "</tr>\n",
       "<tr>\n",
       "  <th>grade</th>         <td> 1.239e+05</td> <td> 2269.284</td> <td>   54.583</td> <td> 0.000</td> <td> 1.19e+05</td> <td> 1.28e+05</td>\n",
       "</tr>\n",
       "<tr>\n",
       "  <th>sqft_above</th>    <td>   46.6691</td> <td>    2.360</td> <td>   19.772</td> <td> 0.000</td> <td>   42.043</td> <td>   51.296</td>\n",
       "</tr>\n",
       "<tr>\n",
       "  <th>sqft_basement</th> <td>   68.2337</td> <td>    2.758</td> <td>   24.740</td> <td> 0.000</td> <td>   62.828</td> <td>   73.640</td>\n",
       "</tr>\n",
       "<tr>\n",
       "  <th>yr_built</th>      <td>-3828.2971</td> <td>   67.288</td> <td>  -56.894</td> <td> 0.000</td> <td>-3960.186</td> <td>-3696.408</td>\n",
       "</tr>\n",
       "<tr>\n",
       "  <th>sqft_living15</th> <td>   33.7797</td> <td>    3.597</td> <td>    9.392</td> <td> 0.000</td> <td>   26.730</td> <td>   40.830</td>\n",
       "</tr>\n",
       "<tr>\n",
       "  <th>sqft_lot15</th>    <td>   -0.5649</td> <td>    0.079</td> <td>   -7.147</td> <td> 0.000</td> <td>   -0.720</td> <td>   -0.410</td>\n",
       "</tr>\n",
       "</table>\n",
       "<table class=\"simpletable\">\n",
       "<tr>\n",
       "  <th>Omnibus:</th>       <td>16213.002</td> <th>  Durbin-Watson:     </th>  <td>   1.978</td>  \n",
       "</tr>\n",
       "<tr>\n",
       "  <th>Prob(Omnibus):</th>  <td> 0.000</td>   <th>  Jarque-Bera (JB):  </th> <td>1122803.321</td>\n",
       "</tr>\n",
       "<tr>\n",
       "  <th>Skew:</th>           <td> 3.017</td>   <th>  Prob(JB):          </th>  <td>    0.00</td>  \n",
       "</tr>\n",
       "<tr>\n",
       "  <th>Kurtosis:</th>       <td>37.806</td>   <th>  Cond. No.          </th>  <td>3.29e+15</td>  \n",
       "</tr>\n",
       "</table><br/><br/>Notes:<br/>[1] Standard Errors assume that the covariance matrix of the errors is correctly specified.<br/>[2] The smallest eigenvalue is 5.11e-18. This might indicate that there are<br/>strong multicollinearity problems or that the design matrix is singular."
      ],
      "text/plain": [
       "<class 'statsmodels.iolib.summary.Summary'>\n",
       "\"\"\"\n",
       "                            OLS Regression Results                            \n",
       "==============================================================================\n",
       "Dep. Variable:                  price   R-squared:                       0.649\n",
       "Model:                            OLS   Adj. R-squared:                  0.649\n",
       "Method:                 Least Squares   F-statistic:                     3322.\n",
       "Date:                Mon, 13 Dec 2021   Prob (F-statistic):               0.00\n",
       "Time:                        17:20:09   Log-Likelihood:            -2.9605e+05\n",
       "No. Observations:               21594   AIC:                         5.921e+05\n",
       "Df Residuals:                   21581   BIC:                         5.922e+05\n",
       "Df Model:                          12                                         \n",
       "Covariance Type:            nonrobust                                         \n",
       "=================================================================================\n",
       "                    coef    std err          t      P>|t|      [0.025      0.975]\n",
       "---------------------------------------------------------------------------------\n",
       "const          6.672e+06   1.31e+05     50.900      0.000    6.42e+06    6.93e+06\n",
       "bedrooms      -4.708e+04   2136.740    -22.033      0.000   -5.13e+04   -4.29e+04\n",
       "bathrooms      5.034e+04   3509.444     14.346      0.000    4.35e+04    5.72e+04\n",
       "sqft_living     114.9032      2.463     46.643      0.000     110.075     119.732\n",
       "sqft_lot          0.0246      0.052      0.475      0.635      -0.077       0.126\n",
       "floors         3.005e+04   3814.813      7.878      0.000    2.26e+04    3.75e+04\n",
       "waterfront     7.495e+05   1.83e+04     40.952      0.000    7.14e+05    7.85e+05\n",
       "condition      1.895e+04   2483.781      7.631      0.000    1.41e+04    2.38e+04\n",
       "grade          1.239e+05   2269.284     54.583      0.000    1.19e+05    1.28e+05\n",
       "sqft_above       46.6691      2.360     19.772      0.000      42.043      51.296\n",
       "sqft_basement    68.2337      2.758     24.740      0.000      62.828      73.640\n",
       "yr_built      -3828.2971     67.288    -56.894      0.000   -3960.186   -3696.408\n",
       "sqft_living15    33.7797      3.597      9.392      0.000      26.730      40.830\n",
       "sqft_lot15       -0.5649      0.079     -7.147      0.000      -0.720      -0.410\n",
       "==============================================================================\n",
       "Omnibus:                    16213.002   Durbin-Watson:                   1.978\n",
       "Prob(Omnibus):                  0.000   Jarque-Bera (JB):          1122803.321\n",
       "Skew:                           3.017   Prob(JB):                         0.00\n",
       "Kurtosis:                      37.806   Cond. No.                     3.29e+15\n",
       "==============================================================================\n",
       "\n",
       "Notes:\n",
       "[1] Standard Errors assume that the covariance matrix of the errors is correctly specified.\n",
       "[2] The smallest eigenvalue is 5.11e-18. This might indicate that there are\n",
       "strong multicollinearity problems or that the design matrix is singular.\n",
       "\"\"\""
      ]
     },
     "execution_count": 18,
     "metadata": {},
     "output_type": "execute_result"
    }
   ],
   "source": [
    "X = test_df.drop(['price'], axis=1)\n",
    "y = test_df['price']\n",
    "\n",
    "X_int = sm.add_constant(X)\n",
    "model = sm.OLS(y,X_int).fit()\n",
    "model.summary()"
   ]
  },
  {
   "cell_type": "markdown",
   "metadata": {},
   "source": [
    "## Test Normalization"
   ]
  },
  {
   "cell_type": "code",
   "execution_count": 19,
   "metadata": {
    "ExecuteTime": {
     "end_time": "2021-12-13T22:20:09.598814Z",
     "start_time": "2021-12-13T22:20:09.596919Z"
    }
   },
   "outputs": [],
   "source": [
    "def norm_feat(series):\n",
    "    return (series - series.mean())/series.std()"
   ]
  },
  {
   "cell_type": "code",
   "execution_count": 20,
   "metadata": {
    "ExecuteTime": {
     "end_time": "2021-12-13T22:20:09.617870Z",
     "start_time": "2021-12-13T22:20:09.600720Z"
    }
   },
   "outputs": [
    {
     "data": {
      "text/html": [
       "<div>\n",
       "<style scoped>\n",
       "    .dataframe tbody tr th:only-of-type {\n",
       "        vertical-align: middle;\n",
       "    }\n",
       "\n",
       "    .dataframe tbody tr th {\n",
       "        vertical-align: top;\n",
       "    }\n",
       "\n",
       "    .dataframe thead th {\n",
       "        text-align: right;\n",
       "    }\n",
       "</style>\n",
       "<table border=\"1\" class=\"dataframe\">\n",
       "  <thead>\n",
       "    <tr style=\"text-align: right;\">\n",
       "      <th></th>\n",
       "      <th>price</th>\n",
       "      <th>bedrooms</th>\n",
       "      <th>bathrooms</th>\n",
       "      <th>sqft_living</th>\n",
       "      <th>sqft_lot</th>\n",
       "      <th>floors</th>\n",
       "      <th>waterfront</th>\n",
       "      <th>condition</th>\n",
       "      <th>grade</th>\n",
       "      <th>sqft_above</th>\n",
       "      <th>sqft_basement</th>\n",
       "      <th>yr_built</th>\n",
       "      <th>sqft_living15</th>\n",
       "      <th>sqft_lot15</th>\n",
       "    </tr>\n",
       "  </thead>\n",
       "  <tbody>\n",
       "    <tr>\n",
       "      <th>3</th>\n",
       "      <td>0.325843</td>\n",
       "      <td>7.352819</td>\n",
       "      <td>1.149780</td>\n",
       "      <td>0.914699</td>\n",
       "      <td>-0.274184</td>\n",
       "      <td>0.937445</td>\n",
       "      <td>-0.082504</td>\n",
       "      <td>0.907414</td>\n",
       "      <td>-0.560838</td>\n",
       "      <td>0.086322</td>\n",
       "      <td>1.735587</td>\n",
       "      <td>-1.974634</td>\n",
       "      <td>-0.257824</td>\n",
       "      <td>-0.330473</td>\n",
       "    </tr>\n",
       "    <tr>\n",
       "      <th>4</th>\n",
       "      <td>1.659567</td>\n",
       "      <td>7.352819</td>\n",
       "      <td>4.075621</td>\n",
       "      <td>2.733704</td>\n",
       "      <td>-0.100939</td>\n",
       "      <td>-0.915478</td>\n",
       "      <td>-0.082504</td>\n",
       "      <td>-0.629907</td>\n",
       "      <td>1.143820</td>\n",
       "      <td>0.859503</td>\n",
       "      <td>4.062301</td>\n",
       "      <td>1.259466</td>\n",
       "      <td>1.084747</td>\n",
       "      <td>-0.086488</td>\n",
       "    </tr>\n",
       "    <tr>\n",
       "      <th>5</th>\n",
       "      <td>-0.245753</td>\n",
       "      <td>6.243601</td>\n",
       "      <td>7.001462</td>\n",
       "      <td>2.145522</td>\n",
       "      <td>-0.207566</td>\n",
       "      <td>0.937445</td>\n",
       "      <td>-0.082504</td>\n",
       "      <td>-0.629907</td>\n",
       "      <td>-0.560838</td>\n",
       "      <td>2.732051</td>\n",
       "      <td>-0.658896</td>\n",
       "      <td>0.850948</td>\n",
       "      <td>-0.786096</td>\n",
       "      <td>-0.326037</td>\n",
       "    </tr>\n",
       "    <tr>\n",
       "      <th>6</th>\n",
       "      <td>1.071640</td>\n",
       "      <td>6.243601</td>\n",
       "      <td>1.149780</td>\n",
       "      <td>0.805776</td>\n",
       "      <td>-0.256437</td>\n",
       "      <td>0.937445</td>\n",
       "      <td>-0.082504</td>\n",
       "      <td>-0.629907</td>\n",
       "      <td>-0.560838</td>\n",
       "      <td>0.110484</td>\n",
       "      <td>1.464513</td>\n",
       "      <td>-1.804419</td>\n",
       "      <td>0.690731</td>\n",
       "      <td>-0.306459</td>\n",
       "    </tr>\n",
       "    <tr>\n",
       "      <th>7</th>\n",
       "      <td>0.434718</td>\n",
       "      <td>6.243601</td>\n",
       "      <td>1.149780</td>\n",
       "      <td>1.742509</td>\n",
       "      <td>-0.258369</td>\n",
       "      <td>0.937445</td>\n",
       "      <td>-0.082504</td>\n",
       "      <td>-0.629907</td>\n",
       "      <td>-0.560838</td>\n",
       "      <td>1.258175</td>\n",
       "      <td>1.261208</td>\n",
       "      <td>-2.144850</td>\n",
       "      <td>-0.038927</td>\n",
       "      <td>-0.377950</td>\n",
       "    </tr>\n",
       "  </tbody>\n",
       "</table>\n",
       "</div>"
      ],
      "text/plain": [
       "      price  bedrooms  bathrooms  sqft_living  sqft_lot    floors  waterfront  \\\n",
       "3  0.325843  7.352819   1.149780     0.914699 -0.274184  0.937445   -0.082504   \n",
       "4  1.659567  7.352819   4.075621     2.733704 -0.100939 -0.915478   -0.082504   \n",
       "5 -0.245753  6.243601   7.001462     2.145522 -0.207566  0.937445   -0.082504   \n",
       "6  1.071640  6.243601   1.149780     0.805776 -0.256437  0.937445   -0.082504   \n",
       "7  0.434718  6.243601   1.149780     1.742509 -0.258369  0.937445   -0.082504   \n",
       "\n",
       "   condition     grade  sqft_above  sqft_basement  yr_built  sqft_living15  \\\n",
       "3   0.907414 -0.560838    0.086322       1.735587 -1.974634      -0.257824   \n",
       "4  -0.629907  1.143820    0.859503       4.062301  1.259466       1.084747   \n",
       "5  -0.629907 -0.560838    2.732051      -0.658896  0.850948      -0.786096   \n",
       "6  -0.629907 -0.560838    0.110484       1.464513 -1.804419       0.690731   \n",
       "7  -0.629907 -0.560838    1.258175       1.261208 -2.144850      -0.038927   \n",
       "\n",
       "   sqft_lot15  \n",
       "3   -0.330473  \n",
       "4   -0.086488  \n",
       "5   -0.326037  \n",
       "6   -0.306459  \n",
       "7   -0.377950  "
      ]
     },
     "execution_count": 20,
     "metadata": {},
     "output_type": "execute_result"
    }
   ],
   "source": [
    "df_norm = norm_feat(test_df)\n",
    "df_norm.head()"
   ]
  },
  {
   "cell_type": "code",
   "execution_count": 21,
   "metadata": {
    "ExecuteTime": {
     "end_time": "2021-12-13T22:20:09.674157Z",
     "start_time": "2021-12-13T22:20:09.618946Z"
    }
   },
   "outputs": [
    {
     "data": {
      "text/html": [
       "<table class=\"simpletable\">\n",
       "<caption>OLS Regression Results</caption>\n",
       "<tr>\n",
       "  <th>Dep. Variable:</th>          <td>price</td>      <th>  R-squared:         </th> <td>   0.649</td> \n",
       "</tr>\n",
       "<tr>\n",
       "  <th>Model:</th>                   <td>OLS</td>       <th>  Adj. R-squared:    </th> <td>   0.649</td> \n",
       "</tr>\n",
       "<tr>\n",
       "  <th>Method:</th>             <td>Least Squares</td>  <th>  F-statistic:       </th> <td>   3321.</td> \n",
       "</tr>\n",
       "<tr>\n",
       "  <th>Date:</th>             <td>Mon, 13 Dec 2021</td> <th>  Prob (F-statistic):</th>  <td>  0.00</td>  \n",
       "</tr>\n",
       "<tr>\n",
       "  <th>Time:</th>                 <td>17:20:09</td>     <th>  Log-Likelihood:    </th> <td> -19344.</td> \n",
       "</tr>\n",
       "<tr>\n",
       "  <th>No. Observations:</th>      <td> 21594</td>      <th>  AIC:               </th> <td>3.871e+04</td>\n",
       "</tr>\n",
       "<tr>\n",
       "  <th>Df Residuals:</th>          <td> 21581</td>      <th>  BIC:               </th> <td>3.882e+04</td>\n",
       "</tr>\n",
       "<tr>\n",
       "  <th>Df Model:</th>              <td>    12</td>      <th>                     </th>     <td> </td>    \n",
       "</tr>\n",
       "<tr>\n",
       "  <th>Covariance Type:</th>      <td>nonrobust</td>    <th>                     </th>     <td> </td>    \n",
       "</tr>\n",
       "</table>\n",
       "<table class=\"simpletable\">\n",
       "<tr>\n",
       "        <td></td>           <th>coef</th>     <th>std err</th>      <th>t</th>      <th>P>|t|</th>  <th>[0.025</th>    <th>0.975]</th>  \n",
       "</tr>\n",
       "<tr>\n",
       "  <th>const</th>         <td>   -0.0022</td> <td>    0.005</td> <td>   -0.462</td> <td> 0.644</td> <td>   -0.012</td> <td>    0.007</td>\n",
       "</tr>\n",
       "<tr>\n",
       "  <th>bedrooms</th>      <td>   -0.1167</td> <td>    0.005</td> <td>  -21.569</td> <td> 0.000</td> <td>   -0.127</td> <td>   -0.106</td>\n",
       "</tr>\n",
       "<tr>\n",
       "  <th>bathrooms</th>     <td>    0.1033</td> <td>    0.008</td> <td>   13.311</td> <td> 0.000</td> <td>    0.088</td> <td>    0.118</td>\n",
       "</tr>\n",
       "<tr>\n",
       "  <th>sqft_living</th>   <td>-4.532e+11</td> <td> 5.31e+11</td> <td>   -0.854</td> <td> 0.393</td> <td>-1.49e+12</td> <td> 5.87e+11</td>\n",
       "</tr>\n",
       "<tr>\n",
       "  <th>sqft_lot</th>      <td>    0.0026</td> <td>    0.006</td> <td>    0.453</td> <td> 0.651</td> <td>   -0.009</td> <td>    0.014</td>\n",
       "</tr>\n",
       "<tr>\n",
       "  <th>floors</th>        <td>    0.0434</td> <td>    0.006</td> <td>    7.659</td> <td> 0.000</td> <td>    0.032</td> <td>    0.055</td>\n",
       "</tr>\n",
       "<tr>\n",
       "  <th>waterfront</th>    <td>    0.1672</td> <td>    0.004</td> <td>   40.946</td> <td> 0.000</td> <td>    0.159</td> <td>    0.175</td>\n",
       "</tr>\n",
       "<tr>\n",
       "  <th>condition</th>     <td>    0.0337</td> <td>    0.004</td> <td>    7.655</td> <td> 0.000</td> <td>    0.025</td> <td>    0.042</td>\n",
       "</tr>\n",
       "<tr>\n",
       "  <th>grade</th>         <td>    0.3956</td> <td>    0.007</td> <td>   54.588</td> <td> 0.000</td> <td>    0.381</td> <td>    0.410</td>\n",
       "</tr>\n",
       "<tr>\n",
       "  <th>sqft_above</th>    <td> 4.086e+11</td> <td> 4.79e+11</td> <td>    0.854</td> <td> 0.393</td> <td> -5.3e+11</td> <td> 1.35e+12</td>\n",
       "</tr>\n",
       "<tr>\n",
       "  <th>sqft_basement</th> <td> 2.185e+11</td> <td> 2.56e+11</td> <td>    0.854</td> <td> 0.393</td> <td>-2.83e+11</td> <td>  7.2e+11</td>\n",
       "</tr>\n",
       "<tr>\n",
       "  <th>yr_built</th>      <td>   -0.3060</td> <td>    0.005</td> <td>  -56.869</td> <td> 0.000</td> <td>   -0.317</td> <td>   -0.295</td>\n",
       "</tr>\n",
       "<tr>\n",
       "  <th>sqft_living15</th> <td>    0.0631</td> <td>    0.007</td> <td>    9.404</td> <td> 0.000</td> <td>    0.050</td> <td>    0.076</td>\n",
       "</tr>\n",
       "<tr>\n",
       "  <th>sqft_lot15</th>    <td>   -0.0419</td> <td>    0.006</td> <td>   -7.139</td> <td> 0.000</td> <td>   -0.053</td> <td>   -0.030</td>\n",
       "</tr>\n",
       "</table>\n",
       "<table class=\"simpletable\">\n",
       "<tr>\n",
       "  <th>Omnibus:</th>       <td>16081.087</td> <th>  Durbin-Watson:     </th>  <td>   1.977</td>  \n",
       "</tr>\n",
       "<tr>\n",
       "  <th>Prob(Omnibus):</th>  <td> 0.000</td>   <th>  Jarque-Bera (JB):  </th> <td>1095569.575</td>\n",
       "</tr>\n",
       "<tr>\n",
       "  <th>Skew:</th>           <td> 2.983</td>   <th>  Prob(JB):          </th>  <td>    0.00</td>  \n",
       "</tr>\n",
       "<tr>\n",
       "  <th>Kurtosis:</th>       <td>37.381</td>   <th>  Cond. No.          </th>  <td>4.18e+14</td>  \n",
       "</tr>\n",
       "</table><br/><br/>Notes:<br/>[1] Standard Errors assume that the covariance matrix of the errors is correctly specified.<br/>[2] The smallest eigenvalue is 6.1e-25. This might indicate that there are<br/>strong multicollinearity problems or that the design matrix is singular."
      ],
      "text/plain": [
       "<class 'statsmodels.iolib.summary.Summary'>\n",
       "\"\"\"\n",
       "                            OLS Regression Results                            \n",
       "==============================================================================\n",
       "Dep. Variable:                  price   R-squared:                       0.649\n",
       "Model:                            OLS   Adj. R-squared:                  0.649\n",
       "Method:                 Least Squares   F-statistic:                     3321.\n",
       "Date:                Mon, 13 Dec 2021   Prob (F-statistic):               0.00\n",
       "Time:                        17:20:09   Log-Likelihood:                -19344.\n",
       "No. Observations:               21594   AIC:                         3.871e+04\n",
       "Df Residuals:                   21581   BIC:                         3.882e+04\n",
       "Df Model:                          12                                         \n",
       "Covariance Type:            nonrobust                                         \n",
       "=================================================================================\n",
       "                    coef    std err          t      P>|t|      [0.025      0.975]\n",
       "---------------------------------------------------------------------------------\n",
       "const            -0.0022      0.005     -0.462      0.644      -0.012       0.007\n",
       "bedrooms         -0.1167      0.005    -21.569      0.000      -0.127      -0.106\n",
       "bathrooms         0.1033      0.008     13.311      0.000       0.088       0.118\n",
       "sqft_living   -4.532e+11   5.31e+11     -0.854      0.393   -1.49e+12    5.87e+11\n",
       "sqft_lot          0.0026      0.006      0.453      0.651      -0.009       0.014\n",
       "floors            0.0434      0.006      7.659      0.000       0.032       0.055\n",
       "waterfront        0.1672      0.004     40.946      0.000       0.159       0.175\n",
       "condition         0.0337      0.004      7.655      0.000       0.025       0.042\n",
       "grade             0.3956      0.007     54.588      0.000       0.381       0.410\n",
       "sqft_above     4.086e+11   4.79e+11      0.854      0.393    -5.3e+11    1.35e+12\n",
       "sqft_basement  2.185e+11   2.56e+11      0.854      0.393   -2.83e+11     7.2e+11\n",
       "yr_built         -0.3060      0.005    -56.869      0.000      -0.317      -0.295\n",
       "sqft_living15     0.0631      0.007      9.404      0.000       0.050       0.076\n",
       "sqft_lot15       -0.0419      0.006     -7.139      0.000      -0.053      -0.030\n",
       "==============================================================================\n",
       "Omnibus:                    16081.087   Durbin-Watson:                   1.977\n",
       "Prob(Omnibus):                  0.000   Jarque-Bera (JB):          1095569.575\n",
       "Skew:                           2.983   Prob(JB):                         0.00\n",
       "Kurtosis:                      37.381   Cond. No.                     4.18e+14\n",
       "==============================================================================\n",
       "\n",
       "Notes:\n",
       "[1] Standard Errors assume that the covariance matrix of the errors is correctly specified.\n",
       "[2] The smallest eigenvalue is 6.1e-25. This might indicate that there are\n",
       "strong multicollinearity problems or that the design matrix is singular.\n",
       "\"\"\""
      ]
     },
     "execution_count": 21,
     "metadata": {},
     "output_type": "execute_result"
    }
   ],
   "source": [
    "X = df_norm.drop('price', axis=1)\n",
    "y = df_norm['price']\n",
    "\n",
    "X_int = sm.add_constant(X)\n",
    "model = sm.OLS(y,X_int).fit()\n",
    "model.summary()"
   ]
  },
  {
   "cell_type": "markdown",
   "metadata": {},
   "source": [
    "## Checking for Multicolinearity"
   ]
  },
  {
   "cell_type": "code",
   "execution_count": 22,
   "metadata": {
    "ExecuteTime": {
     "end_time": "2021-12-13T22:20:09.678016Z",
     "start_time": "2021-12-13T22:20:09.675290Z"
    }
   },
   "outputs": [
    {
     "data": {
      "text/plain": [
       "['price',\n",
       " 'bedrooms',\n",
       " 'bathrooms',\n",
       " 'sqft_living',\n",
       " 'sqft_lot',\n",
       " 'floors',\n",
       " 'waterfront',\n",
       " 'condition',\n",
       " 'grade',\n",
       " 'sqft_above',\n",
       " 'sqft_basement',\n",
       " 'sqft_living15',\n",
       " 'sqft_lot15']"
      ]
     },
     "execution_count": 22,
     "metadata": {},
     "output_type": "execute_result"
    }
   ],
   "source": [
    "#numeric variables\n",
    "numeric_vars= ['price', 'bedrooms', 'bathrooms', 'sqft_living', 'sqft_lot', 'floors', 'waterfront',\n",
    "'condition', 'grade', 'sqft_above', 'sqft_basement', 'sqft_living15', 'sqft_lot15']\n",
    "\n",
    "#numeric_vars= ['price', 'bedrooms', 'bathrooms', 'sqft_living', 'sqft_lot', 'waterfront',\n",
    "#'condition', 'grade', 'sqft_above', 'sqft_basement', 'sqft_living15', 'sqft_lot15']\n",
    "numeric_vars"
   ]
  },
  {
   "cell_type": "code",
   "execution_count": 23,
   "metadata": {
    "ExecuteTime": {
     "end_time": "2021-12-13T22:20:09.690705Z",
     "start_time": "2021-12-13T22:20:09.682924Z"
    }
   },
   "outputs": [
    {
     "data": {
      "text/html": [
       "<div>\n",
       "<style scoped>\n",
       "    .dataframe tbody tr th:only-of-type {\n",
       "        vertical-align: middle;\n",
       "    }\n",
       "\n",
       "    .dataframe tbody tr th {\n",
       "        vertical-align: top;\n",
       "    }\n",
       "\n",
       "    .dataframe thead th {\n",
       "        text-align: right;\n",
       "    }\n",
       "</style>\n",
       "<table border=\"1\" class=\"dataframe\">\n",
       "  <thead>\n",
       "    <tr style=\"text-align: right;\">\n",
       "      <th></th>\n",
       "      <th>price</th>\n",
       "      <th>bedrooms</th>\n",
       "      <th>bathrooms</th>\n",
       "      <th>sqft_living</th>\n",
       "      <th>sqft_lot</th>\n",
       "      <th>floors</th>\n",
       "      <th>waterfront</th>\n",
       "      <th>condition</th>\n",
       "      <th>grade</th>\n",
       "      <th>sqft_above</th>\n",
       "      <th>sqft_basement</th>\n",
       "      <th>yr_built</th>\n",
       "      <th>zipcode</th>\n",
       "      <th>sqft_living15</th>\n",
       "      <th>sqft_lot15</th>\n",
       "    </tr>\n",
       "  </thead>\n",
       "  <tbody>\n",
       "    <tr>\n",
       "      <th>3</th>\n",
       "      <td>660000.0</td>\n",
       "      <td>10</td>\n",
       "      <td>3.0</td>\n",
       "      <td>2920</td>\n",
       "      <td>3745</td>\n",
       "      <td>2.0</td>\n",
       "      <td>0.0</td>\n",
       "      <td>4</td>\n",
       "      <td>7</td>\n",
       "      <td>1860.0</td>\n",
       "      <td>1060.0</td>\n",
       "      <td>1913</td>\n",
       "      <td>98105</td>\n",
       "      <td>1810</td>\n",
       "      <td>3745</td>\n",
       "    </tr>\n",
       "  </tbody>\n",
       "</table>\n",
       "</div>"
      ],
      "text/plain": [
       "      price  bedrooms  bathrooms  sqft_living  sqft_lot  floors  waterfront  \\\n",
       "3  660000.0        10        3.0         2920      3745     2.0         0.0   \n",
       "\n",
       "   condition  grade  sqft_above  sqft_basement  yr_built zipcode  \\\n",
       "3          4      7      1860.0         1060.0      1913   98105   \n",
       "\n",
       "   sqft_living15  sqft_lot15  \n",
       "3           1810        3745  "
      ]
     },
     "execution_count": 23,
     "metadata": {},
     "output_type": "execute_result"
    }
   ],
   "source": [
    "cleaned_df.head(1)"
   ]
  },
  {
   "cell_type": "code",
   "execution_count": 24,
   "metadata": {
    "ExecuteTime": {
     "end_time": "2021-12-13T22:20:09.702433Z",
     "start_time": "2021-12-13T22:20:09.694060Z"
    }
   },
   "outputs": [
    {
     "data": {
      "text/html": [
       "<div>\n",
       "<style scoped>\n",
       "    .dataframe tbody tr th:only-of-type {\n",
       "        vertical-align: middle;\n",
       "    }\n",
       "\n",
       "    .dataframe tbody tr th {\n",
       "        vertical-align: top;\n",
       "    }\n",
       "\n",
       "    .dataframe thead th {\n",
       "        text-align: right;\n",
       "    }\n",
       "</style>\n",
       "<table border=\"1\" class=\"dataframe\">\n",
       "  <thead>\n",
       "    <tr style=\"text-align: right;\">\n",
       "      <th></th>\n",
       "      <th>price</th>\n",
       "      <th>bedrooms</th>\n",
       "      <th>bathrooms</th>\n",
       "      <th>sqft_living</th>\n",
       "      <th>sqft_lot</th>\n",
       "      <th>floors</th>\n",
       "      <th>waterfront</th>\n",
       "      <th>condition</th>\n",
       "      <th>grade</th>\n",
       "      <th>sqft_above</th>\n",
       "      <th>sqft_basement</th>\n",
       "      <th>sqft_living15</th>\n",
       "      <th>sqft_lot15</th>\n",
       "    </tr>\n",
       "  </thead>\n",
       "  <tbody>\n",
       "    <tr>\n",
       "      <th>3</th>\n",
       "      <td>660000.0</td>\n",
       "      <td>10</td>\n",
       "      <td>3.00</td>\n",
       "      <td>2920</td>\n",
       "      <td>3745</td>\n",
       "      <td>2.0</td>\n",
       "      <td>0.0</td>\n",
       "      <td>4</td>\n",
       "      <td>7</td>\n",
       "      <td>1860.0</td>\n",
       "      <td>1060.0</td>\n",
       "      <td>1810</td>\n",
       "      <td>3745</td>\n",
       "    </tr>\n",
       "    <tr>\n",
       "      <th>4</th>\n",
       "      <td>1150000.0</td>\n",
       "      <td>10</td>\n",
       "      <td>5.25</td>\n",
       "      <td>4590</td>\n",
       "      <td>10920</td>\n",
       "      <td>1.0</td>\n",
       "      <td>0.0</td>\n",
       "      <td>3</td>\n",
       "      <td>9</td>\n",
       "      <td>2500.0</td>\n",
       "      <td>2090.0</td>\n",
       "      <td>2730</td>\n",
       "      <td>10400</td>\n",
       "    </tr>\n",
       "    <tr>\n",
       "      <th>5</th>\n",
       "      <td>450000.0</td>\n",
       "      <td>9</td>\n",
       "      <td>7.50</td>\n",
       "      <td>4050</td>\n",
       "      <td>6504</td>\n",
       "      <td>2.0</td>\n",
       "      <td>0.0</td>\n",
       "      <td>3</td>\n",
       "      <td>7</td>\n",
       "      <td>4050.0</td>\n",
       "      <td>0.0</td>\n",
       "      <td>1448</td>\n",
       "      <td>3866</td>\n",
       "    </tr>\n",
       "    <tr>\n",
       "      <th>6</th>\n",
       "      <td>934000.0</td>\n",
       "      <td>9</td>\n",
       "      <td>3.00</td>\n",
       "      <td>2820</td>\n",
       "      <td>4480</td>\n",
       "      <td>2.0</td>\n",
       "      <td>0.0</td>\n",
       "      <td>3</td>\n",
       "      <td>7</td>\n",
       "      <td>1880.0</td>\n",
       "      <td>940.0</td>\n",
       "      <td>2460</td>\n",
       "      <td>4400</td>\n",
       "    </tr>\n",
       "    <tr>\n",
       "      <th>7</th>\n",
       "      <td>700000.0</td>\n",
       "      <td>9</td>\n",
       "      <td>3.00</td>\n",
       "      <td>3680</td>\n",
       "      <td>4400</td>\n",
       "      <td>2.0</td>\n",
       "      <td>0.0</td>\n",
       "      <td>3</td>\n",
       "      <td>7</td>\n",
       "      <td>2830.0</td>\n",
       "      <td>850.0</td>\n",
       "      <td>1960</td>\n",
       "      <td>2450</td>\n",
       "    </tr>\n",
       "  </tbody>\n",
       "</table>\n",
       "</div>"
      ],
      "text/plain": [
       "       price  bedrooms  bathrooms  sqft_living  sqft_lot  floors  waterfront  \\\n",
       "3   660000.0        10       3.00         2920      3745     2.0         0.0   \n",
       "4  1150000.0        10       5.25         4590     10920     1.0         0.0   \n",
       "5   450000.0         9       7.50         4050      6504     2.0         0.0   \n",
       "6   934000.0         9       3.00         2820      4480     2.0         0.0   \n",
       "7   700000.0         9       3.00         3680      4400     2.0         0.0   \n",
       "\n",
       "   condition  grade  sqft_above  sqft_basement  sqft_living15  sqft_lot15  \n",
       "3          4      7      1860.0         1060.0           1810        3745  \n",
       "4          3      9      2500.0         2090.0           2730       10400  \n",
       "5          3      7      4050.0            0.0           1448        3866  \n",
       "6          3      7      1880.0          940.0           2460        4400  \n",
       "7          3      7      2830.0          850.0           1960        2450  "
      ]
     },
     "execution_count": 24,
     "metadata": {},
     "output_type": "execute_result"
    }
   ],
   "source": [
    "num_var_df = cleaned_df.loc[:,numeric_vars]\n",
    "num_var_df.head()"
   ]
  },
  {
   "cell_type": "code",
   "execution_count": 25,
   "metadata": {
    "ExecuteTime": {
     "end_time": "2021-12-13T22:20:09.705202Z",
     "start_time": "2021-12-13T22:20:09.703491Z"
    }
   },
   "outputs": [],
   "source": [
    "#scatter matrix for numeric variables\n",
    "#pd.plotting.scatter_matrix(king_preprocessed, figsize=[20, 20]);"
   ]
  },
  {
   "cell_type": "code",
   "execution_count": 26,
   "metadata": {
    "ExecuteTime": {
     "end_time": "2021-12-13T22:20:09.721017Z",
     "start_time": "2021-12-13T22:20:09.706174Z"
    }
   },
   "outputs": [
    {
     "data": {
      "text/html": [
       "<div>\n",
       "<style scoped>\n",
       "    .dataframe tbody tr th:only-of-type {\n",
       "        vertical-align: middle;\n",
       "    }\n",
       "\n",
       "    .dataframe tbody tr th {\n",
       "        vertical-align: top;\n",
       "    }\n",
       "\n",
       "    .dataframe thead th {\n",
       "        text-align: right;\n",
       "    }\n",
       "</style>\n",
       "<table border=\"1\" class=\"dataframe\">\n",
       "  <thead>\n",
       "    <tr style=\"text-align: right;\">\n",
       "      <th></th>\n",
       "      <th>price</th>\n",
       "      <th>bedrooms</th>\n",
       "      <th>bathrooms</th>\n",
       "      <th>sqft_living</th>\n",
       "      <th>sqft_lot</th>\n",
       "      <th>floors</th>\n",
       "      <th>waterfront</th>\n",
       "      <th>condition</th>\n",
       "      <th>grade</th>\n",
       "      <th>sqft_above</th>\n",
       "      <th>sqft_basement</th>\n",
       "      <th>sqft_living15</th>\n",
       "      <th>sqft_lot15</th>\n",
       "    </tr>\n",
       "  </thead>\n",
       "  <tbody>\n",
       "    <tr>\n",
       "      <th>price</th>\n",
       "      <td>1.000000</td>\n",
       "      <td>0.316799</td>\n",
       "      <td>0.525938</td>\n",
       "      <td>0.701971</td>\n",
       "      <td>0.089880</td>\n",
       "      <td>0.256821</td>\n",
       "      <td>0.264309</td>\n",
       "      <td>0.036018</td>\n",
       "      <td>0.667981</td>\n",
       "      <td>0.605413</td>\n",
       "      <td>0.323795</td>\n",
       "      <td>0.585274</td>\n",
       "      <td>0.082849</td>\n",
       "    </tr>\n",
       "    <tr>\n",
       "      <th>bedrooms</th>\n",
       "      <td>0.316799</td>\n",
       "      <td>1.000000</td>\n",
       "      <td>0.529021</td>\n",
       "      <td>0.593994</td>\n",
       "      <td>0.033822</td>\n",
       "      <td>0.183562</td>\n",
       "      <td>-0.002000</td>\n",
       "      <td>0.023447</td>\n",
       "      <td>0.367654</td>\n",
       "      <td>0.493213</td>\n",
       "      <td>0.309656</td>\n",
       "      <td>0.406011</td>\n",
       "      <td>0.032107</td>\n",
       "    </tr>\n",
       "    <tr>\n",
       "      <th>bathrooms</th>\n",
       "      <td>0.525938</td>\n",
       "      <td>0.529021</td>\n",
       "      <td>1.000000</td>\n",
       "      <td>0.755803</td>\n",
       "      <td>0.088384</td>\n",
       "      <td>0.502567</td>\n",
       "      <td>0.063634</td>\n",
       "      <td>-0.126411</td>\n",
       "      <td>0.665890</td>\n",
       "      <td>0.686700</td>\n",
       "      <td>0.283441</td>\n",
       "      <td>0.569949</td>\n",
       "      <td>0.088315</td>\n",
       "    </tr>\n",
       "    <tr>\n",
       "      <th>sqft_living</th>\n",
       "      <td>0.701971</td>\n",
       "      <td>0.593994</td>\n",
       "      <td>0.755803</td>\n",
       "      <td>1.000000</td>\n",
       "      <td>0.173482</td>\n",
       "      <td>0.353871</td>\n",
       "      <td>0.104655</td>\n",
       "      <td>-0.059444</td>\n",
       "      <td>0.762923</td>\n",
       "      <td>0.876432</td>\n",
       "      <td>0.435114</td>\n",
       "      <td>0.756510</td>\n",
       "      <td>0.184369</td>\n",
       "    </tr>\n",
       "    <tr>\n",
       "      <th>sqft_lot</th>\n",
       "      <td>0.089880</td>\n",
       "      <td>0.033822</td>\n",
       "      <td>0.088384</td>\n",
       "      <td>0.173482</td>\n",
       "      <td>1.000000</td>\n",
       "      <td>-0.004810</td>\n",
       "      <td>0.021457</td>\n",
       "      <td>-0.008810</td>\n",
       "      <td>0.114720</td>\n",
       "      <td>0.184159</td>\n",
       "      <td>0.015435</td>\n",
       "      <td>0.144749</td>\n",
       "      <td>0.718202</td>\n",
       "    </tr>\n",
       "    <tr>\n",
       "      <th>floors</th>\n",
       "      <td>0.256821</td>\n",
       "      <td>0.183562</td>\n",
       "      <td>0.502567</td>\n",
       "      <td>0.353871</td>\n",
       "      <td>-0.004810</td>\n",
       "      <td>1.000000</td>\n",
       "      <td>0.020802</td>\n",
       "      <td>-0.264044</td>\n",
       "      <td>0.458857</td>\n",
       "      <td>0.523929</td>\n",
       "      <td>-0.245770</td>\n",
       "      <td>0.280121</td>\n",
       "      <td>-0.010721</td>\n",
       "    </tr>\n",
       "    <tr>\n",
       "      <th>waterfront</th>\n",
       "      <td>0.264309</td>\n",
       "      <td>-0.002000</td>\n",
       "      <td>0.063634</td>\n",
       "      <td>0.104655</td>\n",
       "      <td>0.021457</td>\n",
       "      <td>0.020802</td>\n",
       "      <td>1.000000</td>\n",
       "      <td>0.016661</td>\n",
       "      <td>0.082814</td>\n",
       "      <td>0.071789</td>\n",
       "      <td>0.082810</td>\n",
       "      <td>0.083820</td>\n",
       "      <td>0.030656</td>\n",
       "    </tr>\n",
       "    <tr>\n",
       "      <th>condition</th>\n",
       "      <td>0.036018</td>\n",
       "      <td>0.023447</td>\n",
       "      <td>-0.126411</td>\n",
       "      <td>-0.059444</td>\n",
       "      <td>-0.008810</td>\n",
       "      <td>-0.264044</td>\n",
       "      <td>0.016661</td>\n",
       "      <td>1.000000</td>\n",
       "      <td>-0.146853</td>\n",
       "      <td>-0.158881</td>\n",
       "      <td>0.173801</td>\n",
       "      <td>-0.093010</td>\n",
       "      <td>-0.003100</td>\n",
       "    </tr>\n",
       "    <tr>\n",
       "      <th>grade</th>\n",
       "      <td>0.667981</td>\n",
       "      <td>0.367654</td>\n",
       "      <td>0.665890</td>\n",
       "      <td>0.762923</td>\n",
       "      <td>0.114720</td>\n",
       "      <td>0.458857</td>\n",
       "      <td>0.082814</td>\n",
       "      <td>-0.146853</td>\n",
       "      <td>1.000000</td>\n",
       "      <td>0.756185</td>\n",
       "      <td>0.168282</td>\n",
       "      <td>0.713865</td>\n",
       "      <td>0.120968</td>\n",
       "    </tr>\n",
       "    <tr>\n",
       "      <th>sqft_above</th>\n",
       "      <td>0.605413</td>\n",
       "      <td>0.493213</td>\n",
       "      <td>0.686700</td>\n",
       "      <td>0.876432</td>\n",
       "      <td>0.184159</td>\n",
       "      <td>0.523929</td>\n",
       "      <td>0.071789</td>\n",
       "      <td>-0.158881</td>\n",
       "      <td>0.756185</td>\n",
       "      <td>1.000000</td>\n",
       "      <td>-0.052206</td>\n",
       "      <td>0.731837</td>\n",
       "      <td>0.195094</td>\n",
       "    </tr>\n",
       "    <tr>\n",
       "      <th>sqft_basement</th>\n",
       "      <td>0.323795</td>\n",
       "      <td>0.309656</td>\n",
       "      <td>0.283441</td>\n",
       "      <td>0.435114</td>\n",
       "      <td>0.015435</td>\n",
       "      <td>-0.245770</td>\n",
       "      <td>0.082810</td>\n",
       "      <td>0.173801</td>\n",
       "      <td>0.168282</td>\n",
       "      <td>-0.052206</td>\n",
       "      <td>1.000000</td>\n",
       "      <td>0.200510</td>\n",
       "      <td>0.017570</td>\n",
       "    </tr>\n",
       "    <tr>\n",
       "      <th>sqft_living15</th>\n",
       "      <td>0.585274</td>\n",
       "      <td>0.406011</td>\n",
       "      <td>0.569949</td>\n",
       "      <td>0.756510</td>\n",
       "      <td>0.144749</td>\n",
       "      <td>0.280121</td>\n",
       "      <td>0.083820</td>\n",
       "      <td>-0.093010</td>\n",
       "      <td>0.713865</td>\n",
       "      <td>0.731837</td>\n",
       "      <td>0.200510</td>\n",
       "      <td>1.000000</td>\n",
       "      <td>0.183499</td>\n",
       "    </tr>\n",
       "    <tr>\n",
       "      <th>sqft_lot15</th>\n",
       "      <td>0.082849</td>\n",
       "      <td>0.032107</td>\n",
       "      <td>0.088315</td>\n",
       "      <td>0.184369</td>\n",
       "      <td>0.718202</td>\n",
       "      <td>-0.010721</td>\n",
       "      <td>0.030656</td>\n",
       "      <td>-0.003100</td>\n",
       "      <td>0.120968</td>\n",
       "      <td>0.195094</td>\n",
       "      <td>0.017570</td>\n",
       "      <td>0.183499</td>\n",
       "      <td>1.000000</td>\n",
       "    </tr>\n",
       "  </tbody>\n",
       "</table>\n",
       "</div>"
      ],
      "text/plain": [
       "                  price  bedrooms  bathrooms  sqft_living  sqft_lot    floors  \\\n",
       "price          1.000000  0.316799   0.525938     0.701971  0.089880  0.256821   \n",
       "bedrooms       0.316799  1.000000   0.529021     0.593994  0.033822  0.183562   \n",
       "bathrooms      0.525938  0.529021   1.000000     0.755803  0.088384  0.502567   \n",
       "sqft_living    0.701971  0.593994   0.755803     1.000000  0.173482  0.353871   \n",
       "sqft_lot       0.089880  0.033822   0.088384     0.173482  1.000000 -0.004810   \n",
       "floors         0.256821  0.183562   0.502567     0.353871 -0.004810  1.000000   \n",
       "waterfront     0.264309 -0.002000   0.063634     0.104655  0.021457  0.020802   \n",
       "condition      0.036018  0.023447  -0.126411    -0.059444 -0.008810 -0.264044   \n",
       "grade          0.667981  0.367654   0.665890     0.762923  0.114720  0.458857   \n",
       "sqft_above     0.605413  0.493213   0.686700     0.876432  0.184159  0.523929   \n",
       "sqft_basement  0.323795  0.309656   0.283441     0.435114  0.015435 -0.245770   \n",
       "sqft_living15  0.585274  0.406011   0.569949     0.756510  0.144749  0.280121   \n",
       "sqft_lot15     0.082849  0.032107   0.088315     0.184369  0.718202 -0.010721   \n",
       "\n",
       "               waterfront  condition     grade  sqft_above  sqft_basement  \\\n",
       "price            0.264309   0.036018  0.667981    0.605413       0.323795   \n",
       "bedrooms        -0.002000   0.023447  0.367654    0.493213       0.309656   \n",
       "bathrooms        0.063634  -0.126411  0.665890    0.686700       0.283441   \n",
       "sqft_living      0.104655  -0.059444  0.762923    0.876432       0.435114   \n",
       "sqft_lot         0.021457  -0.008810  0.114720    0.184159       0.015435   \n",
       "floors           0.020802  -0.264044  0.458857    0.523929      -0.245770   \n",
       "waterfront       1.000000   0.016661  0.082814    0.071789       0.082810   \n",
       "condition        0.016661   1.000000 -0.146853   -0.158881       0.173801   \n",
       "grade            0.082814  -0.146853  1.000000    0.756185       0.168282   \n",
       "sqft_above       0.071789  -0.158881  0.756185    1.000000      -0.052206   \n",
       "sqft_basement    0.082810   0.173801  0.168282   -0.052206       1.000000   \n",
       "sqft_living15    0.083820  -0.093010  0.713865    0.731837       0.200510   \n",
       "sqft_lot15       0.030656  -0.003100  0.120968    0.195094       0.017570   \n",
       "\n",
       "               sqft_living15  sqft_lot15  \n",
       "price               0.585274    0.082849  \n",
       "bedrooms            0.406011    0.032107  \n",
       "bathrooms           0.569949    0.088315  \n",
       "sqft_living         0.756510    0.184369  \n",
       "sqft_lot            0.144749    0.718202  \n",
       "floors              0.280121   -0.010721  \n",
       "waterfront          0.083820    0.030656  \n",
       "condition          -0.093010   -0.003100  \n",
       "grade               0.713865    0.120968  \n",
       "sqft_above          0.731837    0.195094  \n",
       "sqft_basement       0.200510    0.017570  \n",
       "sqft_living15       1.000000    0.183499  \n",
       "sqft_lot15          0.183499    1.000000  "
      ]
     },
     "execution_count": 26,
     "metadata": {},
     "output_type": "execute_result"
    }
   ],
   "source": [
    "#correlation matrix\n",
    "num_var_df.corr()"
   ]
  },
  {
   "cell_type": "code",
   "execution_count": 27,
   "metadata": {
    "ExecuteTime": {
     "end_time": "2021-12-13T22:20:09.723683Z",
     "start_time": "2021-12-13T22:20:09.722029Z"
    }
   },
   "outputs": [],
   "source": [
    "#abs(king_preprocessed.corr()) > 0.75"
   ]
  },
  {
   "cell_type": "code",
   "execution_count": 28,
   "metadata": {
    "ExecuteTime": {
     "end_time": "2021-12-13T22:20:09.739661Z",
     "start_time": "2021-12-13T22:20:09.724747Z"
    }
   },
   "outputs": [
    {
     "data": {
      "text/html": [
       "<div>\n",
       "<style scoped>\n",
       "    .dataframe tbody tr th:only-of-type {\n",
       "        vertical-align: middle;\n",
       "    }\n",
       "\n",
       "    .dataframe tbody tr th {\n",
       "        vertical-align: top;\n",
       "    }\n",
       "\n",
       "    .dataframe thead th {\n",
       "        text-align: right;\n",
       "    }\n",
       "</style>\n",
       "<table border=\"1\" class=\"dataframe\">\n",
       "  <thead>\n",
       "    <tr style=\"text-align: right;\">\n",
       "      <th></th>\n",
       "      <th>cc</th>\n",
       "    </tr>\n",
       "    <tr>\n",
       "      <th>pairs</th>\n",
       "      <th></th>\n",
       "    </tr>\n",
       "  </thead>\n",
       "  <tbody>\n",
       "    <tr>\n",
       "      <th>(sqft_above, sqft_living)</th>\n",
       "      <td>0.876432</td>\n",
       "    </tr>\n",
       "    <tr>\n",
       "      <th>(sqft_living, grade)</th>\n",
       "      <td>0.762923</td>\n",
       "    </tr>\n",
       "    <tr>\n",
       "      <th>(sqft_living15, sqft_living)</th>\n",
       "      <td>0.756510</td>\n",
       "    </tr>\n",
       "    <tr>\n",
       "      <th>(grade, sqft_above)</th>\n",
       "      <td>0.756185</td>\n",
       "    </tr>\n",
       "    <tr>\n",
       "      <th>(bathrooms, sqft_living)</th>\n",
       "      <td>0.755803</td>\n",
       "    </tr>\n",
       "  </tbody>\n",
       "</table>\n",
       "</div>"
      ],
      "text/plain": [
       "                                    cc\n",
       "pairs                                 \n",
       "(sqft_above, sqft_living)     0.876432\n",
       "(sqft_living, grade)          0.762923\n",
       "(sqft_living15, sqft_living)  0.756510\n",
       "(grade, sqft_above)           0.756185\n",
       "(bathrooms, sqft_living)      0.755803"
      ]
     },
     "execution_count": 28,
     "metadata": {},
     "output_type": "execute_result"
    }
   ],
   "source": [
    "cc_df = num_var_df.corr().abs().stack().reset_index().sort_values(0, ascending=False)\n",
    "\n",
    "cc_df['pairs'] = list(zip(cc_df.level_0, cc_df.level_1))\n",
    "\n",
    "cc_df.set_index(['pairs'], inplace = True)\n",
    "\n",
    "cc_df.drop(columns=['level_1', 'level_0'], inplace = True)\n",
    "\n",
    "# cc for correlation coefficient\n",
    "cc_df.columns = ['cc']\n",
    "\n",
    "cc_df.drop_duplicates(inplace=True)\n",
    "\n",
    "cc_df[(cc_df.cc>.75) & (cc_df.cc<1)]"
   ]
  },
  {
   "cell_type": "markdown",
   "metadata": {
    "ExecuteTime": {
     "end_time": "2021-12-08T18:32:04.005455Z",
     "start_time": "2021-12-08T18:32:04.002348Z"
    }
   },
   "source": [
    "I need to remove some of these variables to prevent multicolineartiy. \n"
   ]
  },
  {
   "cell_type": "markdown",
   "metadata": {},
   "source": [
    "### Multicollinearity Analysis\n",
    "\n",
    "There are 5 sets of variables that are highly correlated.  "
   ]
  },
  {
   "cell_type": "code",
   "execution_count": 29,
   "metadata": {
    "ExecuteTime": {
     "end_time": "2021-12-13T22:20:09.742957Z",
     "start_time": "2021-12-13T22:20:09.741439Z"
    }
   },
   "outputs": [],
   "source": [
    "#removing these two variables removes all of the colinearity pairs\n",
    "#king_preprocessed.drop(columns=['sqft_above', 'sqft_living'], inplace=True)"
   ]
  },
  {
   "cell_type": "code",
   "execution_count": 30,
   "metadata": {
    "ExecuteTime": {
     "end_time": "2021-12-13T22:20:09.750600Z",
     "start_time": "2021-12-13T22:20:09.744053Z"
    }
   },
   "outputs": [
    {
     "data": {
      "text/html": [
       "<div>\n",
       "<style scoped>\n",
       "    .dataframe tbody tr th:only-of-type {\n",
       "        vertical-align: middle;\n",
       "    }\n",
       "\n",
       "    .dataframe tbody tr th {\n",
       "        vertical-align: top;\n",
       "    }\n",
       "\n",
       "    .dataframe thead th {\n",
       "        text-align: right;\n",
       "    }\n",
       "</style>\n",
       "<table border=\"1\" class=\"dataframe\">\n",
       "  <thead>\n",
       "    <tr style=\"text-align: right;\">\n",
       "      <th></th>\n",
       "      <th>price</th>\n",
       "      <th>bedrooms</th>\n",
       "      <th>bathrooms</th>\n",
       "      <th>sqft_living</th>\n",
       "      <th>sqft_lot</th>\n",
       "      <th>floors</th>\n",
       "      <th>waterfront</th>\n",
       "      <th>condition</th>\n",
       "      <th>grade</th>\n",
       "      <th>sqft_above</th>\n",
       "      <th>sqft_basement</th>\n",
       "      <th>sqft_living15</th>\n",
       "      <th>sqft_lot15</th>\n",
       "    </tr>\n",
       "  </thead>\n",
       "  <tbody>\n",
       "    <tr>\n",
       "      <th>3</th>\n",
       "      <td>660000.0</td>\n",
       "      <td>10</td>\n",
       "      <td>3.0</td>\n",
       "      <td>2920</td>\n",
       "      <td>3745</td>\n",
       "      <td>2.0</td>\n",
       "      <td>0.0</td>\n",
       "      <td>4</td>\n",
       "      <td>7</td>\n",
       "      <td>1860.0</td>\n",
       "      <td>1060.0</td>\n",
       "      <td>1810</td>\n",
       "      <td>3745</td>\n",
       "    </tr>\n",
       "  </tbody>\n",
       "</table>\n",
       "</div>"
      ],
      "text/plain": [
       "      price  bedrooms  bathrooms  sqft_living  sqft_lot  floors  waterfront  \\\n",
       "3  660000.0        10        3.0         2920      3745     2.0         0.0   \n",
       "\n",
       "   condition  grade  sqft_above  sqft_basement  sqft_living15  sqft_lot15  \n",
       "3          4      7      1860.0         1060.0           1810        3745  "
      ]
     },
     "execution_count": 30,
     "metadata": {},
     "output_type": "execute_result"
    }
   ],
   "source": [
    "num_var_df.head(1)"
   ]
  },
  {
   "cell_type": "code",
   "execution_count": 31,
   "metadata": {
    "ExecuteTime": {
     "end_time": "2021-12-13T22:20:09.753224Z",
     "start_time": "2021-12-13T22:20:09.751618Z"
    }
   },
   "outputs": [],
   "source": [
    "test_df_2 = num_var_df"
   ]
  },
  {
   "cell_type": "code",
   "execution_count": 32,
   "metadata": {
    "ExecuteTime": {
     "end_time": "2021-12-13T22:20:09.761119Z",
     "start_time": "2021-12-13T22:20:09.754317Z"
    }
   },
   "outputs": [
    {
     "data": {
      "text/html": [
       "<div>\n",
       "<style scoped>\n",
       "    .dataframe tbody tr th:only-of-type {\n",
       "        vertical-align: middle;\n",
       "    }\n",
       "\n",
       "    .dataframe tbody tr th {\n",
       "        vertical-align: top;\n",
       "    }\n",
       "\n",
       "    .dataframe thead th {\n",
       "        text-align: right;\n",
       "    }\n",
       "</style>\n",
       "<table border=\"1\" class=\"dataframe\">\n",
       "  <thead>\n",
       "    <tr style=\"text-align: right;\">\n",
       "      <th></th>\n",
       "      <th>price</th>\n",
       "      <th>bedrooms</th>\n",
       "      <th>bathrooms</th>\n",
       "      <th>sqft_lot</th>\n",
       "      <th>floors</th>\n",
       "      <th>waterfront</th>\n",
       "      <th>condition</th>\n",
       "      <th>sqft_above</th>\n",
       "      <th>sqft_basement</th>\n",
       "      <th>sqft_living15</th>\n",
       "      <th>sqft_lot15</th>\n",
       "    </tr>\n",
       "  </thead>\n",
       "  <tbody>\n",
       "    <tr>\n",
       "      <th>3</th>\n",
       "      <td>660000.0</td>\n",
       "      <td>10</td>\n",
       "      <td>3.0</td>\n",
       "      <td>3745</td>\n",
       "      <td>2.0</td>\n",
       "      <td>0.0</td>\n",
       "      <td>4</td>\n",
       "      <td>1860.0</td>\n",
       "      <td>1060.0</td>\n",
       "      <td>1810</td>\n",
       "      <td>3745</td>\n",
       "    </tr>\n",
       "  </tbody>\n",
       "</table>\n",
       "</div>"
      ],
      "text/plain": [
       "      price  bedrooms  bathrooms  sqft_lot  floors  waterfront  condition  \\\n",
       "3  660000.0        10        3.0      3745     2.0         0.0          4   \n",
       "\n",
       "   sqft_above  sqft_basement  sqft_living15  sqft_lot15  \n",
       "3      1860.0         1060.0           1810        3745  "
      ]
     },
     "execution_count": 32,
     "metadata": {},
     "output_type": "execute_result"
    }
   ],
   "source": [
    "test_df_2.drop(columns=['grade', 'sqft_living'], axis=1, inplace=True)\n",
    "test_df_2.head(1)"
   ]
  },
  {
   "cell_type": "code",
   "execution_count": 33,
   "metadata": {
    "ExecuteTime": {
     "end_time": "2021-12-13T22:20:09.774095Z",
     "start_time": "2021-12-13T22:20:09.762151Z"
    }
   },
   "outputs": [
    {
     "data": {
      "text/html": [
       "<div>\n",
       "<style scoped>\n",
       "    .dataframe tbody tr th:only-of-type {\n",
       "        vertical-align: middle;\n",
       "    }\n",
       "\n",
       "    .dataframe tbody tr th {\n",
       "        vertical-align: top;\n",
       "    }\n",
       "\n",
       "    .dataframe thead th {\n",
       "        text-align: right;\n",
       "    }\n",
       "</style>\n",
       "<table border=\"1\" class=\"dataframe\">\n",
       "  <thead>\n",
       "    <tr style=\"text-align: right;\">\n",
       "      <th></th>\n",
       "      <th>cc</th>\n",
       "    </tr>\n",
       "    <tr>\n",
       "      <th>pairs</th>\n",
       "      <th></th>\n",
       "    </tr>\n",
       "  </thead>\n",
       "  <tbody>\n",
       "  </tbody>\n",
       "</table>\n",
       "</div>"
      ],
      "text/plain": [
       "Empty DataFrame\n",
       "Columns: [cc]\n",
       "Index: []"
      ]
     },
     "execution_count": 33,
     "metadata": {},
     "output_type": "execute_result"
    }
   ],
   "source": [
    "cc_df = test_df_2.corr().abs().stack().reset_index().sort_values(0, ascending=False)\n",
    "\n",
    "cc_df['pairs'] = list(zip(cc_df.level_0, cc_df.level_1))\n",
    "\n",
    "cc_df.set_index(['pairs'], inplace = True)\n",
    "\n",
    "cc_df.drop(columns=['level_1', 'level_0'], inplace = True)\n",
    "\n",
    "# cc for correlation coefficient\n",
    "cc_df.columns = ['cc']\n",
    "\n",
    "cc_df.drop_duplicates(inplace=True)\n",
    "\n",
    "cc_df[(cc_df.cc>.75) & (cc_df.cc<1)]"
   ]
  },
  {
   "cell_type": "markdown",
   "metadata": {
    "ExecuteTime": {
     "end_time": "2021-12-09T21:47:51.906216Z",
     "start_time": "2021-12-09T21:47:51.901692Z"
    }
   },
   "source": [
    "## Check VIF Scores!!!!"
   ]
  },
  {
   "cell_type": "code",
   "execution_count": null,
   "metadata": {
    "ExecuteTime": {
     "end_time": "2021-12-10T19:43:46.885279Z",
     "start_time": "2021-12-10T19:43:46.874411Z"
    }
   },
   "outputs": [],
   "source": [
    "#def variance_inflation_factors(exog_df):\n",
    "#    exog_df = add_constant(exog_df)\n",
    "#    vifs = pd.Series(\n",
    "#        [1 / (1. - OLS(exog_df[col].values, \n",
    "#                       exog_df.loc[:, exog_df.columns != col].values).fit().rsquared) \n",
    "#         for col in exog_df],\n",
    "#        index=exog_df.columns,\n",
    "#        name='VIF'\n",
    "#    )\n",
    "#    return vifs"
   ]
  },
  {
   "cell_type": "markdown",
   "metadata": {},
   "source": [
    "# Model #2"
   ]
  },
  {
   "cell_type": "markdown",
   "metadata": {},
   "source": [
    "## Make Changes to Model HERE!"
   ]
  },
  {
   "cell_type": "code",
   "execution_count": 34,
   "metadata": {
    "ExecuteTime": {
     "end_time": "2021-12-13T22:21:04.363496Z",
     "start_time": "2021-12-13T22:21:04.357396Z"
    }
   },
   "outputs": [
    {
     "data": {
      "text/html": [
       "<div>\n",
       "<style scoped>\n",
       "    .dataframe tbody tr th:only-of-type {\n",
       "        vertical-align: middle;\n",
       "    }\n",
       "\n",
       "    .dataframe tbody tr th {\n",
       "        vertical-align: top;\n",
       "    }\n",
       "\n",
       "    .dataframe thead th {\n",
       "        text-align: right;\n",
       "    }\n",
       "</style>\n",
       "<table border=\"1\" class=\"dataframe\">\n",
       "  <thead>\n",
       "    <tr style=\"text-align: right;\">\n",
       "      <th></th>\n",
       "      <th>price</th>\n",
       "      <th>bedrooms</th>\n",
       "      <th>bathrooms</th>\n",
       "      <th>sqft_living</th>\n",
       "      <th>sqft_lot</th>\n",
       "      <th>floors</th>\n",
       "      <th>waterfront</th>\n",
       "      <th>condition</th>\n",
       "      <th>grade</th>\n",
       "      <th>sqft_above</th>\n",
       "      <th>sqft_basement</th>\n",
       "      <th>yr_built</th>\n",
       "      <th>zipcode</th>\n",
       "      <th>sqft_living15</th>\n",
       "      <th>sqft_lot15</th>\n",
       "    </tr>\n",
       "  </thead>\n",
       "  <tbody>\n",
       "    <tr>\n",
       "      <th>3</th>\n",
       "      <td>660000.0</td>\n",
       "      <td>10</td>\n",
       "      <td>3.0</td>\n",
       "      <td>2920</td>\n",
       "      <td>3745</td>\n",
       "      <td>2.0</td>\n",
       "      <td>0.0</td>\n",
       "      <td>4</td>\n",
       "      <td>7</td>\n",
       "      <td>1860.0</td>\n",
       "      <td>1060.0</td>\n",
       "      <td>1913</td>\n",
       "      <td>98105</td>\n",
       "      <td>1810</td>\n",
       "      <td>3745</td>\n",
       "    </tr>\n",
       "  </tbody>\n",
       "</table>\n",
       "</div>"
      ],
      "text/plain": [
       "      price  bedrooms  bathrooms  sqft_living  sqft_lot  floors  waterfront  \\\n",
       "3  660000.0        10        3.0         2920      3745     2.0         0.0   \n",
       "\n",
       "   condition  grade  sqft_above  sqft_basement  yr_built zipcode  \\\n",
       "3          4      7      1860.0         1060.0      1913   98105   \n",
       "\n",
       "   sqft_living15  sqft_lot15  \n",
       "3           1810        3745  "
      ]
     },
     "execution_count": 34,
     "metadata": {},
     "output_type": "execute_result"
    }
   ],
   "source": [
    "cleaned_df.head(1)"
   ]
  },
  {
   "cell_type": "code",
   "execution_count": 35,
   "metadata": {
    "ExecuteTime": {
     "end_time": "2021-12-13T22:21:36.705024Z",
     "start_time": "2021-12-13T22:21:36.701767Z"
    }
   },
   "outputs": [],
   "source": [
    "# drop more columns?\n",
    "changed_df = cleaned_df\n",
    "#changed_df = changed_df.drop(test_df[['zipcode']], axis=1)\n",
    "#changed_df.head()"
   ]
  },
  {
   "cell_type": "code",
   "execution_count": null,
   "metadata": {},
   "outputs": [],
   "source": [
    "#one-hot encoding\n",
    "#feats = ['bedrooms','floors', 'waterfront', 'condition', 'zipcode']\n",
    "#feats = ['bedrooms','waterfront', 'condition']\n",
    "#changed_df[feats] = changed_df[feats].astype(str)\n",
    "#changed_df = pd.get_dummies(changed_df, drop_first=True)"
   ]
  },
  {
   "cell_type": "code",
   "execution_count": 36,
   "metadata": {
    "ExecuteTime": {
     "end_time": "2021-12-13T22:26:30.867062Z",
     "start_time": "2021-12-13T22:26:30.803958Z"
    }
   },
   "outputs": [
    {
     "data": {
      "text/html": [
       "<div>\n",
       "<style scoped>\n",
       "    .dataframe tbody tr th:only-of-type {\n",
       "        vertical-align: middle;\n",
       "    }\n",
       "\n",
       "    .dataframe tbody tr th {\n",
       "        vertical-align: top;\n",
       "    }\n",
       "\n",
       "    .dataframe thead th {\n",
       "        text-align: right;\n",
       "    }\n",
       "</style>\n",
       "<table border=\"1\" class=\"dataframe\">\n",
       "  <thead>\n",
       "    <tr style=\"text-align: right;\">\n",
       "      <th></th>\n",
       "      <th>price</th>\n",
       "      <th>bedrooms</th>\n",
       "      <th>bathrooms</th>\n",
       "      <th>sqft_living</th>\n",
       "      <th>sqft_lot</th>\n",
       "      <th>floors</th>\n",
       "      <th>condition</th>\n",
       "      <th>grade</th>\n",
       "      <th>sqft_above</th>\n",
       "      <th>sqft_basement</th>\n",
       "      <th>...</th>\n",
       "      <th>zipcode_98146</th>\n",
       "      <th>zipcode_98148</th>\n",
       "      <th>zipcode_98155</th>\n",
       "      <th>zipcode_98166</th>\n",
       "      <th>zipcode_98168</th>\n",
       "      <th>zipcode_98177</th>\n",
       "      <th>zipcode_98178</th>\n",
       "      <th>zipcode_98188</th>\n",
       "      <th>zipcode_98198</th>\n",
       "      <th>zipcode_98199</th>\n",
       "    </tr>\n",
       "  </thead>\n",
       "  <tbody>\n",
       "    <tr>\n",
       "      <th>3</th>\n",
       "      <td>660000.0</td>\n",
       "      <td>10</td>\n",
       "      <td>3.00</td>\n",
       "      <td>2920</td>\n",
       "      <td>3745</td>\n",
       "      <td>2.0</td>\n",
       "      <td>4</td>\n",
       "      <td>7</td>\n",
       "      <td>1860.0</td>\n",
       "      <td>1060.0</td>\n",
       "      <td>...</td>\n",
       "      <td>0</td>\n",
       "      <td>0</td>\n",
       "      <td>0</td>\n",
       "      <td>0</td>\n",
       "      <td>0</td>\n",
       "      <td>0</td>\n",
       "      <td>0</td>\n",
       "      <td>0</td>\n",
       "      <td>0</td>\n",
       "      <td>0</td>\n",
       "    </tr>\n",
       "    <tr>\n",
       "      <th>4</th>\n",
       "      <td>1150000.0</td>\n",
       "      <td>10</td>\n",
       "      <td>5.25</td>\n",
       "      <td>4590</td>\n",
       "      <td>10920</td>\n",
       "      <td>1.0</td>\n",
       "      <td>3</td>\n",
       "      <td>9</td>\n",
       "      <td>2500.0</td>\n",
       "      <td>2090.0</td>\n",
       "      <td>...</td>\n",
       "      <td>0</td>\n",
       "      <td>0</td>\n",
       "      <td>0</td>\n",
       "      <td>0</td>\n",
       "      <td>0</td>\n",
       "      <td>0</td>\n",
       "      <td>0</td>\n",
       "      <td>0</td>\n",
       "      <td>0</td>\n",
       "      <td>0</td>\n",
       "    </tr>\n",
       "    <tr>\n",
       "      <th>5</th>\n",
       "      <td>450000.0</td>\n",
       "      <td>9</td>\n",
       "      <td>7.50</td>\n",
       "      <td>4050</td>\n",
       "      <td>6504</td>\n",
       "      <td>2.0</td>\n",
       "      <td>3</td>\n",
       "      <td>7</td>\n",
       "      <td>4050.0</td>\n",
       "      <td>0.0</td>\n",
       "      <td>...</td>\n",
       "      <td>0</td>\n",
       "      <td>0</td>\n",
       "      <td>0</td>\n",
       "      <td>0</td>\n",
       "      <td>0</td>\n",
       "      <td>0</td>\n",
       "      <td>0</td>\n",
       "      <td>0</td>\n",
       "      <td>0</td>\n",
       "      <td>0</td>\n",
       "    </tr>\n",
       "    <tr>\n",
       "      <th>6</th>\n",
       "      <td>934000.0</td>\n",
       "      <td>9</td>\n",
       "      <td>3.00</td>\n",
       "      <td>2820</td>\n",
       "      <td>4480</td>\n",
       "      <td>2.0</td>\n",
       "      <td>3</td>\n",
       "      <td>7</td>\n",
       "      <td>1880.0</td>\n",
       "      <td>940.0</td>\n",
       "      <td>...</td>\n",
       "      <td>0</td>\n",
       "      <td>0</td>\n",
       "      <td>0</td>\n",
       "      <td>0</td>\n",
       "      <td>0</td>\n",
       "      <td>0</td>\n",
       "      <td>0</td>\n",
       "      <td>0</td>\n",
       "      <td>0</td>\n",
       "      <td>0</td>\n",
       "    </tr>\n",
       "    <tr>\n",
       "      <th>7</th>\n",
       "      <td>700000.0</td>\n",
       "      <td>9</td>\n",
       "      <td>3.00</td>\n",
       "      <td>3680</td>\n",
       "      <td>4400</td>\n",
       "      <td>2.0</td>\n",
       "      <td>3</td>\n",
       "      <td>7</td>\n",
       "      <td>2830.0</td>\n",
       "      <td>850.0</td>\n",
       "      <td>...</td>\n",
       "      <td>0</td>\n",
       "      <td>0</td>\n",
       "      <td>0</td>\n",
       "      <td>0</td>\n",
       "      <td>0</td>\n",
       "      <td>0</td>\n",
       "      <td>0</td>\n",
       "      <td>0</td>\n",
       "      <td>0</td>\n",
       "      <td>0</td>\n",
       "    </tr>\n",
       "  </tbody>\n",
       "</table>\n",
       "<p>5 rows × 83 columns</p>\n",
       "</div>"
      ],
      "text/plain": [
       "       price  bedrooms  bathrooms  sqft_living  sqft_lot  floors  condition  \\\n",
       "3   660000.0        10       3.00         2920      3745     2.0          4   \n",
       "4  1150000.0        10       5.25         4590     10920     1.0          3   \n",
       "5   450000.0         9       7.50         4050      6504     2.0          3   \n",
       "6   934000.0         9       3.00         2820      4480     2.0          3   \n",
       "7   700000.0         9       3.00         3680      4400     2.0          3   \n",
       "\n",
       "   grade  sqft_above  sqft_basement  ...  zipcode_98146  zipcode_98148  \\\n",
       "3      7      1860.0         1060.0  ...              0              0   \n",
       "4      9      2500.0         2090.0  ...              0              0   \n",
       "5      7      4050.0            0.0  ...              0              0   \n",
       "6      7      1880.0          940.0  ...              0              0   \n",
       "7      7      2830.0          850.0  ...              0              0   \n",
       "\n",
       "   zipcode_98155  zipcode_98166  zipcode_98168  zipcode_98177  zipcode_98178  \\\n",
       "3              0              0              0              0              0   \n",
       "4              0              0              0              0              0   \n",
       "5              0              0              0              0              0   \n",
       "6              0              0              0              0              0   \n",
       "7              0              0              0              0              0   \n",
       "\n",
       "   zipcode_98188  zipcode_98198  zipcode_98199  \n",
       "3              0              0              0  \n",
       "4              0              0              0  \n",
       "5              0              0              0  \n",
       "6              0              0              0  \n",
       "7              0              0              0  \n",
       "\n",
       "[5 rows x 83 columns]"
      ]
     },
     "execution_count": 36,
     "metadata": {},
     "output_type": "execute_result"
    }
   ],
   "source": [
    "#for this test I am encoding waterfront and zipcode\n",
    "#feats = ['bedrooms','floors', 'waterfront', 'condition', 'zipcode']\n",
    "feats = ['waterfront', 'zipcode']\n",
    "changed_df[feats] = changed_df[feats].astype(str)\n",
    "changed_df = pd.get_dummies(changed_df, drop_first=True)\n",
    "changed_df.head()"
   ]
  },
  {
   "cell_type": "markdown",
   "metadata": {},
   "source": [
    "## Run Model #2"
   ]
  },
  {
   "cell_type": "code",
   "execution_count": 37,
   "metadata": {
    "ExecuteTime": {
     "end_time": "2021-12-13T22:28:08.192843Z",
     "start_time": "2021-12-13T22:28:08.165340Z"
    }
   },
   "outputs": [
    {
     "data": {
      "text/html": [
       "<div>\n",
       "<style scoped>\n",
       "    .dataframe tbody tr th:only-of-type {\n",
       "        vertical-align: middle;\n",
       "    }\n",
       "\n",
       "    .dataframe tbody tr th {\n",
       "        vertical-align: top;\n",
       "    }\n",
       "\n",
       "    .dataframe thead th {\n",
       "        text-align: right;\n",
       "    }\n",
       "</style>\n",
       "<table border=\"1\" class=\"dataframe\">\n",
       "  <thead>\n",
       "    <tr style=\"text-align: right;\">\n",
       "      <th></th>\n",
       "      <th>price</th>\n",
       "      <th>bedrooms</th>\n",
       "      <th>bathrooms</th>\n",
       "      <th>sqft_living</th>\n",
       "      <th>sqft_lot</th>\n",
       "      <th>floors</th>\n",
       "      <th>condition</th>\n",
       "      <th>grade</th>\n",
       "      <th>sqft_above</th>\n",
       "      <th>sqft_basement</th>\n",
       "      <th>...</th>\n",
       "      <th>zipcode_98146</th>\n",
       "      <th>zipcode_98148</th>\n",
       "      <th>zipcode_98155</th>\n",
       "      <th>zipcode_98166</th>\n",
       "      <th>zipcode_98168</th>\n",
       "      <th>zipcode_98177</th>\n",
       "      <th>zipcode_98178</th>\n",
       "      <th>zipcode_98188</th>\n",
       "      <th>zipcode_98198</th>\n",
       "      <th>zipcode_98199</th>\n",
       "    </tr>\n",
       "  </thead>\n",
       "  <tbody>\n",
       "    <tr>\n",
       "      <th>3</th>\n",
       "      <td>660000.0</td>\n",
       "      <td>10</td>\n",
       "      <td>3.0</td>\n",
       "      <td>2920</td>\n",
       "      <td>3745</td>\n",
       "      <td>2.0</td>\n",
       "      <td>4</td>\n",
       "      <td>7</td>\n",
       "      <td>1860.0</td>\n",
       "      <td>1060.0</td>\n",
       "      <td>...</td>\n",
       "      <td>0</td>\n",
       "      <td>0</td>\n",
       "      <td>0</td>\n",
       "      <td>0</td>\n",
       "      <td>0</td>\n",
       "      <td>0</td>\n",
       "      <td>0</td>\n",
       "      <td>0</td>\n",
       "      <td>0</td>\n",
       "      <td>0</td>\n",
       "    </tr>\n",
       "  </tbody>\n",
       "</table>\n",
       "<p>1 rows × 83 columns</p>\n",
       "</div>"
      ],
      "text/plain": [
       "      price  bedrooms  bathrooms  sqft_living  sqft_lot  floors  condition  \\\n",
       "3  660000.0        10        3.0         2920      3745     2.0          4   \n",
       "\n",
       "   grade  sqft_above  sqft_basement  ...  zipcode_98146  zipcode_98148  \\\n",
       "3      7      1860.0         1060.0  ...              0              0   \n",
       "\n",
       "   zipcode_98155  zipcode_98166  zipcode_98168  zipcode_98177  zipcode_98178  \\\n",
       "3              0              0              0              0              0   \n",
       "\n",
       "   zipcode_98188  zipcode_98198  zipcode_98199  \n",
       "3              0              0              0  \n",
       "\n",
       "[1 rows x 83 columns]"
      ]
     },
     "execution_count": 37,
     "metadata": {},
     "output_type": "execute_result"
    }
   ],
   "source": [
    "#df_norm.head()\n",
    "test_df = changed_df\n",
    "changed_df.head(1)"
   ]
  },
  {
   "cell_type": "code",
   "execution_count": 38,
   "metadata": {
    "ExecuteTime": {
     "end_time": "2021-12-13T22:28:28.539703Z",
     "start_time": "2021-12-13T22:28:28.206656Z"
    }
   },
   "outputs": [
    {
     "data": {
      "text/html": [
       "<table class=\"simpletable\">\n",
       "<caption>OLS Regression Results</caption>\n",
       "<tr>\n",
       "  <th>Dep. Variable:</th>          <td>price</td>      <th>  R-squared:         </th>  <td>   0.798</td>  \n",
       "</tr>\n",
       "<tr>\n",
       "  <th>Model:</th>                   <td>OLS</td>       <th>  Adj. R-squared:    </th>  <td>   0.797</td>  \n",
       "</tr>\n",
       "<tr>\n",
       "  <th>Method:</th>             <td>Least Squares</td>  <th>  F-statistic:       </th>  <td>   1050.</td>  \n",
       "</tr>\n",
       "<tr>\n",
       "  <th>Date:</th>             <td>Mon, 13 Dec 2021</td> <th>  Prob (F-statistic):</th>   <td>  0.00</td>   \n",
       "</tr>\n",
       "<tr>\n",
       "  <th>Time:</th>                 <td>17:28:28</td>     <th>  Log-Likelihood:    </th> <td>-2.9007e+05</td>\n",
       "</tr>\n",
       "<tr>\n",
       "  <th>No. Observations:</th>      <td> 21594</td>      <th>  AIC:               </th>  <td>5.803e+05</td> \n",
       "</tr>\n",
       "<tr>\n",
       "  <th>Df Residuals:</th>          <td> 21512</td>      <th>  BIC:               </th>  <td>5.810e+05</td> \n",
       "</tr>\n",
       "<tr>\n",
       "  <th>Df Model:</th>              <td>    81</td>      <th>                     </th>      <td> </td>     \n",
       "</tr>\n",
       "<tr>\n",
       "  <th>Covariance Type:</th>      <td>nonrobust</td>    <th>                     </th>      <td> </td>     \n",
       "</tr>\n",
       "</table>\n",
       "<table class=\"simpletable\">\n",
       "<tr>\n",
       "         <td></td>           <th>coef</th>     <th>std err</th>      <th>t</th>      <th>P>|t|</th>  <th>[0.025</th>    <th>0.975]</th>  \n",
       "</tr>\n",
       "<tr>\n",
       "  <th>const</th>          <td> 1.485e+06</td> <td> 1.23e+05</td> <td>   12.074</td> <td> 0.000</td> <td> 1.24e+06</td> <td> 1.73e+06</td>\n",
       "</tr>\n",
       "<tr>\n",
       "  <th>bedrooms</th>       <td>-3.389e+04</td> <td> 1652.308</td> <td>  -20.512</td> <td> 0.000</td> <td>-3.71e+04</td> <td>-3.07e+04</td>\n",
       "</tr>\n",
       "<tr>\n",
       "  <th>bathrooms</th>      <td> 2.894e+04</td> <td> 2689.509</td> <td>   10.760</td> <td> 0.000</td> <td> 2.37e+04</td> <td> 3.42e+04</td>\n",
       "</tr>\n",
       "<tr>\n",
       "  <th>sqft_living</th>    <td>  118.3676</td> <td>    1.895</td> <td>   62.475</td> <td> 0.000</td> <td>  114.654</td> <td>  122.081</td>\n",
       "</tr>\n",
       "<tr>\n",
       "  <th>sqft_lot</th>       <td>    0.2681</td> <td>    0.040</td> <td>    6.786</td> <td> 0.000</td> <td>    0.191</td> <td>    0.346</td>\n",
       "</tr>\n",
       "<tr>\n",
       "  <th>floors</th>         <td>-4.017e+04</td> <td> 3243.429</td> <td>  -12.386</td> <td> 0.000</td> <td>-4.65e+04</td> <td>-3.38e+04</td>\n",
       "</tr>\n",
       "<tr>\n",
       "  <th>condition</th>      <td>  2.37e+04</td> <td> 1949.514</td> <td>   12.157</td> <td> 0.000</td> <td> 1.99e+04</td> <td> 2.75e+04</td>\n",
       "</tr>\n",
       "<tr>\n",
       "  <th>grade</th>          <td> 6.337e+04</td> <td> 1868.120</td> <td>   33.920</td> <td> 0.000</td> <td> 5.97e+04</td> <td>  6.7e+04</td>\n",
       "</tr>\n",
       "<tr>\n",
       "  <th>sqft_above</th>     <td>   89.2131</td> <td>    1.935</td> <td>   46.114</td> <td> 0.000</td> <td>   85.421</td> <td>   93.005</td>\n",
       "</tr>\n",
       "<tr>\n",
       "  <th>sqft_basement</th>  <td>   29.1543</td> <td>    2.209</td> <td>   13.198</td> <td> 0.000</td> <td>   24.824</td> <td>   33.484</td>\n",
       "</tr>\n",
       "<tr>\n",
       "  <th>yr_built</th>       <td>-1042.2864</td> <td>   63.166</td> <td>  -16.501</td> <td> 0.000</td> <td>-1166.097</td> <td> -918.475</td>\n",
       "</tr>\n",
       "<tr>\n",
       "  <th>sqft_living15</th>  <td>   25.8651</td> <td>    2.924</td> <td>    8.847</td> <td> 0.000</td> <td>   20.135</td> <td>   31.596</td>\n",
       "</tr>\n",
       "<tr>\n",
       "  <th>sqft_lot15</th>     <td>   -0.1530</td> <td>    0.062</td> <td>   -2.461</td> <td> 0.014</td> <td>   -0.275</td> <td>   -0.031</td>\n",
       "</tr>\n",
       "<tr>\n",
       "  <th>waterfront_1.0</th> <td> 8.528e+05</td> <td> 1.42e+04</td> <td>   60.115</td> <td> 0.000</td> <td> 8.25e+05</td> <td> 8.81e+05</td>\n",
       "</tr>\n",
       "<tr>\n",
       "  <th>zipcode_98002</th>  <td> 3.015e+04</td> <td> 1.46e+04</td> <td>    2.059</td> <td> 0.040</td> <td> 1442.537</td> <td> 5.89e+04</td>\n",
       "</tr>\n",
       "<tr>\n",
       "  <th>zipcode_98003</th>  <td>-1.512e+04</td> <td> 1.32e+04</td> <td>   -1.147</td> <td> 0.251</td> <td> -4.1e+04</td> <td> 1.07e+04</td>\n",
       "</tr>\n",
       "<tr>\n",
       "  <th>zipcode_98004</th>  <td> 7.605e+05</td> <td> 1.29e+04</td> <td>   58.865</td> <td> 0.000</td> <td> 7.35e+05</td> <td> 7.86e+05</td>\n",
       "</tr>\n",
       "<tr>\n",
       "  <th>zipcode_98005</th>  <td> 2.743e+05</td> <td> 1.56e+04</td> <td>   17.592</td> <td> 0.000</td> <td> 2.44e+05</td> <td> 3.05e+05</td>\n",
       "</tr>\n",
       "<tr>\n",
       "  <th>zipcode_98006</th>  <td> 2.636e+05</td> <td> 1.17e+04</td> <td>   22.553</td> <td> 0.000</td> <td> 2.41e+05</td> <td> 2.87e+05</td>\n",
       "</tr>\n",
       "<tr>\n",
       "  <th>zipcode_98007</th>  <td> 2.278e+05</td> <td> 1.65e+04</td> <td>   13.822</td> <td> 0.000</td> <td> 1.96e+05</td> <td>  2.6e+05</td>\n",
       "</tr>\n",
       "<tr>\n",
       "  <th>zipcode_98008</th>  <td> 2.538e+05</td> <td> 1.32e+04</td> <td>   19.229</td> <td> 0.000</td> <td> 2.28e+05</td> <td>  2.8e+05</td>\n",
       "</tr>\n",
       "<tr>\n",
       "  <th>zipcode_98010</th>  <td> 6.657e+04</td> <td> 1.88e+04</td> <td>    3.546</td> <td> 0.000</td> <td> 2.98e+04</td> <td> 1.03e+05</td>\n",
       "</tr>\n",
       "<tr>\n",
       "  <th>zipcode_98011</th>  <td> 1.079e+05</td> <td> 1.47e+04</td> <td>    7.326</td> <td> 0.000</td> <td>  7.9e+04</td> <td> 1.37e+05</td>\n",
       "</tr>\n",
       "<tr>\n",
       "  <th>zipcode_98014</th>  <td> 1.001e+05</td> <td> 1.75e+04</td> <td>    5.715</td> <td> 0.000</td> <td> 6.58e+04</td> <td> 1.34e+05</td>\n",
       "</tr>\n",
       "<tr>\n",
       "  <th>zipcode_98019</th>  <td> 8.198e+04</td> <td> 1.49e+04</td> <td>    5.501</td> <td> 0.000</td> <td> 5.28e+04</td> <td> 1.11e+05</td>\n",
       "</tr>\n",
       "<tr>\n",
       "  <th>zipcode_98022</th>  <td> 1.504e+04</td> <td> 1.41e+04</td> <td>    1.070</td> <td> 0.285</td> <td>-1.25e+04</td> <td> 4.26e+04</td>\n",
       "</tr>\n",
       "<tr>\n",
       "  <th>zipcode_98023</th>  <td>-3.936e+04</td> <td> 1.14e+04</td> <td>   -3.440</td> <td> 0.001</td> <td>-6.18e+04</td> <td>-1.69e+04</td>\n",
       "</tr>\n",
       "<tr>\n",
       "  <th>zipcode_98024</th>  <td> 1.521e+05</td> <td> 2.07e+04</td> <td>    7.347</td> <td> 0.000</td> <td> 1.12e+05</td> <td> 1.93e+05</td>\n",
       "</tr>\n",
       "<tr>\n",
       "  <th>zipcode_98027</th>  <td> 1.516e+05</td> <td>  1.2e+04</td> <td>   12.618</td> <td> 0.000</td> <td> 1.28e+05</td> <td> 1.75e+05</td>\n",
       "</tr>\n",
       "<tr>\n",
       "  <th>zipcode_98028</th>  <td> 1.129e+05</td> <td> 1.32e+04</td> <td>    8.582</td> <td> 0.000</td> <td> 8.71e+04</td> <td> 1.39e+05</td>\n",
       "</tr>\n",
       "<tr>\n",
       "  <th>zipcode_98029</th>  <td> 1.974e+05</td> <td> 1.28e+04</td> <td>   15.431</td> <td> 0.000</td> <td> 1.72e+05</td> <td> 2.22e+05</td>\n",
       "</tr>\n",
       "<tr>\n",
       "  <th>zipcode_98030</th>  <td> -334.0620</td> <td> 1.35e+04</td> <td>   -0.025</td> <td> 0.980</td> <td>-2.68e+04</td> <td> 2.62e+04</td>\n",
       "</tr>\n",
       "<tr>\n",
       "  <th>zipcode_98031</th>  <td> 6578.1234</td> <td> 1.33e+04</td> <td>    0.496</td> <td> 0.620</td> <td>-1.94e+04</td> <td> 3.26e+04</td>\n",
       "</tr>\n",
       "<tr>\n",
       "  <th>zipcode_98032</th>  <td> 3889.2456</td> <td> 1.72e+04</td> <td>    0.226</td> <td> 0.821</td> <td>-2.98e+04</td> <td> 3.76e+04</td>\n",
       "</tr>\n",
       "<tr>\n",
       "  <th>zipcode_98033</th>  <td> 3.608e+05</td> <td> 1.18e+04</td> <td>   30.448</td> <td> 0.000</td> <td> 3.38e+05</td> <td> 3.84e+05</td>\n",
       "</tr>\n",
       "<tr>\n",
       "  <th>zipcode_98034</th>  <td> 1.999e+05</td> <td> 1.12e+04</td> <td>   17.774</td> <td> 0.000</td> <td> 1.78e+05</td> <td> 2.22e+05</td>\n",
       "</tr>\n",
       "<tr>\n",
       "  <th>zipcode_98038</th>  <td> 2.436e+04</td> <td> 1.11e+04</td> <td>    2.193</td> <td> 0.028</td> <td> 2588.162</td> <td> 4.61e+04</td>\n",
       "</tr>\n",
       "<tr>\n",
       "  <th>zipcode_98039</th>  <td> 1.293e+06</td> <td> 2.52e+04</td> <td>   51.343</td> <td> 0.000</td> <td> 1.24e+06</td> <td> 1.34e+06</td>\n",
       "</tr>\n",
       "<tr>\n",
       "  <th>zipcode_98040</th>  <td> 5.089e+05</td> <td> 1.34e+04</td> <td>   37.881</td> <td> 0.000</td> <td> 4.83e+05</td> <td> 5.35e+05</td>\n",
       "</tr>\n",
       "<tr>\n",
       "  <th>zipcode_98042</th>  <td>  766.0685</td> <td> 1.12e+04</td> <td>    0.068</td> <td> 0.946</td> <td>-2.13e+04</td> <td> 2.28e+04</td>\n",
       "</tr>\n",
       "<tr>\n",
       "  <th>zipcode_98045</th>  <td> 9.533e+04</td> <td> 1.42e+04</td> <td>    6.715</td> <td> 0.000</td> <td> 6.75e+04</td> <td> 1.23e+05</td>\n",
       "</tr>\n",
       "<tr>\n",
       "  <th>zipcode_98052</th>  <td> 2.085e+05</td> <td> 1.12e+04</td> <td>   18.655</td> <td> 0.000</td> <td> 1.87e+05</td> <td>  2.3e+05</td>\n",
       "</tr>\n",
       "<tr>\n",
       "  <th>zipcode_98053</th>  <td> 1.744e+05</td> <td> 1.21e+04</td> <td>   14.373</td> <td> 0.000</td> <td> 1.51e+05</td> <td> 1.98e+05</td>\n",
       "</tr>\n",
       "<tr>\n",
       "  <th>zipcode_98055</th>  <td> 4.394e+04</td> <td> 1.34e+04</td> <td>    3.290</td> <td> 0.001</td> <td> 1.78e+04</td> <td> 7.01e+04</td>\n",
       "</tr>\n",
       "<tr>\n",
       "  <th>zipcode_98056</th>  <td> 9.587e+04</td> <td>  1.2e+04</td> <td>    7.998</td> <td> 0.000</td> <td> 7.24e+04</td> <td> 1.19e+05</td>\n",
       "</tr>\n",
       "<tr>\n",
       "  <th>zipcode_98058</th>  <td> 1.891e+04</td> <td> 1.17e+04</td> <td>    1.620</td> <td> 0.105</td> <td>-3964.560</td> <td> 4.18e+04</td>\n",
       "</tr>\n",
       "<tr>\n",
       "  <th>zipcode_98059</th>  <td> 7.135e+04</td> <td> 1.16e+04</td> <td>    6.127</td> <td> 0.000</td> <td> 4.85e+04</td> <td> 9.42e+04</td>\n",
       "</tr>\n",
       "<tr>\n",
       "  <th>zipcode_98065</th>  <td> 8.132e+04</td> <td>  1.3e+04</td> <td>    6.278</td> <td> 0.000</td> <td> 5.59e+04</td> <td> 1.07e+05</td>\n",
       "</tr>\n",
       "<tr>\n",
       "  <th>zipcode_98070</th>  <td> 1.638e+04</td> <td> 1.81e+04</td> <td>    0.906</td> <td> 0.365</td> <td>-1.91e+04</td> <td> 5.18e+04</td>\n",
       "</tr>\n",
       "<tr>\n",
       "  <th>zipcode_98072</th>  <td> 1.317e+05</td> <td> 1.33e+04</td> <td>    9.883</td> <td> 0.000</td> <td> 1.06e+05</td> <td> 1.58e+05</td>\n",
       "</tr>\n",
       "<tr>\n",
       "  <th>zipcode_98074</th>  <td> 1.514e+05</td> <td> 1.19e+04</td> <td>   12.745</td> <td> 0.000</td> <td> 1.28e+05</td> <td> 1.75e+05</td>\n",
       "</tr>\n",
       "<tr>\n",
       "  <th>zipcode_98075</th>  <td> 1.475e+05</td> <td> 1.26e+04</td> <td>   11.739</td> <td> 0.000</td> <td> 1.23e+05</td> <td> 1.72e+05</td>\n",
       "</tr>\n",
       "<tr>\n",
       "  <th>zipcode_98077</th>  <td> 8.623e+04</td> <td> 1.48e+04</td> <td>    5.811</td> <td> 0.000</td> <td> 5.71e+04</td> <td> 1.15e+05</td>\n",
       "</tr>\n",
       "<tr>\n",
       "  <th>zipcode_98092</th>  <td>-4.129e+04</td> <td> 1.24e+04</td> <td>   -3.317</td> <td> 0.001</td> <td>-6.57e+04</td> <td>-1.69e+04</td>\n",
       "</tr>\n",
       "<tr>\n",
       "  <th>zipcode_98102</th>  <td> 4.943e+05</td> <td> 1.88e+04</td> <td>   26.296</td> <td> 0.000</td> <td> 4.57e+05</td> <td> 5.31e+05</td>\n",
       "</tr>\n",
       "<tr>\n",
       "  <th>zipcode_98103</th>  <td> 3.355e+05</td> <td> 1.14e+04</td> <td>   29.367</td> <td> 0.000</td> <td> 3.13e+05</td> <td> 3.58e+05</td>\n",
       "</tr>\n",
       "<tr>\n",
       "  <th>zipcode_98105</th>  <td> 4.579e+05</td> <td> 1.43e+04</td> <td>   31.949</td> <td> 0.000</td> <td>  4.3e+05</td> <td> 4.86e+05</td>\n",
       "</tr>\n",
       "<tr>\n",
       "  <th>zipcode_98106</th>  <td> 1.528e+05</td> <td> 1.27e+04</td> <td>   12.072</td> <td> 0.000</td> <td> 1.28e+05</td> <td> 1.78e+05</td>\n",
       "</tr>\n",
       "<tr>\n",
       "  <th>zipcode_98107</th>  <td> 3.496e+05</td> <td> 1.37e+04</td> <td>   25.557</td> <td> 0.000</td> <td> 3.23e+05</td> <td> 3.76e+05</td>\n",
       "</tr>\n",
       "<tr>\n",
       "  <th>zipcode_98108</th>  <td> 1.236e+05</td> <td>  1.5e+04</td> <td>    8.222</td> <td> 0.000</td> <td> 9.41e+04</td> <td> 1.53e+05</td>\n",
       "</tr>\n",
       "<tr>\n",
       "  <th>zipcode_98109</th>  <td> 4.946e+05</td> <td> 1.84e+04</td> <td>   26.849</td> <td> 0.000</td> <td> 4.58e+05</td> <td> 5.31e+05</td>\n",
       "</tr>\n",
       "<tr>\n",
       "  <th>zipcode_98112</th>  <td> 5.941e+05</td> <td> 1.38e+04</td> <td>   42.973</td> <td> 0.000</td> <td> 5.67e+05</td> <td> 6.21e+05</td>\n",
       "</tr>\n",
       "<tr>\n",
       "  <th>zipcode_98115</th>  <td> 3.274e+05</td> <td> 1.13e+04</td> <td>   28.900</td> <td> 0.000</td> <td> 3.05e+05</td> <td>  3.5e+05</td>\n",
       "</tr>\n",
       "<tr>\n",
       "  <th>zipcode_98116</th>  <td> 3.096e+05</td> <td> 1.29e+04</td> <td>   24.089</td> <td> 0.000</td> <td> 2.84e+05</td> <td> 3.35e+05</td>\n",
       "</tr>\n",
       "<tr>\n",
       "  <th>zipcode_98117</th>  <td> 3.159e+05</td> <td> 1.15e+04</td> <td>   27.526</td> <td> 0.000</td> <td> 2.93e+05</td> <td> 3.38e+05</td>\n",
       "</tr>\n",
       "<tr>\n",
       "  <th>zipcode_98118</th>  <td>  1.77e+05</td> <td> 1.16e+04</td> <td>   15.309</td> <td> 0.000</td> <td> 1.54e+05</td> <td>    2e+05</td>\n",
       "</tr>\n",
       "<tr>\n",
       "  <th>zipcode_98119</th>  <td> 4.849e+05</td> <td> 1.54e+04</td> <td>   31.475</td> <td> 0.000</td> <td> 4.55e+05</td> <td> 5.15e+05</td>\n",
       "</tr>\n",
       "<tr>\n",
       "  <th>zipcode_98122</th>  <td> 3.343e+05</td> <td> 1.34e+04</td> <td>   24.861</td> <td> 0.000</td> <td> 3.08e+05</td> <td> 3.61e+05</td>\n",
       "</tr>\n",
       "<tr>\n",
       "  <th>zipcode_98125</th>  <td>  2.06e+05</td> <td>  1.2e+04</td> <td>   17.112</td> <td> 0.000</td> <td> 1.82e+05</td> <td>  2.3e+05</td>\n",
       "</tr>\n",
       "<tr>\n",
       "  <th>zipcode_98126</th>  <td> 2.096e+05</td> <td> 1.26e+04</td> <td>   16.696</td> <td> 0.000</td> <td> 1.85e+05</td> <td> 2.34e+05</td>\n",
       "</tr>\n",
       "<tr>\n",
       "  <th>zipcode_98133</th>  <td> 1.644e+05</td> <td> 1.15e+04</td> <td>   14.252</td> <td> 0.000</td> <td> 1.42e+05</td> <td> 1.87e+05</td>\n",
       "</tr>\n",
       "<tr>\n",
       "  <th>zipcode_98136</th>  <td> 2.655e+05</td> <td> 1.36e+04</td> <td>   19.532</td> <td> 0.000</td> <td> 2.39e+05</td> <td> 2.92e+05</td>\n",
       "</tr>\n",
       "<tr>\n",
       "  <th>zipcode_98144</th>  <td> 2.872e+05</td> <td> 1.27e+04</td> <td>   22.579</td> <td> 0.000</td> <td> 2.62e+05</td> <td> 3.12e+05</td>\n",
       "</tr>\n",
       "<tr>\n",
       "  <th>zipcode_98146</th>  <td> 1.303e+05</td> <td> 1.31e+04</td> <td>    9.908</td> <td> 0.000</td> <td> 1.05e+05</td> <td> 1.56e+05</td>\n",
       "</tr>\n",
       "<tr>\n",
       "  <th>zipcode_98148</th>  <td> 6.706e+04</td> <td> 2.36e+04</td> <td>    2.841</td> <td> 0.005</td> <td> 2.08e+04</td> <td> 1.13e+05</td>\n",
       "</tr>\n",
       "<tr>\n",
       "  <th>zipcode_98155</th>  <td> 1.479e+05</td> <td> 1.18e+04</td> <td>   12.579</td> <td> 0.000</td> <td> 1.25e+05</td> <td> 1.71e+05</td>\n",
       "</tr>\n",
       "<tr>\n",
       "  <th>zipcode_98166</th>  <td> 7.118e+04</td> <td> 1.36e+04</td> <td>    5.225</td> <td> 0.000</td> <td> 4.45e+04</td> <td> 9.79e+04</td>\n",
       "</tr>\n",
       "<tr>\n",
       "  <th>zipcode_98168</th>  <td> 7.785e+04</td> <td> 1.34e+04</td> <td>    5.801</td> <td> 0.000</td> <td> 5.15e+04</td> <td> 1.04e+05</td>\n",
       "</tr>\n",
       "<tr>\n",
       "  <th>zipcode_98177</th>  <td> 2.385e+05</td> <td> 1.36e+04</td> <td>   17.473</td> <td> 0.000</td> <td> 2.12e+05</td> <td> 2.65e+05</td>\n",
       "</tr>\n",
       "<tr>\n",
       "  <th>zipcode_98178</th>  <td> 5.502e+04</td> <td> 1.35e+04</td> <td>    4.071</td> <td> 0.000</td> <td> 2.85e+04</td> <td> 8.15e+04</td>\n",
       "</tr>\n",
       "<tr>\n",
       "  <th>zipcode_98188</th>  <td> 4.083e+04</td> <td> 1.67e+04</td> <td>    2.450</td> <td> 0.014</td> <td> 8160.156</td> <td> 7.35e+04</td>\n",
       "</tr>\n",
       "<tr>\n",
       "  <th>zipcode_98198</th>  <td> 2.249e+04</td> <td> 1.32e+04</td> <td>    1.704</td> <td> 0.088</td> <td>-3378.757</td> <td> 4.84e+04</td>\n",
       "</tr>\n",
       "<tr>\n",
       "  <th>zipcode_98199</th>  <td> 3.916e+05</td> <td>  1.3e+04</td> <td>   30.131</td> <td> 0.000</td> <td> 3.66e+05</td> <td> 4.17e+05</td>\n",
       "</tr>\n",
       "</table>\n",
       "<table class=\"simpletable\">\n",
       "<tr>\n",
       "  <th>Omnibus:</th>       <td>20628.626</td> <th>  Durbin-Watson:     </th>  <td>   1.972</td>  \n",
       "</tr>\n",
       "<tr>\n",
       "  <th>Prob(Omnibus):</th>  <td> 0.000</td>   <th>  Jarque-Bera (JB):  </th> <td>3797534.519</td>\n",
       "</tr>\n",
       "<tr>\n",
       "  <th>Skew:</th>           <td> 4.135</td>   <th>  Prob(JB):          </th>  <td>    0.00</td>  \n",
       "</tr>\n",
       "<tr>\n",
       "  <th>Kurtosis:</th>       <td>67.438</td>   <th>  Cond. No.          </th>  <td>2.25e+15</td>  \n",
       "</tr>\n",
       "</table><br/><br/>Notes:<br/>[1] Standard Errors assume that the covariance matrix of the errors is correctly specified.<br/>[2] The smallest eigenvalue is 1.09e-17. This might indicate that there are<br/>strong multicollinearity problems or that the design matrix is singular."
      ],
      "text/plain": [
       "<class 'statsmodels.iolib.summary.Summary'>\n",
       "\"\"\"\n",
       "                            OLS Regression Results                            \n",
       "==============================================================================\n",
       "Dep. Variable:                  price   R-squared:                       0.798\n",
       "Model:                            OLS   Adj. R-squared:                  0.797\n",
       "Method:                 Least Squares   F-statistic:                     1050.\n",
       "Date:                Mon, 13 Dec 2021   Prob (F-statistic):               0.00\n",
       "Time:                        17:28:28   Log-Likelihood:            -2.9007e+05\n",
       "No. Observations:               21594   AIC:                         5.803e+05\n",
       "Df Residuals:                   21512   BIC:                         5.810e+05\n",
       "Df Model:                          81                                         \n",
       "Covariance Type:            nonrobust                                         \n",
       "==================================================================================\n",
       "                     coef    std err          t      P>|t|      [0.025      0.975]\n",
       "----------------------------------------------------------------------------------\n",
       "const           1.485e+06   1.23e+05     12.074      0.000    1.24e+06    1.73e+06\n",
       "bedrooms       -3.389e+04   1652.308    -20.512      0.000   -3.71e+04   -3.07e+04\n",
       "bathrooms       2.894e+04   2689.509     10.760      0.000    2.37e+04    3.42e+04\n",
       "sqft_living      118.3676      1.895     62.475      0.000     114.654     122.081\n",
       "sqft_lot           0.2681      0.040      6.786      0.000       0.191       0.346\n",
       "floors         -4.017e+04   3243.429    -12.386      0.000   -4.65e+04   -3.38e+04\n",
       "condition        2.37e+04   1949.514     12.157      0.000    1.99e+04    2.75e+04\n",
       "grade           6.337e+04   1868.120     33.920      0.000    5.97e+04     6.7e+04\n",
       "sqft_above        89.2131      1.935     46.114      0.000      85.421      93.005\n",
       "sqft_basement     29.1543      2.209     13.198      0.000      24.824      33.484\n",
       "yr_built       -1042.2864     63.166    -16.501      0.000   -1166.097    -918.475\n",
       "sqft_living15     25.8651      2.924      8.847      0.000      20.135      31.596\n",
       "sqft_lot15        -0.1530      0.062     -2.461      0.014      -0.275      -0.031\n",
       "waterfront_1.0  8.528e+05   1.42e+04     60.115      0.000    8.25e+05    8.81e+05\n",
       "zipcode_98002   3.015e+04   1.46e+04      2.059      0.040    1442.537    5.89e+04\n",
       "zipcode_98003  -1.512e+04   1.32e+04     -1.147      0.251    -4.1e+04    1.07e+04\n",
       "zipcode_98004   7.605e+05   1.29e+04     58.865      0.000    7.35e+05    7.86e+05\n",
       "zipcode_98005   2.743e+05   1.56e+04     17.592      0.000    2.44e+05    3.05e+05\n",
       "zipcode_98006   2.636e+05   1.17e+04     22.553      0.000    2.41e+05    2.87e+05\n",
       "zipcode_98007   2.278e+05   1.65e+04     13.822      0.000    1.96e+05     2.6e+05\n",
       "zipcode_98008   2.538e+05   1.32e+04     19.229      0.000    2.28e+05     2.8e+05\n",
       "zipcode_98010   6.657e+04   1.88e+04      3.546      0.000    2.98e+04    1.03e+05\n",
       "zipcode_98011   1.079e+05   1.47e+04      7.326      0.000     7.9e+04    1.37e+05\n",
       "zipcode_98014   1.001e+05   1.75e+04      5.715      0.000    6.58e+04    1.34e+05\n",
       "zipcode_98019   8.198e+04   1.49e+04      5.501      0.000    5.28e+04    1.11e+05\n",
       "zipcode_98022   1.504e+04   1.41e+04      1.070      0.285   -1.25e+04    4.26e+04\n",
       "zipcode_98023  -3.936e+04   1.14e+04     -3.440      0.001   -6.18e+04   -1.69e+04\n",
       "zipcode_98024   1.521e+05   2.07e+04      7.347      0.000    1.12e+05    1.93e+05\n",
       "zipcode_98027   1.516e+05    1.2e+04     12.618      0.000    1.28e+05    1.75e+05\n",
       "zipcode_98028   1.129e+05   1.32e+04      8.582      0.000    8.71e+04    1.39e+05\n",
       "zipcode_98029   1.974e+05   1.28e+04     15.431      0.000    1.72e+05    2.22e+05\n",
       "zipcode_98030   -334.0620   1.35e+04     -0.025      0.980   -2.68e+04    2.62e+04\n",
       "zipcode_98031   6578.1234   1.33e+04      0.496      0.620   -1.94e+04    3.26e+04\n",
       "zipcode_98032   3889.2456   1.72e+04      0.226      0.821   -2.98e+04    3.76e+04\n",
       "zipcode_98033   3.608e+05   1.18e+04     30.448      0.000    3.38e+05    3.84e+05\n",
       "zipcode_98034   1.999e+05   1.12e+04     17.774      0.000    1.78e+05    2.22e+05\n",
       "zipcode_98038   2.436e+04   1.11e+04      2.193      0.028    2588.162    4.61e+04\n",
       "zipcode_98039   1.293e+06   2.52e+04     51.343      0.000    1.24e+06    1.34e+06\n",
       "zipcode_98040   5.089e+05   1.34e+04     37.881      0.000    4.83e+05    5.35e+05\n",
       "zipcode_98042    766.0685   1.12e+04      0.068      0.946   -2.13e+04    2.28e+04\n",
       "zipcode_98045   9.533e+04   1.42e+04      6.715      0.000    6.75e+04    1.23e+05\n",
       "zipcode_98052   2.085e+05   1.12e+04     18.655      0.000    1.87e+05     2.3e+05\n",
       "zipcode_98053   1.744e+05   1.21e+04     14.373      0.000    1.51e+05    1.98e+05\n",
       "zipcode_98055   4.394e+04   1.34e+04      3.290      0.001    1.78e+04    7.01e+04\n",
       "zipcode_98056   9.587e+04    1.2e+04      7.998      0.000    7.24e+04    1.19e+05\n",
       "zipcode_98058   1.891e+04   1.17e+04      1.620      0.105   -3964.560    4.18e+04\n",
       "zipcode_98059   7.135e+04   1.16e+04      6.127      0.000    4.85e+04    9.42e+04\n",
       "zipcode_98065   8.132e+04    1.3e+04      6.278      0.000    5.59e+04    1.07e+05\n",
       "zipcode_98070   1.638e+04   1.81e+04      0.906      0.365   -1.91e+04    5.18e+04\n",
       "zipcode_98072   1.317e+05   1.33e+04      9.883      0.000    1.06e+05    1.58e+05\n",
       "zipcode_98074   1.514e+05   1.19e+04     12.745      0.000    1.28e+05    1.75e+05\n",
       "zipcode_98075   1.475e+05   1.26e+04     11.739      0.000    1.23e+05    1.72e+05\n",
       "zipcode_98077   8.623e+04   1.48e+04      5.811      0.000    5.71e+04    1.15e+05\n",
       "zipcode_98092  -4.129e+04   1.24e+04     -3.317      0.001   -6.57e+04   -1.69e+04\n",
       "zipcode_98102   4.943e+05   1.88e+04     26.296      0.000    4.57e+05    5.31e+05\n",
       "zipcode_98103   3.355e+05   1.14e+04     29.367      0.000    3.13e+05    3.58e+05\n",
       "zipcode_98105   4.579e+05   1.43e+04     31.949      0.000     4.3e+05    4.86e+05\n",
       "zipcode_98106   1.528e+05   1.27e+04     12.072      0.000    1.28e+05    1.78e+05\n",
       "zipcode_98107   3.496e+05   1.37e+04     25.557      0.000    3.23e+05    3.76e+05\n",
       "zipcode_98108   1.236e+05    1.5e+04      8.222      0.000    9.41e+04    1.53e+05\n",
       "zipcode_98109   4.946e+05   1.84e+04     26.849      0.000    4.58e+05    5.31e+05\n",
       "zipcode_98112   5.941e+05   1.38e+04     42.973      0.000    5.67e+05    6.21e+05\n",
       "zipcode_98115   3.274e+05   1.13e+04     28.900      0.000    3.05e+05     3.5e+05\n",
       "zipcode_98116   3.096e+05   1.29e+04     24.089      0.000    2.84e+05    3.35e+05\n",
       "zipcode_98117   3.159e+05   1.15e+04     27.526      0.000    2.93e+05    3.38e+05\n",
       "zipcode_98118    1.77e+05   1.16e+04     15.309      0.000    1.54e+05       2e+05\n",
       "zipcode_98119   4.849e+05   1.54e+04     31.475      0.000    4.55e+05    5.15e+05\n",
       "zipcode_98122   3.343e+05   1.34e+04     24.861      0.000    3.08e+05    3.61e+05\n",
       "zipcode_98125    2.06e+05    1.2e+04     17.112      0.000    1.82e+05     2.3e+05\n",
       "zipcode_98126   2.096e+05   1.26e+04     16.696      0.000    1.85e+05    2.34e+05\n",
       "zipcode_98133   1.644e+05   1.15e+04     14.252      0.000    1.42e+05    1.87e+05\n",
       "zipcode_98136   2.655e+05   1.36e+04     19.532      0.000    2.39e+05    2.92e+05\n",
       "zipcode_98144   2.872e+05   1.27e+04     22.579      0.000    2.62e+05    3.12e+05\n",
       "zipcode_98146   1.303e+05   1.31e+04      9.908      0.000    1.05e+05    1.56e+05\n",
       "zipcode_98148   6.706e+04   2.36e+04      2.841      0.005    2.08e+04    1.13e+05\n",
       "zipcode_98155   1.479e+05   1.18e+04     12.579      0.000    1.25e+05    1.71e+05\n",
       "zipcode_98166   7.118e+04   1.36e+04      5.225      0.000    4.45e+04    9.79e+04\n",
       "zipcode_98168   7.785e+04   1.34e+04      5.801      0.000    5.15e+04    1.04e+05\n",
       "zipcode_98177   2.385e+05   1.36e+04     17.473      0.000    2.12e+05    2.65e+05\n",
       "zipcode_98178   5.502e+04   1.35e+04      4.071      0.000    2.85e+04    8.15e+04\n",
       "zipcode_98188   4.083e+04   1.67e+04      2.450      0.014    8160.156    7.35e+04\n",
       "zipcode_98198   2.249e+04   1.32e+04      1.704      0.088   -3378.757    4.84e+04\n",
       "zipcode_98199   3.916e+05    1.3e+04     30.131      0.000    3.66e+05    4.17e+05\n",
       "==============================================================================\n",
       "Omnibus:                    20628.626   Durbin-Watson:                   1.972\n",
       "Prob(Omnibus):                  0.000   Jarque-Bera (JB):          3797534.519\n",
       "Skew:                           4.135   Prob(JB):                         0.00\n",
       "Kurtosis:                      67.438   Cond. No.                     2.25e+15\n",
       "==============================================================================\n",
       "\n",
       "Notes:\n",
       "[1] Standard Errors assume that the covariance matrix of the errors is correctly specified.\n",
       "[2] The smallest eigenvalue is 1.09e-17. This might indicate that there are\n",
       "strong multicollinearity problems or that the design matrix is singular.\n",
       "\"\"\""
      ]
     },
     "execution_count": 38,
     "metadata": {},
     "output_type": "execute_result"
    }
   ],
   "source": [
    "X = test_df.drop('price', axis=1)\n",
    "y = test_df['price']\n",
    "\n",
    "X_int = sm.add_constant(X)\n",
    "model = sm.OLS(y,X_int).fit()\n",
    "model.summary()"
   ]
  },
  {
   "cell_type": "code",
   "execution_count": null,
   "metadata": {
    "ExecuteTime": {
     "start_time": "2021-12-13T22:30:17.170Z"
    }
   },
   "outputs": [],
   "source": [
    "#sns.pairplot(test_df)"
   ]
  },
  {
   "cell_type": "code",
   "execution_count": null,
   "metadata": {
    "ExecuteTime": {
     "end_time": "2021-12-13T21:48:31.622914Z",
     "start_time": "2021-12-13T21:48:31.620365Z"
    }
   },
   "outputs": [],
   "source": [
    "#sns.heatmap(king_preprocessed);"
   ]
  },
  {
   "cell_type": "code",
   "execution_count": null,
   "metadata": {
    "ExecuteTime": {
     "end_time": "2021-12-13T21:48:51.713444Z",
     "start_time": "2021-12-13T21:48:51.696058Z"
    }
   },
   "outputs": [],
   "source": [
    "king_preprocessed.head(1)"
   ]
  },
  {
   "cell_type": "markdown",
   "metadata": {},
   "source": [
    "# Data Exploration"
   ]
  },
  {
   "cell_type": "markdown",
   "metadata": {},
   "source": [
    "## One-Hot Encoding"
   ]
  },
  {
   "cell_type": "code",
   "execution_count": null,
   "metadata": {},
   "outputs": [],
   "source": [
    "#feats = ['bedrooms','floors', 'waterfront', 'condition', 'zipcode']\n",
    "feats = ['bedrooms','waterfront', 'condition']\n",
    "cleaned_df[feats] = cleaned_df[feats].astype(str)\n",
    "cleaned_df = pd.get_dummies(cleaned_df, drop_first=True)"
   ]
  },
  {
   "cell_type": "markdown",
   "metadata": {},
   "source": [
    "# Modeling"
   ]
  },
  {
   "cell_type": "code",
   "execution_count": null,
   "metadata": {},
   "outputs": [],
   "source": []
  },
  {
   "cell_type": "code",
   "execution_count": null,
   "metadata": {},
   "outputs": [],
   "source": []
  },
  {
   "cell_type": "markdown",
   "metadata": {},
   "source": [
    "# Archive"
   ]
  },
  {
   "cell_type": "code",
   "execution_count": null,
   "metadata": {
    "ExecuteTime": {
     "end_time": "2021-12-09T19:23:17.559039Z",
     "start_time": "2021-12-09T19:22:42.345Z"
    }
   },
   "outputs": [],
   "source": [
    "#df['waterfront'].value_counts()"
   ]
  },
  {
   "cell_type": "code",
   "execution_count": null,
   "metadata": {
    "ExecuteTime": {
     "end_time": "2021-12-09T19:23:17.559626Z",
     "start_time": "2021-12-09T19:22:42.346Z"
    }
   },
   "outputs": [],
   "source": [
    "#df['waterfront'] = df['waterfront'].astype('bool') #converting waterfront into boolean"
   ]
  },
  {
   "cell_type": "markdown",
   "metadata": {},
   "source": [
    "## Resetting IDs to make them shorter"
   ]
  },
  {
   "cell_type": "code",
   "execution_count": null,
   "metadata": {
    "ExecuteTime": {
     "end_time": "2021-12-09T19:22:59.000002Z",
     "start_time": "2021-12-09T19:22:58.997356Z"
    }
   },
   "outputs": [],
   "source": [
    "X = test_df.drop('price', axis=1)\n",
    "y = test_df['price']"
   ]
  },
  {
   "cell_type": "markdown",
   "metadata": {},
   "source": [
    "## Should I drop low grade?"
   ]
  },
  {
   "cell_type": "code",
   "execution_count": null,
   "metadata": {},
   "outputs": [],
   "source": [
    "low_grade = cleaned_df[cleaned_df['grade'] <= 5]\n",
    "low_grade.head()"
   ]
  },
  {
   "cell_type": "code",
   "execution_count": null,
   "metadata": {},
   "outputs": [],
   "source": []
  },
  {
   "cell_type": "markdown",
   "metadata": {},
   "source": [
    "## Plotting Categoricals"
   ]
  },
  {
   "cell_type": "code",
   "execution_count": null,
   "metadata": {
    "ExecuteTime": {
     "end_time": "2021-12-09T22:01:27.782888Z",
     "start_time": "2021-12-09T22:01:27.442799Z"
    }
   },
   "outputs": [],
   "source": [
    "fig, axes = plt.subplots(nrows=2, ncols=3, figsize=(20,10), sharey=True)\n",
    "\n",
    "for col, ax in zip(categoricals, axes.flatten()):\n",
    "    (king_preprocessed.groupby(col)               # group values together by column of interest\n",
    "         .mean()['price']        # take the mean of the saleprice for each group\n",
    "         .sort_values()              # sort the groups in ascending order\n",
    "         .plot\n",
    "         .bar(ax=ax))                # create a bar graph on the ax\n",
    "    \n",
    "    ax.set_title(col)                # Make the title the name of the column\n",
    "    \n",
    "fig.tight_layout()\n"
   ]
  },
  {
   "cell_type": "code",
   "execution_count": null,
   "metadata": {},
   "outputs": [],
   "source": [
    "#sns.heatmap(df_norm);"
   ]
  },
  {
   "cell_type": "markdown",
   "metadata": {},
   "source": [
    "## One-Hot Encoding using Skilearn"
   ]
  },
  {
   "cell_type": "code",
   "execution_count": null,
   "metadata": {},
   "outputs": [],
   "source": [
    "#trying sklearn method\n",
    "ohe = OneHotEncoder(drop='first')"
   ]
  },
  {
   "cell_type": "code",
   "execution_count": null,
   "metadata": {},
   "outputs": [],
   "source": [
    "data_trans = ohe.fit_transform(king_preprocessed)\n",
    "data_trans.todense()"
   ]
  },
  {
   "cell_type": "code",
   "execution_count": null,
   "metadata": {},
   "outputs": [],
   "source": [
    "data_trans = pd.DataFrame(data_trans.todense(), columns=ohe.get_feature_names())\n",
    "data_trans.head()"
   ]
  },
  {
   "cell_type": "code",
   "execution_count": null,
   "metadata": {},
   "outputs": [],
   "source": []
  }
 ],
 "metadata": {
  "kernelspec": {
   "display_name": "Python 3",
   "language": "python",
   "name": "python3"
  },
  "language_info": {
   "codemirror_mode": {
    "name": "ipython",
    "version": 3
   },
   "file_extension": ".py",
   "mimetype": "text/x-python",
   "name": "python",
   "nbconvert_exporter": "python",
   "pygments_lexer": "ipython3",
   "version": "3.8.5"
  },
  "toc": {
   "base_numbering": 1,
   "nav_menu": {},
   "number_sections": true,
   "sideBar": true,
   "skip_h1_title": false,
   "title_cell": "Table of Contents",
   "title_sidebar": "Contents",
   "toc_cell": false,
   "toc_position": {
    "height": "641px",
    "left": "231px",
    "top": "488.125px",
    "width": "212px"
   },
   "toc_section_display": true,
   "toc_window_display": true
  },
  "varInspector": {
   "cols": {
    "lenName": 16,
    "lenType": 16,
    "lenVar": 40
   },
   "kernels_config": {
    "python": {
     "delete_cmd_postfix": "",
     "delete_cmd_prefix": "del ",
     "library": "var_list.py",
     "varRefreshCmd": "print(var_dic_list())"
    },
    "r": {
     "delete_cmd_postfix": ") ",
     "delete_cmd_prefix": "rm(",
     "library": "var_list.r",
     "varRefreshCmd": "cat(var_dic_list()) "
    }
   },
   "types_to_exclude": [
    "module",
    "function",
    "builtin_function_or_method",
    "instance",
    "_Feature"
   ],
   "window_display": false
  }
 },
 "nbformat": 4,
 "nbformat_minor": 2
}
